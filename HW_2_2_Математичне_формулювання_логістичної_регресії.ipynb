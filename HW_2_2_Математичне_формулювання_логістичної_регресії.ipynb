{
  "nbformat": 4,
  "nbformat_minor": 0,
  "metadata": {
    "colab": {
      "provenance": [],
      "include_colab_link": true
    },
    "kernelspec": {
      "name": "python3",
      "display_name": "Python 3"
    },
    "language_info": {
      "name": "python"
    }
  },
  "cells": [
    {
      "cell_type": "markdown",
      "metadata": {
        "id": "view-in-github",
        "colab_type": "text"
      },
      "source": [
        "<a href=\"https://colab.research.google.com/github/o-semenkova/ml_home_tasks/blob/main/HW_2_2_%D0%9C%D0%B0%D1%82%D0%B5%D0%BC%D0%B0%D1%82%D0%B8%D1%87%D0%BD%D0%B5_%D1%84%D0%BE%D1%80%D0%BC%D1%83%D0%BB%D1%8E%D0%B2%D0%B0%D0%BD%D0%BD%D1%8F_%D0%BB%D0%BE%D0%B3%D1%96%D1%81%D1%82%D0%B8%D1%87%D0%BD%D0%BE%D1%97_%D1%80%D0%B5%D0%B3%D1%80%D0%B5%D1%81%D1%96%D1%97.ipynb\" target=\"_parent\"><img src=\"https://colab.research.google.com/assets/colab-badge.svg\" alt=\"Open In Colab\"/></a>"
      ]
    },
    {
      "cell_type": "markdown",
      "source": [
        "В цьому домашньому завданні ми реалізуємо логістичну регресію на `numpy`.\n",
        "Ці завдання допоможуть вам ґрунтовно засвоїти основні концепції логістичної регресії та реалізувати їх на практиці 🔥\n",
        "\n",
        "#### Завдання 1: Реалізація функції сигмоїди\n",
        "1. З використанням `numpy` напишіть функцію `sigmoid(z)` для обчислення значення сигмоїди згідно з формулою:\n",
        "   $$\n",
        "   \\sigma(z) = \\frac{1}{1 + e^{-z}}\n",
        "   $$\n",
        "2. Використовуючи цю функцію, обчисліть значення сигмоїди для наступних даних: $ z = [-2, -1, 0, 1, 2] $. Виведіть результат обчислень.\n"
      ],
      "metadata": {
        "id": "KxRmdyv5CIZe"
      }
    },
    {
      "cell_type": "code",
      "source": [
        "import numpy as np"
      ],
      "metadata": {
        "id": "cr32Vy4VwhfX"
      },
      "execution_count": 16,
      "outputs": []
    },
    {
      "cell_type": "code",
      "source": [
        "def sigmoid(z):\n",
        "    \"\"\"\n",
        "    Обчислює сигмоїдну функцію для вхідного значення або масиву значень.\n",
        "\n",
        "    Формула: sigmoid(z) = 1 / (1 + exp(-z))\n",
        "\n",
        "    :param z: Вхідне значення або numpy масив.\n",
        "    :return: Значення сигмоїди, застосоване до z.\n",
        "    \"\"\"\n",
        "    return 1 / (1 + np.exp(-z))"
      ],
      "metadata": {
        "id": "v9ilfXulL2wP"
      },
      "execution_count": 17,
      "outputs": []
    },
    {
      "cell_type": "code",
      "source": [
        "z = np.array([-2, -1, 0, 1, 2])\n",
        "print(sigmoid(z))"
      ],
      "metadata": {
        "id": "rqMv7HOcv7BX",
        "outputId": "5e83d97d-56df-4217-e2f6-521f629e4a8b",
        "colab": {
          "base_uri": "https://localhost:8080/"
        }
      },
      "execution_count": 18,
      "outputs": [
        {
          "output_type": "stream",
          "name": "stdout",
          "text": [
            "[0.11920292 0.26894142 0.5        0.73105858 0.88079708]\n"
          ]
        }
      ]
    },
    {
      "cell_type": "markdown",
      "source": [
        "\n",
        "\n",
        "#### Завдання 2: Реалізація функції гіпотези для логістичної регресії\n",
        "1. Напишіть функцію `hypothesis(theta, X)`, яка обчислює гіпотезу для логістичної регресії, використовуючи функцію сигмоїди. Формула гіпотези:\n",
        "   $$\n",
        "   h_\\theta(x) = \\sigma(\\theta^T x) = \\frac{1}{1 + e^{-\\theta^T x}}\n",
        "   $$\n",
        "2. Використайте функцію `hypothesis` для обчислення значень гіпотези для наступних даних:\n",
        "   \n",
        "   $\\theta = [0.5, -0.5]$\n",
        "   \n",
        "   $X = \\begin{bmatrix} 1 & 2 \\\\ 1 & -1 \\\\ 1 & 0 \\\\ 1 & 1 \\end{bmatrix}$\n",
        "\n",
        "  Виведіть результат обчислень.\n"
      ],
      "metadata": {
        "id": "LVd_jCGNCR1F"
      }
    },
    {
      "cell_type": "code",
      "source": [
        "def hypothesis(theta, X):\n",
        "    \"\"\"\n",
        "    Обчислює гіпотезу для логістичної регресії.\n",
        "\n",
        "    Використовує сигмоїдну функцію для обчислення прогнозованої ймовірності.\n",
        "\n",
        "    :param theta: Numpy-масив параметрів (розмір n або (n, 1)).\n",
        "    :param X: Numpy-масив ознак (розмір (m, n), де m — кількість прикладів).\n",
        "    :return: Numpy-масив з прогнозованими значеннями (гіпотеза) для кожного прикладу.\n",
        "    \"\"\"\n",
        "    return sigmoid(np.dot(X, theta))"
      ],
      "metadata": {
        "id": "dKDHv-YtL3TA"
      },
      "execution_count": 19,
      "outputs": []
    },
    {
      "cell_type": "code",
      "source": [
        "theta = np.array([0.5, -0.5])\n",
        "X = np.array([[1, 2],\n",
        "              [1, -1],\n",
        "              [1, 0],\n",
        "              [1, 1]])\n",
        "print(hypothesis(theta, X))"
      ],
      "metadata": {
        "id": "ZG1y4yEbxJKX",
        "outputId": "76cdfa2b-cd5f-4c6f-f4c8-8721dae990b5",
        "colab": {
          "base_uri": "https://localhost:8080/"
        }
      },
      "execution_count": 20,
      "outputs": [
        {
          "output_type": "stream",
          "name": "stdout",
          "text": [
            "[0.37754067 0.73105858 0.62245933 0.5       ]\n"
          ]
        }
      ]
    },
    {
      "cell_type": "markdown",
      "source": [
        "#### Завдання 3: Реалізація функції для підрахунку градієнтів фукнції втрат\n",
        "1. Напишіть функцію `compute_gradient(theta, X, y)`, яка обчислює градієнти функції втрат для логістичної регресії. Формула для обчислення градієнта:\n",
        "   $$\n",
        "   \\frac{\\partial L(\\theta)}{\\partial \\theta_j} = \\frac{1}{m} \\sum_{i=1}^{m} \\left[ (h_\\theta(x^{(i)}) - y^{(i)}) x_j^{(i)} \\right]\n",
        "   $$\n",
        "2. Використайте функцію `compute_gradient` для обчислення градієнтів для наступних даних:\n",
        "\n",
        "  $\\theta = [0.5, -0.5]$\n",
        "\n",
        "  $X = \\begin{bmatrix} 1 & 2 \\\\ 1 & -1 \\\\ 1 & 0 \\\\ 1 & 1 \\end{bmatrix}$\n",
        "\n",
        "  $y = [1, 0, 1, 0]$\n",
        "\n",
        "  Виведіть результат обчислень."
      ],
      "metadata": {
        "id": "MWASH4Z4ClTo"
      }
    },
    {
      "cell_type": "code",
      "source": [
        "def compute_gradient(theta, X, y):\n",
        "    \"\"\"\n",
        "    Обчислює градієнт функції втрат для логістичної регресії.\n",
        "\n",
        "    Градієнт обчислюється за формулою:\n",
        "        gradient = (1/m) * X.T * (h - y)\n",
        "    де h = sigmoid(X * theta), а m – кількість прикладів.\n",
        "\n",
        "    :param theta: Numpy-масив параметрів (розмір n або (n, 1)).\n",
        "    :param X: Numpy-масив ознак (розмір (m, n), де m – кількість прикладів).\n",
        "    :param y: Набір міток (розмір (m,) або (m, 1)).\n",
        "    :return: Градієнт (numpy-масив того ж розміру, що й theta).\n",
        "    \"\"\"\n",
        "    m = y.shape[0]\n",
        "    h = sigmoid(np.dot(X, theta))\n",
        "    gradient = (1/m) * np.dot(X.T, (h - y))\n",
        "    return gradient"
      ],
      "metadata": {
        "id": "0DM4xqZCL32i"
      },
      "execution_count": 21,
      "outputs": []
    },
    {
      "cell_type": "code",
      "source": [
        "theta = np.array([0.5, -0.5])\n",
        "X = np.array([[1, 2],\n",
        "              [1, -1],\n",
        "              [1, 0],\n",
        "              [1, 1]])\n",
        "y = np.array([1, 0, 1, 0])\n",
        "\n",
        "print(compute_gradient(theta, X, y))"
      ],
      "metadata": {
        "id": "6w14Bri6z7uf",
        "outputId": "1baca1ec-27ca-4b72-97a8-a785556e0b51",
        "colab": {
          "base_uri": "https://localhost:8080/"
        }
      },
      "execution_count": 22,
      "outputs": [
        {
          "output_type": "stream",
          "name": "stdout",
          "text": [
            "[ 0.05776464 -0.36899431]\n"
          ]
        }
      ]
    },
    {
      "cell_type": "markdown",
      "source": [
        "\n",
        "#### Завдання 4: Реалізація повного батч градієнтного спуску\n",
        "\n",
        "**Задача:**\n",
        "1. Напишіть функцію `full_batch_gradient_descent(X, y, lr=0.1, epochs=100)`, яка реалізує алгоритм Full градієнтного спуску для логістичної регресії. Використовуйте такі формули:\n",
        "   - Гіпотеза: $ h_\\theta(x) = \\sigma(\\theta^T x) $\n",
        "   - Оновлення параметрів: $ \\theta_j := \\theta_j - \\alpha \\frac{\\partial L(\\theta)}{\\partial \\theta_j} $\n",
        "2. Використайте функцію `full_batch_gradient_descent` для обчислення параметрів моделі на наступних даних:\n",
        "\n",
        "  $X = \\begin{bmatrix} 1 & 2 \\\\ 1 & -1 \\\\ 1 & 0 \\\\ 1 & 1 \\end{bmatrix}$\n",
        "\n",
        "  $y = [1, 0, 1, 0]$\n",
        "\n",
        "  Увага! Матриця $X$ вже має стовпець одиниць і передбачається, що це. - стовпець для intercept - параметра зсуву.\n",
        "\n",
        "  Виведіть результат обчислень.\n"
      ],
      "metadata": {
        "id": "nOtJEtdnC1K9"
      }
    },
    {
      "cell_type": "code",
      "source": [
        "def full_batch_gradient_descent(X, y, lr=0.1, epochs=100):\n",
        "    \"\"\"\n",
        "    Реалізує алгоритм повного (full) градієнтного спуску для логістичної регресії.\n",
        "\n",
        "    Параметри:\n",
        "      X - матриця ознак розміру (m, n), де перший стовпець містить одиниці для intercept.\n",
        "      y - вектор міток розміру (m,) або (m,1)\n",
        "      lr - швидкість навчання (learning rate)\n",
        "      epochs - кількість ітерацій (епох)\n",
        "\n",
        "    Повертає:\n",
        "      theta - оптимізований вектор параметрів (numpy-масив)\n",
        "      history - список значень функції втрат (опціонально, якщо потрібно відслідковувати зниження втрат)\n",
        "    \"\"\"\n",
        "    m, n = X.shape\n",
        "    theta = np.zeros(n)  # ініціалізація параметрів\n",
        "    history = []         # для зберігання історії втрат\n",
        "\n",
        "    for epoch in range(epochs):\n",
        "        grad = compute_gradient(theta, X, y)\n",
        "        theta = theta - lr * grad\n",
        "\n",
        "        # Обчислення функції втрат для логістичної регресії\n",
        "        h = sigmoid(np.dot(X, theta))\n",
        "        # Уникаємо log(0) додаванням маленького значення\n",
        "        epsilon = 1e-5\n",
        "        cost = - (1 / m) * np.sum(y * np.log(h + epsilon) + (1 - y) * np.log(1 - h + epsilon))\n",
        "        history.append(cost)\n",
        "        print(f\"Epoch {epoch + 1}/{epochs}, Cost: {cost:.4f}\")\n",
        "\n",
        "    return theta, history"
      ],
      "metadata": {
        "id": "fHtUOTxXL4Yy"
      },
      "execution_count": 23,
      "outputs": []
    },
    {
      "cell_type": "code",
      "source": [
        "X = np.array([[1, 2],\n",
        "              [1, -1],\n",
        "              [1, 0],\n",
        "              [1, 1]])\n",
        "y = np.array([1, 0, 1, 0])\n",
        "\n",
        "print(full_batch_gradient_descent(X, y))"
      ],
      "metadata": {
        "id": "XOVhsnG2021B",
        "outputId": "236e09c7-a754-4898-c55a-b39c42bb59da",
        "colab": {
          "base_uri": "https://localhost:8080/"
        }
      },
      "execution_count": 24,
      "outputs": [
        {
          "output_type": "stream",
          "name": "stdout",
          "text": [
            "Epoch 1/100, Cost: 0.6870\n",
            "Epoch 2/100, Cost: 0.6813\n",
            "Epoch 3/100, Cost: 0.6760\n",
            "Epoch 4/100, Cost: 0.6711\n",
            "Epoch 5/100, Cost: 0.6666\n",
            "Epoch 6/100, Cost: 0.6624\n",
            "Epoch 7/100, Cost: 0.6584\n",
            "Epoch 8/100, Cost: 0.6548\n",
            "Epoch 9/100, Cost: 0.6514\n",
            "Epoch 10/100, Cost: 0.6482\n",
            "Epoch 11/100, Cost: 0.6452\n",
            "Epoch 12/100, Cost: 0.6424\n",
            "Epoch 13/100, Cost: 0.6398\n",
            "Epoch 14/100, Cost: 0.6373\n",
            "Epoch 15/100, Cost: 0.6350\n",
            "Epoch 16/100, Cost: 0.6328\n",
            "Epoch 17/100, Cost: 0.6308\n",
            "Epoch 18/100, Cost: 0.6289\n",
            "Epoch 19/100, Cost: 0.6271\n",
            "Epoch 20/100, Cost: 0.6254\n",
            "Epoch 21/100, Cost: 0.6238\n",
            "Epoch 22/100, Cost: 0.6222\n",
            "Epoch 23/100, Cost: 0.6208\n",
            "Epoch 24/100, Cost: 0.6194\n",
            "Epoch 25/100, Cost: 0.6181\n",
            "Epoch 26/100, Cost: 0.6169\n",
            "Epoch 27/100, Cost: 0.6157\n",
            "Epoch 28/100, Cost: 0.6146\n",
            "Epoch 29/100, Cost: 0.6136\n",
            "Epoch 30/100, Cost: 0.6126\n",
            "Epoch 31/100, Cost: 0.6116\n",
            "Epoch 32/100, Cost: 0.6107\n",
            "Epoch 33/100, Cost: 0.6098\n",
            "Epoch 34/100, Cost: 0.6090\n",
            "Epoch 35/100, Cost: 0.6082\n",
            "Epoch 36/100, Cost: 0.6075\n",
            "Epoch 37/100, Cost: 0.6068\n",
            "Epoch 38/100, Cost: 0.6061\n",
            "Epoch 39/100, Cost: 0.6054\n",
            "Epoch 40/100, Cost: 0.6048\n",
            "Epoch 41/100, Cost: 0.6042\n",
            "Epoch 42/100, Cost: 0.6036\n",
            "Epoch 43/100, Cost: 0.6030\n",
            "Epoch 44/100, Cost: 0.6025\n",
            "Epoch 45/100, Cost: 0.6020\n",
            "Epoch 46/100, Cost: 0.6015\n",
            "Epoch 47/100, Cost: 0.6010\n",
            "Epoch 48/100, Cost: 0.6005\n",
            "Epoch 49/100, Cost: 0.6001\n",
            "Epoch 50/100, Cost: 0.5997\n",
            "Epoch 51/100, Cost: 0.5993\n",
            "Epoch 52/100, Cost: 0.5989\n",
            "Epoch 53/100, Cost: 0.5985\n",
            "Epoch 54/100, Cost: 0.5981\n",
            "Epoch 55/100, Cost: 0.5978\n",
            "Epoch 56/100, Cost: 0.5974\n",
            "Epoch 57/100, Cost: 0.5971\n",
            "Epoch 58/100, Cost: 0.5968\n",
            "Epoch 59/100, Cost: 0.5965\n",
            "Epoch 60/100, Cost: 0.5962\n",
            "Epoch 61/100, Cost: 0.5959\n",
            "Epoch 62/100, Cost: 0.5957\n",
            "Epoch 63/100, Cost: 0.5954\n",
            "Epoch 64/100, Cost: 0.5951\n",
            "Epoch 65/100, Cost: 0.5949\n",
            "Epoch 66/100, Cost: 0.5947\n",
            "Epoch 67/100, Cost: 0.5944\n",
            "Epoch 68/100, Cost: 0.5942\n",
            "Epoch 69/100, Cost: 0.5940\n",
            "Epoch 70/100, Cost: 0.5938\n",
            "Epoch 71/100, Cost: 0.5936\n",
            "Epoch 72/100, Cost: 0.5934\n",
            "Epoch 73/100, Cost: 0.5932\n",
            "Epoch 74/100, Cost: 0.5930\n",
            "Epoch 75/100, Cost: 0.5928\n",
            "Epoch 76/100, Cost: 0.5927\n",
            "Epoch 77/100, Cost: 0.5925\n",
            "Epoch 78/100, Cost: 0.5923\n",
            "Epoch 79/100, Cost: 0.5922\n",
            "Epoch 80/100, Cost: 0.5920\n",
            "Epoch 81/100, Cost: 0.5919\n",
            "Epoch 82/100, Cost: 0.5917\n",
            "Epoch 83/100, Cost: 0.5916\n",
            "Epoch 84/100, Cost: 0.5915\n",
            "Epoch 85/100, Cost: 0.5913\n",
            "Epoch 86/100, Cost: 0.5912\n",
            "Epoch 87/100, Cost: 0.5911\n",
            "Epoch 88/100, Cost: 0.5910\n",
            "Epoch 89/100, Cost: 0.5908\n",
            "Epoch 90/100, Cost: 0.5907\n",
            "Epoch 91/100, Cost: 0.5906\n",
            "Epoch 92/100, Cost: 0.5905\n",
            "Epoch 93/100, Cost: 0.5904\n",
            "Epoch 94/100, Cost: 0.5903\n",
            "Epoch 95/100, Cost: 0.5902\n",
            "Epoch 96/100, Cost: 0.5901\n",
            "Epoch 97/100, Cost: 0.5900\n",
            "Epoch 98/100, Cost: 0.5900\n",
            "Epoch 99/100, Cost: 0.5899\n",
            "Epoch 100/100, Cost: 0.5898\n",
            "(array([-0.2893693 ,  0.77655125]), [np.float64(0.6869944794675632), np.float64(0.6813110481158191), np.float64(0.676039914122943), np.float64(0.6711470520436678), np.float64(0.6666012231851375), np.float64(0.6623738030467843), np.float64(0.6584386033193393), np.float64(0.6547716936129675), np.float64(0.6513512267579844), np.float64(0.648157270426205), np.float64(0.6451716469372848), np.float64(0.642377782417083), np.float64(0.6397605659367744), np.float64(0.637306218855502), np.float64(0.6350021742912598), np.float64(0.6328369664328102), np.float64(0.6308001292612253), np.float64(0.6288821041577102), np.float64(0.6270741558219982), np.float64(0.6253682959027074), np.float64(0.6237572137395011), np.float64(0.6222342136304435), np.float64(0.6207931580617209), np.float64(0.6194284163672402), np.float64(0.6181348183197637), np.float64(0.6169076121911617), np.float64(0.6157424268556296), np.float64(0.6146352375452755), np.float64(0.6135823349016709), np.float64(0.612580296999326), np.float64(0.6116259640473305), np.float64(0.6107164155034951), np.float64(0.6098489493611848), np.float64(0.6090210633927098), np.float64(0.6082304381547037), np.float64(0.6074749215805074), np.float64(0.606752515002279), np.float64(0.6060613604615575), np.float64(0.6053997291814002), np.float64(0.6047660110861847), np.float64(0.60415870526679), np.float64(0.6035764112993253), np.float64(0.6030178213349334), np.float64(0.6024817128865856), np.float64(0.6019669422463048), np.float64(0.6014724384729808), np.float64(0.6009971978969704), np.float64(0.6005402790930721), np.float64(0.6001007982782995), np.float64(0.5996779250952048), np.float64(0.5992708787453828), np.float64(0.598878924441265), np.float64(0.5985013701474247), np.float64(0.5981375635854153), np.float64(0.5977868894786675), np.float64(0.5974487670162257), np.float64(0.5971226475161274), np.float64(0.5968080122710465), np.float64(0.5965043705604552), np.float64(0.5962112578150358), np.float64(0.5959282339203923), np.float64(0.5956548816483082), np.float64(0.5953908052048761), np.float64(0.5951356288857879), np.float64(0.5948889958299596), np.float64(0.5946505668634502), np.float64(0.5944200194263516), np.float64(0.5941970465759743), np.float64(0.5939813560602405), np.float64(0.5937726694557235), np.float64(0.593570721365257), np.float64(0.5933752586704715), np.float64(0.5931860398350142), np.float64(0.5930028342545626), np.float64(0.5928254216500763), np.float64(0.592653591501022), np.float64(0.5924871425155813), np.float64(0.5923258821350957), np.float64(0.5921696260702268), np.float64(0.5920181978665162), np.float64(0.5918714284972143), np.float64(0.5917291559814186), np.float64(0.5915912250257185), np.float64(0.5914574866876835), np.float64(0.5913277980596634), np.float64(0.5912020219714902), np.float64(0.5910800267107745), np.float64(0.590961685759597), np.float64(0.5908468775464789), np.float64(0.590735485212608), np.float64(0.5906273963913653), np.float64(0.5905225030002751), np.float64(0.5904207010445621), np.float64(0.5903218904315632), np.float64(0.5902259747952884), np.float64(0.5901328613304888), np.float64(0.5900424606356238), np.float64(0.5899546865641704), np.float64(0.5898694560837527), np.float64(0.5897866891426112)])\n"
          ]
        }
      ]
    },
    {
      "cell_type": "markdown",
      "source": [
        "#### Завдання 5. Обчислення точності моделі\n",
        "\n",
        "1. Напишіть функцію `predict_proba(theta, X)`, яка використовує знайдені параметри $\\theta$ для обчислення ймовірностей належності поточного прикладу з даних до класу $y=1$ на основі значень $\\sigma(\\theta^T x)$.\n",
        "\n",
        "2. Напишіть функцію `predict(theta, X, threshold=0.5)`, яка обчислює клас з передбаченої імовірності належності екземпляра до класу 1 з порогом 0.5. Тобто якщо ймовірність менше 0.5, то передбачаємо клас 0, інакше клас 1.\n",
        "\n",
        "3. Напишіть функцію `accuracy(y_true, y_pred)`, яка обчислює точність моделі, визначивши частку правильно передбачених класів.\n",
        "\n",
        "  Формула метрики Accuracy:\n",
        "  $$\n",
        "  \\text{Accuracy} = \\frac{\\sum_{i=1}^{m} I(\\hat{{y}^{(i)}} = y^{(i)})}{m}\n",
        "  $$\n",
        "\n",
        "  де $\\hat{{y}^{(i)}}$ - передбачене значення класу, $I$ - індикаторна функція (яка дорівнює 1, якщо умова виконується, і 0 - якщо ні), $m$ - кількість прикладів.\n",
        "\n",
        "4. Обчисліть з використанням даних в завданні 4 $X$, $y$ та обчислених коефіцієнтах $\\theta$ та виведіть на екран:\n",
        "  - передбачені моделлю імовірності належності кожного з екземплярів в матриці `X` до класу 1\n",
        "  - класи кожного екземпляра з матриці `X`\n",
        "  - точність моделі."
      ],
      "metadata": {
        "id": "E4iZV55cE5f3"
      }
    },
    {
      "cell_type": "code",
      "source": [
        "def predict_proba(theta, X):\n",
        "    \"\"\"\n",
        "    Обчислює ймовірність належності кожного прикладу з матриці X до класу y=1,\n",
        "    використовуючи параметри логістичної регресії theta.\n",
        "\n",
        "    Формула: p = σ(X * theta), де σ - сигмоїдна функція.\n",
        "\n",
        "    :param theta: numpy-масив параметрів (розмір (n,) або (n,1))\n",
        "    :param X: numpy-масив ознак (розмір (m, n)), де перший стовпець містить одиниці для intercept.\n",
        "    :return: numpy-масив ймовірностей, що кожен приклад належить до класу y=1.\n",
        "    \"\"\"\n",
        "    return sigmoid(np.dot(X, theta))\n",
        "\n",
        "def predict(theta, X, threshold=0.5):\n",
        "    \"\"\"\n",
        "    Обчислює клас для кожного прикладу на основі передбаченої ймовірності,\n",
        "    використовуючи заданий поріг (threshold).\n",
        "\n",
        "    Якщо ймовірність >= threshold, повертається 1, інакше 0.\n",
        "\n",
        "    :param theta: numpy-масив параметрів логістичної регресії.\n",
        "    :param X: numpy-масив ознак (X вже містить стовпець одиниць для intercept).\n",
        "    :param threshold: поріг для класифікації (за замовчуванням 0.5).\n",
        "    :return: numpy-масив передбачених класів (0 або 1) для кожного прикладу.\n",
        "    \"\"\"\n",
        "    probabilities = predict_proba(theta, X)\n",
        "    return (probabilities >= threshold).astype(int)\n",
        "\n",
        "def accuracy(y_true, y_pred):\n",
        "    \"\"\"\n",
        "    Обчислює точність моделі як частку правильно передбачених класів.\n",
        "\n",
        "    Формула:\n",
        "      Accuracy = (1/m) * Σ I(y_pred[i] == y_true[i])\n",
        "\n",
        "    :param y_true: numpy-масив істинних значень класів (розмір m,)\n",
        "    :param y_pred: numpy-масив передбачених значень класів (розмір m,)\n",
        "    :return: Точність моделі (float)\n",
        "    \"\"\"\n",
        "    m = y_true.shape[0]\n",
        "    correct = np.sum(y_true == y_pred)\n",
        "    return correct / m"
      ],
      "metadata": {
        "id": "85ZZfPtjrsai"
      },
      "execution_count": 25,
      "outputs": []
    },
    {
      "cell_type": "code",
      "source": [
        "# Обчислення передбачених ймовірностей\n",
        "probs = predict_proba(theta, X)\n",
        "print(\"Predicted probabilities:\", probs)\n",
        "\n",
        "# Обчислення передбачених класів\n",
        "preds = predict(theta, X, threshold=0.5)\n",
        "print(\"Predicted classes:\", preds)\n",
        "\n",
        "# Обчислення точності моделі\n",
        "acc = accuracy(y, preds)\n",
        "print(\"Model accuracy:\", acc)"
      ],
      "metadata": {
        "id": "5tfJg6ux5EV4",
        "outputId": "deb22a5d-58ec-4a3a-a27f-83862d5b4d57",
        "colab": {
          "base_uri": "https://localhost:8080/"
        }
      },
      "execution_count": 26,
      "outputs": [
        {
          "output_type": "stream",
          "name": "stdout",
          "text": [
            "Predicted probabilities: [0.37754067 0.73105858 0.62245933 0.5       ]\n",
            "Predicted classes: [0 1 1 1]\n",
            "Model accuracy: 0.25\n"
          ]
        }
      ]
    }
  ]
}