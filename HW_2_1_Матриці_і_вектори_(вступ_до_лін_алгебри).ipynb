{
  "nbformat": 4,
  "nbformat_minor": 0,
  "metadata": {
    "colab": {
      "provenance": [],
      "include_colab_link": true
    },
    "kernelspec": {
      "name": "python3",
      "display_name": "Python 3"
    },
    "language_info": {
      "name": "python"
    }
  },
  "cells": [
    {
      "cell_type": "markdown",
      "metadata": {
        "id": "view-in-github",
        "colab_type": "text"
      },
      "source": [
        "<a href=\"https://colab.research.google.com/github/o-semenkova/ml_home_tasks/blob/main/HW_2_1_%D0%9C%D0%B0%D1%82%D1%80%D0%B8%D1%86%D1%96_%D1%96_%D0%B2%D0%B5%D0%BA%D1%82%D0%BE%D1%80%D0%B8_(%D0%B2%D1%81%D1%82%D1%83%D0%BF_%D0%B4%D0%BE_%D0%BB%D1%96%D0%BD_%D0%B0%D0%BB%D0%B3%D0%B5%D0%B1%D1%80%D0%B8).ipynb\" target=\"_parent\"><img src=\"https://colab.research.google.com/assets/colab-badge.svg\" alt=\"Open In Colab\"/></a>"
      ]
    },
    {
      "cell_type": "markdown",
      "source": [
        "### Завдання 1: Створення матриць та векторів\n",
        "1. Створіть `numpy` вектор `vector` розмірністю 10 з випадковими дійсними значеннями в діапазоні від 0 до 1. Можна скористатись двома альтернативними варіантами:\n",
        "  1. Генерація випадкових чисел з модулем [`random.uniform`](https://docs.python.org/3/library/random.html).\n",
        "  2. Створення вектора з допомогою метода `numpy` [np.random.rand](https://numpy.org/doc/stable/reference/random/generated/numpy.random.rand.html)\n",
        "\n",
        "2. Створіть матрицю `matrix` типу `numpy.array` розмірності 3x3 з наступними значеннями\n",
        "\n",
        "  $$\n",
        "  matrix = \\begin{bmatrix}\n",
        "  11 & 14 & 17 \\\\\n",
        "  20 & 23 & 26 \\\\\n",
        "  29 & 32 & 35\n",
        "  \\end{bmatrix}\n",
        "  $$\n",
        "\n",
        "  будь-яким відомими Вам способом.\n",
        "\n",
        "Виведіть на екран вектор і матрицю, а також їх розміри.\n"
      ],
      "metadata": {
        "id": "efug1V4CM0lT"
      }
    },
    {
      "cell_type": "code",
      "source": [
        "import random\n",
        "import numpy as np"
      ],
      "metadata": {
        "id": "pwrl1Qd9tUyd"
      },
      "execution_count": 26,
      "outputs": []
    },
    {
      "cell_type": "code",
      "source": [
        "def get_array_with_one_random_element():\n",
        "  element = random.uniform(0, 1)\n",
        "  return [element]\n",
        "\n",
        "def create_n_size_vector(n):\n",
        "  random_list = [get_array_with_one_random_element() for _ in range(n)]\n",
        "  return np.array(random_list)\n",
        "\n",
        "v = create_n_size_vector(10)\n",
        "print(v, v.shape)"
      ],
      "metadata": {
        "id": "jxA_lG2_VIMe",
        "colab": {
          "base_uri": "https://localhost:8080/"
        },
        "outputId": "e24efe36-c736-43bc-830c-61e6c206bc6a"
      },
      "execution_count": 27,
      "outputs": [
        {
          "output_type": "stream",
          "name": "stdout",
          "text": [
            "[[0.46998077]\n",
            " [0.31774001]\n",
            " [0.34239487]\n",
            " [0.06142044]\n",
            " [0.11547193]\n",
            " [0.77676424]\n",
            " [0.62541758]\n",
            " [0.98509749]\n",
            " [0.6133933 ]\n",
            " [0.46089127]] (10, 1)\n"
          ]
        }
      ]
    },
    {
      "cell_type": "code",
      "source": [
        "v2 = np.random.rand(10)\n",
        "print(v2, v2.shape)"
      ],
      "metadata": {
        "colab": {
          "base_uri": "https://localhost:8080/"
        },
        "id": "OKEP8IYSw-xP",
        "outputId": "d7031b7a-88c1-4a21-cadd-a592380bfe0f"
      },
      "execution_count": 28,
      "outputs": [
        {
          "output_type": "stream",
          "name": "stdout",
          "text": [
            "[0.63164982 0.92121356 0.11791247 0.17363523 0.81624278 0.20749192\n",
            " 0.15917276 0.1169961  0.54390061 0.50268544] (10,)\n"
          ]
        }
      ]
    },
    {
      "cell_type": "code",
      "source": [
        "matrix = np.array([[11, 14, 17],\n",
        "              [20, 23, 26],\n",
        "            [29, 32, 35]])\n",
        "print(matrix, matrix.shape)"
      ],
      "metadata": {
        "colab": {
          "base_uri": "https://localhost:8080/"
        },
        "id": "KM2W5lX8xkWF",
        "outputId": "0bc04c10-ddc5-4709-ddcb-d69b711cdb29"
      },
      "execution_count": 29,
      "outputs": [
        {
          "output_type": "stream",
          "name": "stdout",
          "text": [
            "[[11 14 17]\n",
            " [20 23 26]\n",
            " [29 32 35]] (3, 3)\n"
          ]
        }
      ]
    },
    {
      "cell_type": "markdown",
      "source": [
        "\n",
        "### Завдання 2: Операції над векторами та матрицями\n",
        "Виконайте кожну з зазначених операцій над зазначеними оʼєктами і виведіть результат на екран:\n",
        "1. Додайте до кожного значення вектора `vector` число 10 і округліть кожне значення до 2 знаків після коми без використання циклів.\n",
        "2. Помножте кожен елемент матриці з першого завдання на 2 без використання циклів.\n",
        "3. Створіть новий вектор, який містить квадрат кожного `vector` без циклів.\n"
      ],
      "metadata": {
        "id": "TSJ1P4OuOVe2"
      }
    },
    {
      "cell_type": "code",
      "source": [
        "number_to_add = 10\n",
        "rounded_vector = np.round(v + number_to_add, decimals=2)\n",
        "print(rounded_vector)"
      ],
      "metadata": {
        "id": "nAAojtyUVJXN",
        "colab": {
          "base_uri": "https://localhost:8080/"
        },
        "outputId": "6ddaa4fe-bad9-4d13-aeac-cbbcbef6c4b6"
      },
      "execution_count": 30,
      "outputs": [
        {
          "output_type": "stream",
          "name": "stdout",
          "text": [
            "[[10.47]\n",
            " [10.32]\n",
            " [10.34]\n",
            " [10.06]\n",
            " [10.12]\n",
            " [10.78]\n",
            " [10.63]\n",
            " [10.99]\n",
            " [10.61]\n",
            " [10.46]]\n"
          ]
        }
      ]
    },
    {
      "cell_type": "code",
      "source": [
        "number = 2\n",
        "\n",
        "result = np.multiply(matrix, number)\n",
        "print(result)"
      ],
      "metadata": {
        "colab": {
          "base_uri": "https://localhost:8080/"
        },
        "id": "Sy-BNQpZ0ZaA",
        "outputId": "1b615c2e-eff8-475c-f814-5a9141c587ac"
      },
      "execution_count": 31,
      "outputs": [
        {
          "output_type": "stream",
          "name": "stdout",
          "text": [
            "[[22 28 34]\n",
            " [40 46 52]\n",
            " [58 64 70]]\n"
          ]
        }
      ]
    },
    {
      "cell_type": "code",
      "source": [
        "squared = np.square(v2)\n",
        "print(squared)"
      ],
      "metadata": {
        "colab": {
          "base_uri": "https://localhost:8080/"
        },
        "id": "L6-2anBZ1Y3u",
        "outputId": "daaafe16-f4cb-41b5-ea9f-167001717077"
      },
      "execution_count": 32,
      "outputs": [
        {
          "output_type": "stream",
          "name": "stdout",
          "text": [
            "[0.39898149 0.84863441 0.01390335 0.03014919 0.66625227 0.0430529\n",
            " 0.02533597 0.01368809 0.29582787 0.25269265]\n"
          ]
        }
      ]
    },
    {
      "cell_type": "markdown",
      "source": [
        "\n",
        "### Завдання 3: Множення матриць\n",
        "1. Задані дві матриці `A` і `B`розмірностями 3x2 та 2х3. Виконайте їхнє множення, щоб отримати матрицю 2x2. Виведіть результуючу матрицю `result_matrix` на екран.\n",
        "\n",
        "2. Заданий вектор `C` розмірністю 2х1. Подумайте спочатку, яку розмірність Ви отрмаєте, коли домножите `result_matrix` на вектор `C` і який результат буде. А потім виконайте множення і виведіть результат на екран.\n",
        "\n",
        "3. Задана матриця `D` розмірністю 2х2. Подумайте спочатку, яку розмірність Ви отрмаєте, коли домножите `result_matrix` на матрицю `D` і який результат буде. А потім виконайте множення і виведіть результат на екран."
      ],
      "metadata": {
        "id": "u6RvWVfhPy-k"
      }
    },
    {
      "cell_type": "code",
      "source": [
        "A = np.array(\n",
        "    [[0.18, 0.53],\n",
        "     [0.75, 0.47],\n",
        "     [0.35, 0.21]])\n",
        "\n",
        "B = np.array(\n",
        "    [[0.17, 0.58, 0.75],\n",
        "     [0.38, 0.11, 0.15]])\n",
        "\n",
        "C = np.array([[0], [1]])\n",
        "\n",
        "D = np.array([[0,1], [1,0]])\n",
        "\n",
        "display(A, B, C, D)"
      ],
      "metadata": {
        "id": "RwXfPzlbSJ44",
        "outputId": "eb80b1bd-0ac6-4c84-8562-7d97cef5a0ec",
        "colab": {
          "base_uri": "https://localhost:8080/",
          "height": 178
        }
      },
      "execution_count": 33,
      "outputs": [
        {
          "output_type": "display_data",
          "data": {
            "text/plain": [
              "array([[0.18, 0.53],\n",
              "       [0.75, 0.47],\n",
              "       [0.35, 0.21]])"
            ]
          },
          "metadata": {}
        },
        {
          "output_type": "display_data",
          "data": {
            "text/plain": [
              "array([[0.17, 0.58, 0.75],\n",
              "       [0.38, 0.11, 0.15]])"
            ]
          },
          "metadata": {}
        },
        {
          "output_type": "display_data",
          "data": {
            "text/plain": [
              "array([[0],\n",
              "       [1]])"
            ]
          },
          "metadata": {}
        },
        {
          "output_type": "display_data",
          "data": {
            "text/plain": [
              "array([[0, 1],\n",
              "       [1, 0]])"
            ]
          },
          "metadata": {}
        }
      ]
    },
    {
      "cell_type": "code",
      "source": [
        "# Перевiримо умови множення (1 матриця стовпцi = 2 матриця рядки)\n",
        "\n",
        "A.shape, B.shape"
      ],
      "metadata": {
        "id": "pF-YAjHv6_jr",
        "outputId": "ccf9c46b-8f8a-46fd-d716-c931d3715c0f",
        "colab": {
          "base_uri": "https://localhost:8080/"
        }
      },
      "execution_count": 34,
      "outputs": [
        {
          "output_type": "execute_result",
          "data": {
            "text/plain": [
              "((3, 2), (2, 3))"
            ]
          },
          "metadata": {},
          "execution_count": 34
        }
      ]
    },
    {
      "cell_type": "code",
      "source": [
        "result_matrix = np.dot(B,A)\n",
        "print(result_matrix)"
      ],
      "metadata": {
        "id": "z7-boTbhVKkj",
        "outputId": "1ec9bb3e-bcde-4410-fe4e-209432b156a6",
        "colab": {
          "base_uri": "https://localhost:8080/"
        }
      },
      "execution_count": 35,
      "outputs": [
        {
          "output_type": "stream",
          "name": "stdout",
          "text": [
            "[[0.7281 0.5202]\n",
            " [0.2034 0.2846]]\n"
          ]
        }
      ]
    },
    {
      "cell_type": "code",
      "source": [
        "# (2,2) * (2,1) = (2, 1)\n",
        "\n",
        "print(np.dot(result_matrix, C))"
      ],
      "metadata": {
        "id": "OvRLpJYt9w7W",
        "outputId": "7116228b-3dc3-460e-fdc9-1421c3248a2a",
        "colab": {
          "base_uri": "https://localhost:8080/"
        }
      },
      "execution_count": 36,
      "outputs": [
        {
          "output_type": "stream",
          "name": "stdout",
          "text": [
            "[[0.5202]\n",
            " [0.2846]]\n"
          ]
        }
      ]
    },
    {
      "cell_type": "code",
      "source": [
        "# (2,2) * (2,2) = (2, 2)\n",
        "\n",
        "print(np.dot(result_matrix, D))"
      ],
      "metadata": {
        "id": "FFj9TnsR-l9s",
        "outputId": "ae586afc-61ec-430a-f594-245be1883bb7",
        "colab": {
          "base_uri": "https://localhost:8080/"
        }
      },
      "execution_count": 37,
      "outputs": [
        {
          "output_type": "stream",
          "name": "stdout",
          "text": [
            "[[0.5202 0.7281]\n",
            " [0.2846 0.2034]]\n"
          ]
        }
      ]
    },
    {
      "cell_type": "markdown",
      "source": [
        "\n",
        "### Завдання 4: Транспонування матриць\n",
        "1. Транспонуйте `result_matrix`.\n",
        "2. Зробіть транспонування вектора `vector` і виведіть форму нової структури. Чи бачите ви зміну?\n",
        "3. Використайте операцію `numpy.expand_dims` над вектором `vector` з аргументом axis=1. Запишіть отриманий результат в змінну `column_vector` і виведіть на екран. Порівняйте з `vector`.\n",
        "4. Зробіть транспонування `column_vector`, виведіть результат на екран разом з розмірностями отриманої структури.\n",
        "\n",
        "\n"
      ],
      "metadata": {
        "id": "wohp0_cxSGpl"
      }
    },
    {
      "cell_type": "code",
      "source": [
        "transposed_result = result_matrix.T\n",
        "\n",
        "print(transposed_result)"
      ],
      "metadata": {
        "id": "4hFcq1baVLii",
        "outputId": "c28e0a95-1fe8-4eda-8ba8-5309a42d13e1",
        "colab": {
          "base_uri": "https://localhost:8080/"
        }
      },
      "execution_count": 38,
      "outputs": [
        {
          "output_type": "stream",
          "name": "stdout",
          "text": [
            "[[0.7281 0.2034]\n",
            " [0.5202 0.2846]]\n"
          ]
        }
      ]
    },
    {
      "cell_type": "code",
      "source": [
        "print(v.shape)\n",
        "print(v.T.shape)\n",
        "\n",
        "# Так, змiна очевидна"
      ],
      "metadata": {
        "id": "w0Y4q_yg_Oxv",
        "outputId": "f7a747d6-375b-42cc-8d83-feb419cc3d43",
        "colab": {
          "base_uri": "https://localhost:8080/"
        }
      },
      "execution_count": 39,
      "outputs": [
        {
          "output_type": "stream",
          "name": "stdout",
          "text": [
            "(10, 1)\n",
            "(1, 10)\n"
          ]
        }
      ]
    },
    {
      "cell_type": "code",
      "source": [
        "print(v)\n",
        "print(\"*******************\")\n",
        "\n",
        "column_vector = np.expand_dims(v, axis=1)\n",
        "\n",
        "print(column_vector)\n",
        "\n",
        "# Кожен з елементiв vector був помiщений до ще одного масиву, тобто додана ще одна розмiрнiсть, що i можемо побачити з перевiрки форми\n",
        "\n",
        "print(column_vector.shape)"
      ],
      "metadata": {
        "id": "Z_QusYMp_-LU",
        "outputId": "5fc7667b-9a9e-4c0b-c09d-1cc80a671795",
        "colab": {
          "base_uri": "https://localhost:8080/"
        }
      },
      "execution_count": 40,
      "outputs": [
        {
          "output_type": "stream",
          "name": "stdout",
          "text": [
            "[[0.46998077]\n",
            " [0.31774001]\n",
            " [0.34239487]\n",
            " [0.06142044]\n",
            " [0.11547193]\n",
            " [0.77676424]\n",
            " [0.62541758]\n",
            " [0.98509749]\n",
            " [0.6133933 ]\n",
            " [0.46089127]]\n",
            "*******************\n",
            "[[[0.46998077]]\n",
            "\n",
            " [[0.31774001]]\n",
            "\n",
            " [[0.34239487]]\n",
            "\n",
            " [[0.06142044]]\n",
            "\n",
            " [[0.11547193]]\n",
            "\n",
            " [[0.77676424]]\n",
            "\n",
            " [[0.62541758]]\n",
            "\n",
            " [[0.98509749]]\n",
            "\n",
            " [[0.6133933 ]]\n",
            "\n",
            " [[0.46089127]]]\n",
            "(10, 1, 1)\n"
          ]
        }
      ]
    },
    {
      "cell_type": "code",
      "source": [
        "transposed_column_vector = column_vector.T\n",
        "print(transposed_column_vector)\n",
        "print(transposed_column_vector.shape)"
      ],
      "metadata": {
        "id": "PHGZkXeCBEdj",
        "outputId": "2a64c30d-ec4e-4e0b-c749-e310e5ec8d36",
        "colab": {
          "base_uri": "https://localhost:8080/"
        }
      },
      "execution_count": 41,
      "outputs": [
        {
          "output_type": "stream",
          "name": "stdout",
          "text": [
            "[[[0.46998077 0.31774001 0.34239487 0.06142044 0.11547193 0.77676424\n",
            "   0.62541758 0.98509749 0.6133933  0.46089127]]]\n",
            "(1, 1, 10)\n"
          ]
        }
      ]
    }
  ]
}