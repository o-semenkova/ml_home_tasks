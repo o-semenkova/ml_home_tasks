{
 "cells": [
  {
   "cell_type": "markdown",
   "metadata": {},
   "source": [
    "У Python **list comprehension** (з англ. “спискове зведення”) — це компактний спосіб створення списків на основі ітерацій над будь-якими ітерованими об’єктами (наприклад, списками, кортежами, рядками, генераторами тощо). Замість того, щоб писати багато рядків зі звичайним for-циклом і умовами, ви можете в одну стрічку описати, які елементи і за якими правилами потрапляють до нового списку.\n",
    "\n",
    "**Переваги та застереження**\n",
    " - Консьєржність: одна-дві стрічки замість кількох.\n",
    "\n",
    " - Читабельність: коли comprehension нескладний — код стає виразнішим.\n",
    "\n",
    " - Швидкість: іноді трохи швидше за звичайний цикл через оптимізації на рівні C.\n",
    "\n",
    "Але:\n",
    "\n",
    " - Надмірно складні вирази (з багатьма вкладеннями й умовами) можуть ускладнювати розуміння.\n",
    "\n",
    " - Для довгих логічних блоків краще використовувати звичайні цикли та окремі функції."
   ]
  },
  {
   "cell_type": "markdown",
   "metadata": {},
   "source": [
    "[<вираз> for <елемент> in <ітерація> if <умова>]\n"
   ]
  },
  {
   "cell_type": "code",
   "execution_count": 1,
   "metadata": {},
   "outputs": [
    {
     "name": "stdout",
     "output_type": "stream",
     "text": [
      "[0, 1, 4, 9, 16, 25, 36, 49, 64, 81]\n"
     ]
    }
   ],
   "source": [
    "squares = [x**2 for x in range(10)]\n",
    "print(squares)"
   ]
  },
  {
   "cell_type": "code",
   "execution_count": 2,
   "metadata": {},
   "outputs": [
    {
     "name": "stdout",
     "output_type": "stream",
     "text": [
      "[0, 2, 4, 6, 8, 10, 12, 14, 16, 18]\n"
     ]
    }
   ],
   "source": [
    "evens = [x for x in range(20) if x % 2 == 0]\n",
    "print(evens)"
   ]
  },
  {
   "cell_type": "code",
   "execution_count": 3,
   "metadata": {},
   "outputs": [
    {
     "name": "stdout",
     "output_type": "stream",
     "text": [
      "[]\n"
     ]
    }
   ],
   "source": [
    "words = [\"apple\", \"banana\", \"cherry\"]\n",
    "upper_palindromes = [w.upper() for w in words if w == w[::-1]]\n",
    "# Тут умова перевіряє, чи слово є паліндромом (однаково читається вперед/назад)\n",
    "print(upper_palindromes)\n"
   ]
  },
  {
   "cell_type": "code",
   "execution_count": 4,
   "metadata": {},
   "outputs": [
    {
     "name": "stdout",
     "output_type": "stream",
     "text": [
      "[1, 2, 3, 4, 5, 6, 7, 8, 9]\n"
     ]
    }
   ],
   "source": [
    "matrix = [\n",
    "    [1, 2, 3],\n",
    "    [4, 5, 6],\n",
    "    [7, 8, 9]\n",
    "]\n",
    "# «Розгортаємо» матрицю у плоский список\n",
    "flat = [elem for row in matrix for elem in row]\n",
    "print(flat)\n",
    "# [1, 2, 3, 4, 5, 6, 7, 8, 9]\n"
   ]
  }
 ],
 "metadata": {
  "kernelspec": {
   "display_name": "base",
   "language": "python",
   "name": "python3"
  },
  "language_info": {
   "codemirror_mode": {
    "name": "ipython",
    "version": 3
   },
   "file_extension": ".py",
   "mimetype": "text/x-python",
   "name": "python",
   "nbconvert_exporter": "python",
   "pygments_lexer": "ipython3",
   "version": "3.12.7"
  }
 },
 "nbformat": 4,
 "nbformat_minor": 2
}
