{
  "nbformat": 4,
  "nbformat_minor": 0,
  "metadata": {
    "colab": {
      "provenance": [],
      "include_colab_link": true
    },
    "kernelspec": {
      "name": "python3",
      "display_name": "Python 3"
    },
    "language_info": {
      "name": "python"
    }
  },
  "cells": [
    {
      "cell_type": "markdown",
      "metadata": {
        "id": "view-in-github",
        "colab_type": "text"
      },
      "source": [
        "<a href=\"https://colab.research.google.com/github/o-semenkova/ml_home_tasks/blob/main/HW_2_1_%D0%A2%D0%B5%D1%81%D1%82%D1%83%D0%B2%D0%B0%D0%BD%D0%BD%D1%8F_%D1%81%D1%82%D0%B0%D1%82_%D0%B3%D1%96%D0%BF%D0%BE%D1%82%D0%B5%D0%B7.ipynb\" target=\"_parent\"><img src=\"https://colab.research.google.com/assets/colab-badge.svg\" alt=\"Open In Colab\"/></a>"
      ]
    },
    {
      "cell_type": "markdown",
      "source": [
        "В цьому ДЗ потренуємось виконувати Z-тести для тестування гіпотез в різних задачах. Для коректної імплементації та інтерпретації тестів рекоемндую переглянути спершу документацію:\n",
        "\n",
        "https://www.statsmodels.org/dev/generated/statsmodels.stats.weightstats.ztest.html\n",
        "\n",
        "### Завдання 1: Z-тест для однієї вибірки\n",
        "\n",
        "**Мета**: Перевірити, чи середнє значення вибірки відрізняється від гіпотетичного середнього.\n",
        "\n",
        "**Припущення**: Середній ріст студентів університету вважається 170 см. Ми хочемо перевірити, чи середній ріст випадкової вибірки студентів істотно більший. Вибірка задана в змінній `heights`.\n",
        "\n",
        "Для виконання завдання імпортуйте метод для проведення `ztest`, виконайте Z-тест з Python, виведіть p-value і зробіть заключення, чи справдилось припущення про середній зріст студентів на рівні значущості 0.05?\n",
        "\n",
        "Використовуємо тут Z-тест, оскільки вибірка достатньо велика (більше 30 екземплярів) і можемо вважати, що її стандартне відхилення близьке до ст. відхилення генеральної сукупності, а значить - відоме."
      ],
      "metadata": {
        "id": "ID3uSQHkQJ2J"
      }
    },
    {
      "cell_type": "code",
      "source": [
        "heights = [174, 171, 175, 179, 170, 170, 179, 175, 169, 174, 169, 169, 173, 162, 163, 169, 166,\n",
        "           173, 167, 164, 179, 170, 172, 164, 169, 175, 169, 174, 169, 169, 173, 162, 177]"
      ],
      "metadata": {
        "id": "TUYNSCDzRE7N"
      },
      "execution_count": 40,
      "outputs": []
    },
    {
      "cell_type": "code",
      "source": [
        "import numpy as np\n",
        "from statsmodels.stats.weightstats import ztest"
      ],
      "metadata": {
        "id": "nSIlsKkYD4xE"
      },
      "execution_count": 41,
      "outputs": []
    },
    {
      "cell_type": "code",
      "source": [
        "alpha = 0.05\n",
        "null_mean = 170\n",
        "sample_size = len(heights)"
      ],
      "metadata": {
        "id": "uTJEZPARYMd4"
      },
      "execution_count": 42,
      "outputs": []
    },
    {
      "cell_type": "code",
      "source": [
        "ztest_score, p_value = ztest(heights, value = null_mean, alternative='larger')"
      ],
      "metadata": {
        "id": "Nxdztk96EaDZ"
      },
      "execution_count": 43,
      "outputs": []
    },
    {
      "cell_type": "code",
      "source": [
        "ztest_score, p_value"
      ],
      "metadata": {
        "id": "KjRoapx4E0gi",
        "outputId": "a24f4e93-0454-4d7d-f82d-9e02f25f97c0",
        "colab": {
          "base_uri": "https://localhost:8080/"
        }
      },
      "execution_count": 44,
      "outputs": [
        {
          "output_type": "execute_result",
          "data": {
            "text/plain": [
              "(0.8482235371587619, 0.19815674571091746)"
            ]
          },
          "metadata": {},
          "execution_count": 44
        }
      ]
    },
    {
      "cell_type": "code",
      "source": [
        "if(p_value <  alpha):\n",
        "    print(\"Відхилити Н0.\")\n",
        "else:\n",
        "    print(\"Н0 не може бути відхилена.\")"
      ],
      "metadata": {
        "id": "kZ1d82MOErQq",
        "outputId": "0f046607-f629-42f4-b51b-edcb28b02b05",
        "colab": {
          "base_uri": "https://localhost:8080/"
        }
      },
      "execution_count": 45,
      "outputs": [
        {
          "output_type": "stream",
          "name": "stdout",
          "text": [
            "Н0 не може бути відхилена.\n"
          ]
        }
      ]
    },
    {
      "cell_type": "markdown",
      "source": [
        "**Висновок по тесту:**\n",
        "Бачимо, що p-value мае значення, бiльше нiж 0.05, що означае те, що вибiрковi середнi нашоi вибiрки зросту студентiв та популяцii мають iстотну рiзницю, з чого можемо зробити висновок, що середній ріст випадкової вибірки студентів істотно більший (наша нульова гiпотеза вiрна)"
      ],
      "metadata": {
        "id": "pC3a1rFHE6k8"
      }
    },
    {
      "cell_type": "markdown",
      "source": [
        "### Завдання 2: Z-тест для двох незалежних вибірок\n",
        "\n",
        "**Завдання 2.1.**\n",
        "\n",
        "**Мета**: Перевірити, чи існує статистична різниця між середніми оцінками двох груп студентів.\n",
        "\n",
        "**Припущення**: Група A отримала новий навчальний курс, а група B продовжувала зі стандартним курсом. Ми перевіряємо, чи є новий курс ефективнішим.\n",
        "\n",
        "Виконайте Z-тест з Python, виведіть p-value і зробіть заключення, чи справдилось припущення щодо студентів на рівні значущості 0.05?"
      ],
      "metadata": {
        "id": "ga4iKM9kQa9Q"
      }
    },
    {
      "cell_type": "code",
      "source": [
        "group_a_scores = [78.55, 72.25, 79.88, 75.  , 76.54, 74.99, 87.26, 77.93, 72.71,\n",
        "       82.11, 71.9 , 79.04, 68.2 , 71.36, 78.98, 81.69, 78.86, 77.42,\n",
        "       76.49, 70.61, 74.4 , 75.7 , 83.29, 79.72, 69.18, 79.62, 76.07,\n",
        "       74.62, 81.06, 83.15, 82.66, 73.8 , 76.45, 79.66, 82.88, 75.6 ,\n",
        "       77.07, 72.47, 72.02, 82.06]\n",
        "\n",
        "group_b_scores = [81.78, 74.64, 80.02, 76.81, 71.77, 76.81, 82.69, 74.82, 82.82,\n",
        "       61.9 , 79.11, 75.44, 73.5 , 75.46, 65.06, 73.9 , 76.79, 82.39,\n",
        "       72.41, 70.96, 72.49, 79.58, 76.64, 72.35, 77.57, 75.49, 79.84,\n",
        "       71.49, 73.36, 73.04, 67.68, 76.48, 76.31, 75.03, 73.83, 67.92,\n",
        "       72.9 , 73.29, 70.99, 74.19]"
      ],
      "metadata": {
        "id": "SngJjNBJTgBp"
      },
      "execution_count": 46,
      "outputs": []
    },
    {
      "cell_type": "code",
      "source": [
        "np.mean(group_a_scores), np.mean(group_b_scores)"
      ],
      "metadata": {
        "id": "5Xi9LWz5H57m",
        "outputId": "5e6e9c84-0a38-42b6-be59-714a42bf0ebb",
        "colab": {
          "base_uri": "https://localhost:8080/"
        }
      },
      "execution_count": 47,
      "outputs": [
        {
          "output_type": "execute_result",
          "data": {
            "text/plain": [
              "(77.08125, 74.73875000000001)"
            ]
          },
          "metadata": {},
          "execution_count": 47
        }
      ]
    },
    {
      "cell_type": "code",
      "source": [
        "z_stat, p_value = ztest(group_a_scores, group_b_scores, alternative='two-sided')"
      ],
      "metadata": {
        "id": "CvftCAEHYPKL"
      },
      "execution_count": 48,
      "outputs": []
    },
    {
      "cell_type": "code",
      "source": [
        "z_stat, p_value"
      ],
      "metadata": {
        "id": "2PNKRMkWKJKy",
        "outputId": "48fe4fc4-d92d-4a37-a983-566919fb1260",
        "colab": {
          "base_uri": "https://localhost:8080/"
        }
      },
      "execution_count": 49,
      "outputs": [
        {
          "output_type": "execute_result",
          "data": {
            "text/plain": [
              "(2.357354864751502, 0.01840564855252801)"
            ]
          },
          "metadata": {},
          "execution_count": 49
        }
      ]
    },
    {
      "cell_type": "code",
      "source": [
        "if(p_value <  alpha):\n",
        "    print(\"Відхилити Н0.\")\n",
        "else:\n",
        "    print(\"Н0 не може бути відхилена.\")"
      ],
      "metadata": {
        "id": "dhXkrdcDG6Lv",
        "outputId": "1e6a3f9a-fac8-41ef-8cec-03b47ca0face",
        "colab": {
          "base_uri": "https://localhost:8080/"
        }
      },
      "execution_count": 50,
      "outputs": [
        {
          "output_type": "stream",
          "name": "stdout",
          "text": [
            "Відхилити Н0.\n"
          ]
        }
      ]
    },
    {
      "cell_type": "markdown",
      "source": [
        "**Висновок по тесту:**\n",
        "Бачимо, що p-value мае значення, менше нiж 0.05, що означае те, що новий курс е ефективнішим (можемо вiдхилити нульову гiпотезу, яка була в тому, що новий курс не вплинув на оцiнки студентiв)"
      ],
      "metadata": {
        "id": "kzv1856ZHXy1"
      }
    },
    {
      "cell_type": "markdown",
      "source": [
        "**Завдання 2.2.**\n",
        "\n",
        "\n",
        "**Мета**: Побачити, як впливає розмір вибірок на результат тесту.\n",
        "\n",
        "**Завдання**: Уявіть, що з групи А ми маємо тільки перші 5 записів, а з групи В - усі. Таке могло статись, якщо ми вже маємо результати тестів учнів за попередньою програмою, а тести за новою програмою здали наразі лише 5 учнів і ми вирішили не чекати довше.\n",
        "Виберіть перші 5 записів для групи А і проведіть t-test (для цього використовуємо наступний [метод](https://docs.scipy.org/doc/scipy/reference/generated/scipy.stats.ttest_ind.html)). Виведіть значення p-value. Зробіть висновок, який результат ви бачите щодо стат. значущості на рівні 0.05 для цього експерименту?\n",
        "\n",
        "Тут проводимо t-test оскільки одна з вибірок - дуже мала."
      ],
      "metadata": {
        "id": "zOxz2tU0VpJM"
      }
    },
    {
      "cell_type": "code",
      "source": [
        "from scipy.stats import ttest_ind as ttest"
      ],
      "metadata": {
        "id": "lGyTStsMJuEd"
      },
      "execution_count": 51,
      "outputs": []
    },
    {
      "cell_type": "code",
      "source": [
        "group_a_scores_short_list = group_a_scores[:5]\n",
        "print(group_a_scores_short_list)"
      ],
      "metadata": {
        "id": "D9znE6liYQmP",
        "outputId": "44f81cce-adc4-43c8-fdac-1a4877403de3",
        "colab": {
          "base_uri": "https://localhost:8080/"
        }
      },
      "execution_count": 52,
      "outputs": [
        {
          "output_type": "stream",
          "name": "stdout",
          "text": [
            "[78.55, 72.25, 79.88, 75.0, 76.54]\n"
          ]
        }
      ]
    },
    {
      "cell_type": "code",
      "source": [
        "ttest(group_a_scores_short_list, group_b_scores)"
      ],
      "metadata": {
        "id": "ABB_HmNRJm6n",
        "outputId": "8d64a93d-b0f0-4a43-e91b-560ea307c9de",
        "colab": {
          "base_uri": "https://localhost:8080/"
        }
      },
      "execution_count": 53,
      "outputs": [
        {
          "output_type": "execute_result",
          "data": {
            "text/plain": [
              "TtestResult(statistic=0.8167951030410814, pvalue=0.4185479477535733, df=43.0)"
            ]
          },
          "metadata": {},
          "execution_count": 53
        }
      ]
    },
    {
      "cell_type": "markdown",
      "source": [
        "**Висновок по тесту:**\n",
        "Бачимо, що при значному зменшеннi вибiрки **group_a_scores** p-value змiнило значення та стало бiльше нiж 0.05, що означае те, що новий курс не е ефективнішим (не можемо вiдхилити нульову гiпотезу, яка була в тому, що новий курс не вплинув на оцiнки студентiв). Але, зважаючи на недостатнiй розмiр вибiрки **group_a_scores**, можу предполагати, що цей результат хибно позитивний (помилка 1-го роду)"
      ],
      "metadata": {
        "id": "RbSy_U1SKN2d"
      }
    },
    {
      "cell_type": "markdown",
      "source": [
        "\n",
        "### Завдання 3\\*: Z-тест для двох **пов'язаних** вибірок\n",
        "\n",
        "**Мета**: Перевірити, чи вплинув тренінг на продуктивність працівників, коли всі справробітники проходили тренінг.\n",
        "\n",
        "**Припущення**: Наші працівники проходять однаковий тренінг, і ми хочемо з'ясувати, чи покращилися їхні показники після тренінгу на рівні значущості 0.05. Виконайте Z-тест з Python, виведіть p-value і зробіть заключення, чи поліпшились показники працівників на рівні значущості 0.05?\n",
        "\n",
        "Зверніть увагу, ці вибірки повʼязані між собою, значить не буде коректно виконати z-test між ними, натомість, ми можемо порівняти, чи різниця в результатах (продуктивності співробітників) є стат значущою."
      ],
      "metadata": {
        "id": "3TcRHLLz0SLw"
      }
    },
    {
      "cell_type": "code",
      "source": [
        "before_training = [57.82, 37.63, 36.8 , 55.22, 52.97, 52.5 , 53.46, 43.2 , 52.32,\n",
        "       52.93, 42.86, 68.66, 54.74, 38.09, 56.57, 40.25, 57.87, 61.59,\n",
        "       41.79, 59.63, 54.13, 58.22, 68.97, 47.55, 42.46, 41.1 , 41.84,\n",
        "       49.23, 53.41, 52.77]\n",
        "\n",
        "after_training = [62.47, 40.66, 42.7 , 57.69, 61.41, 56.76, 54.75, 44.06, 56.29,\n",
        "       55.48, 47.28, 72.6 , 57.59, 39.39, 56.54, 42.36, 62.58, 65.01,\n",
        "       42.3 , 62.98, 57.9 , 59.45, 72.28, 50.66, 43.18, 44.82, 45.96,\n",
        "       54.4 , 58.52, 53.01]"
      ],
      "metadata": {
        "id": "uxrjagJFW1GC"
      },
      "execution_count": 54,
      "outputs": []
    },
    {
      "cell_type": "code",
      "source": [
        "# Поперше, перевiримо чи е нормальним розподiл наших даних:\n",
        "\n",
        "import pandas as pd\n",
        "from scipy.stats import shapiro"
      ],
      "metadata": {
        "id": "zXfbohr0PiqX"
      },
      "execution_count": 55,
      "outputs": []
    },
    {
      "cell_type": "code",
      "source": [
        "df_before_training = pd.DataFrame({'value': before_training})"
      ],
      "metadata": {
        "id": "Vaj_25dRQUiV"
      },
      "execution_count": 56,
      "outputs": []
    },
    {
      "cell_type": "code",
      "source": [
        "statistic, p_value = shapiro(df_before_training['value'])\n",
        "print(f\"\\nТест Шапіро-Уілка:\")\n",
        "print(f\"Статистика: {statistic:.4f}\")\n",
        "print(f\"P-значення: {p_value:.4f}\")\n",
        "\n",
        "if p_value > 0.05:\n",
        "        print(\"Розподіл можна вважати нормальним (не відкидаємо нульову гіпотезу)\")\n",
        "else:\n",
        "        print(\"Розподіл не є нормальним (відкидаємо нульову гіпотезу)\")"
      ],
      "metadata": {
        "id": "m_9omu2WQYva",
        "outputId": "8814c58d-9e86-45f1-bd32-6f98debf0fdc",
        "colab": {
          "base_uri": "https://localhost:8080/"
        }
      },
      "execution_count": 57,
      "outputs": [
        {
          "output_type": "stream",
          "name": "stdout",
          "text": [
            "\n",
            "Тест Шапіро-Уілка:\n",
            "Статистика: 0.9464\n",
            "P-значення: 0.1351\n",
            "Розподіл можна вважати нормальним (не відкидаємо нульову гіпотезу)\n"
          ]
        }
      ]
    },
    {
      "cell_type": "code",
      "source": [
        "df_after_training = pd.DataFrame({'value': after_training})"
      ],
      "metadata": {
        "id": "6vhbd7_ERZVM"
      },
      "execution_count": 58,
      "outputs": []
    },
    {
      "cell_type": "code",
      "source": [
        "statistic, p_value = shapiro(df_after_training['value'])\n",
        "print(f\"\\nТест Шапіро-Уілка:\")\n",
        "print(f\"Статистика: {statistic:.4f}\")\n",
        "print(f\"P-значення: {p_value:.4f}\")\n",
        "\n",
        "if p_value > 0.05:\n",
        "        print(\"Розподіл можна вважати нормальним (не відкидаємо нульову гіпотезу)\")\n",
        "else:\n",
        "        print(\"Розподіл не є нормальним (відкидаємо нульову гіпотезу)\")"
      ],
      "metadata": {
        "id": "KPNad427Roqh",
        "outputId": "7e2b018a-a9f5-47d3-bbae-1905e65e5263",
        "colab": {
          "base_uri": "https://localhost:8080/"
        }
      },
      "execution_count": 59,
      "outputs": [
        {
          "output_type": "stream",
          "name": "stdout",
          "text": [
            "\n",
            "Тест Шапіро-Уілка:\n",
            "Статистика: 0.9482\n",
            "P-значення: 0.1515\n",
            "Розподіл можна вважати нормальним (не відкидаємо нульову гіпотезу)\n"
          ]
        }
      ]
    },
    {
      "cell_type": "code",
      "source": [
        "# Спираючись на те, що розподiл даних нормальний, а самi данi е пов'язаними, то:\n",
        "\n",
        "#  - для перевiрки статистичноi значущостi рiзницi результатiв спiвробiтникiв до та пiсля тренiнгу був обраний Парний t-тест:\n",
        "# Парний t-тест (Paired t-test):\n",
        "\n",
        "# Використовується для порівняння середніх значень двох пов'язаних вибірок.\n",
        "# Умови: дані мають бути інтервальними або відносними, нормально розподіленими.\n",
        "# Нульова гіпотеза: різниця між парними спостереженнями дорівнює нулю.\n",
        "\n",
        "from scipy.stats import ttest_rel as ttest_pair\n",
        "import matplotlib.pyplot as plt"
      ],
      "metadata": {
        "id": "NwCsN91OYSpN"
      },
      "execution_count": 60,
      "outputs": []
    },
    {
      "cell_type": "code",
      "source": [
        "# Проводимо парний t-test\n",
        "t_statistic, p_value = ttest_pair(before_training, after_training)\n",
        "\n",
        "# Виводимо результати\n",
        "print(f\"T-статистика: {t_statistic:.4f}\")\n",
        "print(f\"P-значення: {p_value:.4f}\")\n",
        "\n",
        "# Інтерпретація результатів\n",
        "alpha = 0.05  # Рівень значущості\n",
        "if p_value < alpha:\n",
        "    print(\"Відхиляємо нульову гіпотезу. Є статистично значуща різниця.\")\n",
        "else:\n",
        "    print(\"Не відхиляємо нульову гіпотезу. Немає статистично значущої різниці.\")\n",
        "\n",
        "# Візуалізація даних\n",
        "plt.figure(figsize=(10, 6))\n",
        "plt.boxplot([before_training, after_training], labels=['До', 'Після'])\n",
        "plt.title('Порівняння результатів до і після втручання')\n",
        "plt.ylabel('Значення')\n",
        "plt.show()\n",
        "\n",
        "# Обчислення та виведення середніх значень\n",
        "mean_before = np.mean(before_training)\n",
        "mean_after = np.mean(after_training)\n",
        "print(f\"Середнє значення до: {mean_before:.2f}\")\n",
        "print(f\"Середнє значення після: {mean_after:.2f}\")\n",
        "print(f\"Різниця середніх: {mean_after - mean_before:.2f}\")"
      ],
      "metadata": {
        "id": "8qEf5NPFMKQO",
        "outputId": "e73bacc2-046b-49ad-9793-f574bcfbc0b9",
        "colab": {
          "base_uri": "https://localhost:8080/",
          "height": 708
        }
      },
      "execution_count": 61,
      "outputs": [
        {
          "output_type": "stream",
          "name": "stdout",
          "text": [
            "T-статистика: -9.1389\n",
            "P-значення: 0.0000\n",
            "Відхиляємо нульову гіпотезу. Є статистично значуща різниця.\n"
          ]
        },
        {
          "output_type": "stream",
          "name": "stderr",
          "text": [
            "<ipython-input-61-61d156bc2b67>:17: MatplotlibDeprecationWarning: The 'labels' parameter of boxplot() has been renamed 'tick_labels' since Matplotlib 3.9; support for the old name will be dropped in 3.11.\n",
            "  plt.boxplot([before_training, after_training], labels=['До', 'Після'])\n"
          ]
        },
        {
          "output_type": "display_data",
          "data": {
            "text/plain": [
              "<Figure size 1000x600 with 1 Axes>"
            ],
            "image/png": "[encoded data removed]"
          },
          "metadata": {}
        },
        {
          "output_type": "stream",
          "name": "stdout",
          "text": [
            "Середнє значення до: 50.89\n",
            "Середнє значення після: 54.04\n",
            "Різниця середніх: 3.15\n"
          ]
        }
      ]
    },
    {
      "cell_type": "markdown",
      "source": [
        "**Висновок по тесту:**\n",
        "Бачимо, що показники працiвникiв полiпшилися пiсля тесту"
      ],
      "metadata": {
        "id": "vnCTf2DUOlJM"
      }
    }
  ]
}