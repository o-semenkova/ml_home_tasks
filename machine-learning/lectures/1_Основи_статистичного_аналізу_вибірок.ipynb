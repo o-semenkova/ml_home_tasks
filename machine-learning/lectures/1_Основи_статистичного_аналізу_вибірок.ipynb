{
  "nbformat": 4,
  "nbformat_minor": 0,
  "metadata": {
    "colab": {
      "provenance": []
    },
    "kernelspec": {
      "name": "python3",
      "display_name": "Python 3"
    },
    "language_info": {
      "name": "python"
    }
  },
  "cells": [
    {
      "cell_type": "markdown",
      "source": [
        "### Генеральна сукупність та вибірка\n",
        "\n",
        "**Генеральна сукупність** — це повна група об'єктів, подій або явищ, що мають спільну характеристику, і які ми хочемо вивчати. Уявіть, що ви хочете дослідити зріст усіх студентів університету. Тоді всі студенти університету і будуть вашою генеральною сукупністю.\n",
        "\n",
        "Позначається як велика літера латинського алфавіту (так само, як випадкова величина): $X, Y, Z, ...$\n",
        "\n",
        "Усі статистичні позначення можна знайти [тут](https://mathvault.ca/hub/higher-math/math-symbols/probability-statistics-symbols/).\n",
        "\n",
        "**Вибірка** — це підмножина генеральної сукупності, вибрана для фактичного дослідження. Через те, що дослідження всієї генеральної сукупності може бути непрактичним або неможливим, ми обираємо вибірку, яка представлятиме цю сукупність.\n",
        "\n",
        "Позначається як мала літера латинського алфавіту (так само, як значення випадкової величини): $x, y, z, ...$\n",
        "\n",
        "У генеральної сукупності та вибірки є характеристики: середнє, міра розкиду, мінімальне, максимальне значення.\n",
        "\n",
        "В роботі ми здебільшого працюємо з вибірками.\n",
        "\n"
      ],
      "metadata": {
        "id": "dWzAZC4UA5-h"
      }
    },
    {
      "cell_type": "markdown",
      "source": [
        "Проведемо базовий статистичний аналіз двох вибірок."
      ],
      "metadata": {
        "id": "h8OjmiBWge2m"
      }
    },
    {
      "cell_type": "code",
      "source": [
        "import numpy as np"
      ],
      "metadata": {
        "id": "A0RtYSPshmXq"
      },
      "execution_count": null,
      "outputs": []
    },
    {
      "cell_type": "code",
      "execution_count": null,
      "metadata": {
        "id": "Fb5B53Rvf-6F"
      },
      "outputs": [],
      "source": [
        "x = [6, 12, 13, 17, 22, 25, 27, 29, 30, 32]\n",
        "y = [45, 47, 39, 58, 68, 76, 75, 74, 78, 81]"
      ]
    },
    {
      "cell_type": "code",
      "source": [
        "n_x = len(x)\n",
        "n_y = len(y)"
      ],
      "metadata": {
        "id": "Vz6d8QgrgxiF"
      },
      "execution_count": null,
      "outputs": []
    },
    {
      "cell_type": "markdown",
      "source": [
        "\n",
        "\n",
        "### Міри центральної тенденції\n",
        "\n",
        "**Математичне сподівання** (або середнє значення генеральної сукупності) — це середнє значення всіх можливих результатів величини, зважене за їхніми ймовірностями. Воно представляє собою середнє, яке ми очікували б отримати, якби могли провести нескінченну кількість спостережень.\n",
        "\n",
        "Позначається як $\\mu_X$, $\\bar X$, $E[x]$ (в теорії ймовірностей).\n",
        "\n",
        "**Вибіркове середнє** — це середнє значення всіх спостережень у вибірці. Воно слугує оцінкою математичного сподівання генеральної сукупності і розраховується як сума всіх значень, поділена на кількість спостережень у вибірці.\n",
        "\n",
        "Формула для розрахунку вибіркового середнього виглядає так:\n",
        "\n",
        "$$ \\bar{x} = \\frac{1}{n} \\sum_{i=1}^{n} x_i $$\n",
        "\n",
        "де:\n",
        "- $\\bar{x}$ — вибіркове середнє,\n",
        "- $n $ — кількість спостережень у вибірці,\n",
        "- $x_i$ — значення кожного спостереження.\n"
      ],
      "metadata": {
        "id": "6aKHr5QHBal8"
      }
    },
    {
      "cell_type": "markdown",
      "source": [
        "Обчислимо середні значення."
      ],
      "metadata": {
        "id": "J5FuBYQpgkRE"
      }
    },
    {
      "cell_type": "code",
      "source": [
        "mean_x = sum(x)/n_x\n",
        "mean_x"
      ],
      "metadata": {
        "colab": {
          "base_uri": "https://localhost:8080/"
        },
        "id": "lB9X7oZggZxl",
        "outputId": "385e510a-2722-4a38-f72f-d55f3e810948"
      },
      "execution_count": null,
      "outputs": [
        {
          "output_type": "execute_result",
          "data": {
            "text/plain": [
              "21.3"
            ]
          },
          "metadata": {},
          "execution_count": 6
        }
      ]
    },
    {
      "cell_type": "code",
      "source": [
        "mean_y = sum(y)/n_y\n",
        "mean_y"
      ],
      "metadata": {
        "colab": {
          "base_uri": "https://localhost:8080/"
        },
        "id": "MqSzOyfZgccc",
        "outputId": "895d9829-b70f-4cbc-dd8f-9966dba854eb"
      },
      "execution_count": null,
      "outputs": [
        {
          "output_type": "execute_result",
          "data": {
            "text/plain": [
              "64.1"
            ]
          },
          "metadata": {},
          "execution_count": 7
        }
      ]
    },
    {
      "cell_type": "code",
      "source": [
        "np.mean(x), np.mean(y)"
      ],
      "metadata": {
        "colab": {
          "base_uri": "https://localhost:8080/"
        },
        "id": "sDEcFSHhB5Lk",
        "outputId": "3f2f004e-6a23-4830-9046-43647698092d"
      },
      "execution_count": null,
      "outputs": [
        {
          "output_type": "execute_result",
          "data": {
            "text/plain": [
              "(21.3, 64.1)"
            ]
          },
          "metadata": {},
          "execution_count": 8
        }
      ]
    },
    {
      "cell_type": "markdown",
      "source": [
        "**Медіана** — це статистичний показник, який визначає значення серединного елемента в упорядкованому ряду даних. Щоб знайти медіану, спочатку потрібно впорядкувати всі спостереження даних у зростаючому (або спадному) порядку. Після цього медіана визначається наступним чином:\n",
        "\n",
        "- Якщо кількість елементів у датасеті непарна, медіана — це значення, що знаходиться точно посередині цього упорядкованого ряду.\n",
        "- Якщо кількість елементів парна, медіана визначається як середнє значення двох серединних елементів.\n",
        "\n",
        "Медіана є важливим показником центральної тенденції, особливо у випадках, коли датасет містить викиди або дуже різноманітні дані. На відміну від середнього значення, медіана менш чутлива до екстремальних значень, що робить її корисною мірою \"середнього\" рівня для асиметрично розподілених даних."
      ],
      "metadata": {
        "id": "gQ-RSl4tCDHi"
      }
    },
    {
      "cell_type": "markdown",
      "source": [
        "Як знайти медіану:"
      ],
      "metadata": {
        "id": "w0qLrZA7gm85"
      }
    },
    {
      "cell_type": "code",
      "source": [
        "sorted(x)"
      ],
      "metadata": {
        "colab": {
          "base_uri": "https://localhost:8080/"
        },
        "id": "DKJFF4dkgv59",
        "outputId": "bd54e50d-30c3-4e36-b53e-f1656b3b22be"
      },
      "execution_count": null,
      "outputs": [
        {
          "output_type": "execute_result",
          "data": {
            "text/plain": [
              "[6, 12, 13, 17, 22, 25, 27, 29, 30, 32]"
            ]
          },
          "metadata": {},
          "execution_count": 14
        }
      ]
    },
    {
      "cell_type": "code",
      "source": [
        "len(x)//2 - 1, len(x)//2"
      ],
      "metadata": {
        "colab": {
          "base_uri": "https://localhost:8080/"
        },
        "id": "tvRGB5eXVCsS",
        "outputId": "3104ff51-3792-4c6c-90ce-857930246a01"
      },
      "execution_count": null,
      "outputs": [
        {
          "output_type": "execute_result",
          "data": {
            "text/plain": [
              "(4, 5)"
            ]
          },
          "metadata": {},
          "execution_count": 15
        }
      ]
    },
    {
      "cell_type": "code",
      "source": [
        "(sorted(x)[len(x)//2-1] + sorted(x)[len(x)//2])/2"
      ],
      "metadata": {
        "colab": {
          "base_uri": "https://localhost:8080/"
        },
        "id": "CD2JxDvHgp0m",
        "outputId": "a1bb8dd1-5b5e-4813-b41c-48294c5fbb0b"
      },
      "execution_count": null,
      "outputs": [
        {
          "output_type": "execute_result",
          "data": {
            "text/plain": [
              "23.5"
            ]
          },
          "metadata": {},
          "execution_count": 16
        }
      ]
    },
    {
      "cell_type": "code",
      "source": [
        "sorted(y)"
      ],
      "metadata": {
        "colab": {
          "base_uri": "https://localhost:8080/"
        },
        "id": "iL9uXSQBg5ed",
        "outputId": "beda3ab0-3ca9-488b-cd26-32ee8a8ad692"
      },
      "execution_count": null,
      "outputs": [
        {
          "output_type": "execute_result",
          "data": {
            "text/plain": [
              "[39, 45, 47, 58, 68, 74, 75, 76, 78, 81]"
            ]
          },
          "metadata": {},
          "execution_count": 17
        }
      ]
    },
    {
      "cell_type": "code",
      "source": [
        "(sorted(y)[len(y)//2-1] + sorted(y)[len(y)//2]) / 2"
      ],
      "metadata": {
        "colab": {
          "base_uri": "https://localhost:8080/"
        },
        "id": "bTZh2BvKgsID",
        "outputId": "86f35b1f-3abf-4e0f-9300-513f26d392f2"
      },
      "execution_count": null,
      "outputs": [
        {
          "output_type": "execute_result",
          "data": {
            "text/plain": [
              "71.0"
            ]
          },
          "metadata": {},
          "execution_count": 18
        }
      ]
    },
    {
      "cell_type": "code",
      "source": [
        "np.median(x), np.median(y)"
      ],
      "metadata": {
        "colab": {
          "base_uri": "https://localhost:8080/"
        },
        "id": "rXVgbaj4Kdg7",
        "outputId": "7c42dee6-7ec4-45f3-b47c-01c21cc03c2e"
      },
      "execution_count": null,
      "outputs": [
        {
          "output_type": "execute_result",
          "data": {
            "text/plain": [
              "(23.5, 71.0)"
            ]
          },
          "metadata": {},
          "execution_count": 19
        }
      ]
    },
    {
      "cell_type": "code",
      "source": [
        "# example meadian better than mean\n",
        "\n",
        "sample = [1]*99 + [1000]"
      ],
      "metadata": {
        "id": "IPIPXN87VlRC"
      },
      "execution_count": null,
      "outputs": []
    },
    {
      "cell_type": "code",
      "source": [
        "print(sample)"
      ],
      "metadata": {
        "colab": {
          "base_uri": "https://localhost:8080/"
        },
        "id": "khMeOLKhVrFK",
        "outputId": "f539d6a2-4325-4242-cb97-1e13aaba6edc"
      },
      "execution_count": null,
      "outputs": [
        {
          "output_type": "stream",
          "name": "stdout",
          "text": [
            "[1, 1, 1, 1, 1, 1, 1, 1, 1, 1, 1, 1, 1, 1, 1, 1, 1, 1, 1, 1, 1, 1, 1, 1, 1, 1, 1, 1, 1, 1, 1, 1, 1, 1, 1, 1, 1, 1, 1, 1, 1, 1, 1, 1, 1, 1, 1, 1, 1, 1, 1, 1, 1, 1, 1, 1, 1, 1, 1, 1, 1, 1, 1, 1, 1, 1, 1, 1, 1, 1, 1, 1, 1, 1, 1, 1, 1, 1, 1, 1, 1, 1, 1, 1, 1, 1, 1, 1, 1, 1, 1, 1, 1, 1, 1, 1, 1, 1, 1, 1000]\n"
          ]
        }
      ]
    },
    {
      "cell_type": "code",
      "source": [
        "np.mean(sample)"
      ],
      "metadata": {
        "colab": {
          "base_uri": "https://localhost:8080/"
        },
        "id": "9a0NeL5fVwJS",
        "outputId": "b3c15a4b-5d5a-4904-a9f6-dd693dbc8dfb"
      },
      "execution_count": null,
      "outputs": [
        {
          "output_type": "execute_result",
          "data": {
            "text/plain": [
              "10.99"
            ]
          },
          "metadata": {},
          "execution_count": 24
        }
      ]
    },
    {
      "cell_type": "code",
      "source": [
        "np.median(sample)"
      ],
      "metadata": {
        "colab": {
          "base_uri": "https://localhost:8080/"
        },
        "id": "59d1XUylVwFM",
        "outputId": "2732e5a9-8cd3-471e-8cda-1f64cfaa09c2"
      },
      "execution_count": null,
      "outputs": [
        {
          "output_type": "execute_result",
          "data": {
            "text/plain": [
              "1.0"
            ]
          },
          "metadata": {},
          "execution_count": 26
        }
      ]
    },
    {
      "cell_type": "markdown",
      "source": [
        "![](https://drive.google.com/uc?export=view&id=1laSMpXhKLpGSJdq9gxFXsZqHN87rDOKN)\n"
      ],
      "metadata": {
        "id": "lCU964e4WjeI"
      }
    },
    {
      "cell_type": "markdown",
      "source": [
        "# Варіація та стандартне відхилення\n",
        "\n",
        "## Варіація\n",
        "**Варіація (або дисперсія)** — це статистичний показник, який вимірює ступінь розсіювання або розподілу значень в датасеті відносно їх середнього значення. Варіація показує, наскільки далеко в середньому розташовані індивідуальні значення даних від середнього значення (математичного сподівання) усього набору.\n",
        "\n",
        "![](https://drive.google.com/uc?export=view&id=1t_p11iB4lDAjtqYjyx4GmmzAiswl7qLS)\n",
        "\n",
        "\n",
        "**Формула варіації вибірки**\n",
        "\n",
        "Для вибірки з $n$ значень, варіація $s^2$ розраховується за формулою:\n",
        "\n",
        "$$ s^2 = \\frac{1}{n-1} \\sum_{i=1}^{n} (x_i - \\bar{x})^2 $$\n",
        "\n",
        "де:\n",
        "- $s^2$ — варіація вибірки,\n",
        "- $x_i$ — індивідуальні значення даних,\n",
        "- $\\bar{x}$ — середнє значення всієї вибірки,\n",
        "- $n$ — кількість значень в датасеті.\n",
        "\n",
        "Для генеральної сукупності, формула має аналогічний вигляд, але позначається як $\\sigma^2$ та ділення відбувається на $n$, а не на $n-1$, що відображає різницю у визначенні незміщеної оцінки варіації для вибірки та параметра генеральної сукупності.\n",
        "\n",
        "[Поясненння](https://www.jamelsaadaoui.com/unbiased-estimator-for-population-variance-clearly-explained/) про незміщенну оцінку варіації.\n",
        "\n",
        "### Чому варіація важлива\n",
        "\n",
        "Варіація є фундаментальним поняттям у статистиці, оскільки вона допомагає зрозуміти розподіл даних. Велика варіація вказує на те, що дані розкидані широко навколо середнього значення, тоді як мала варіація свідчить про те, що дані більш згруповані близько до середнього.\n",
        "\n",
        "### Застосування\n",
        "\n",
        "Варіація використовується в багатьох галузях для оцінки розподілу значень. Наприклад, у фінансах варіація може використовуватися для оцінки ризику інвестицій. У наукових дослідженнях вона допомагає визначити надійність та варіативність результатів експериментів. Управління якістю продукції також часто опирається на аналіз варіації для забезпечення консистентності та задоволення стандартів.\n",
        "\n"
      ],
      "metadata": {
        "id": "Yxx2IWfsBzWJ"
      }
    },
    {
      "cell_type": "code",
      "source": [
        "x_minus_mean = [(el - mean_x)**2 for el in x]\n",
        "x_minus_mean"
      ],
      "metadata": {
        "colab": {
          "base_uri": "https://localhost:8080/"
        },
        "id": "Cg8rScsoELxn",
        "outputId": "9df90a1e-568c-4d4f-aeb8-79cde9767959"
      },
      "execution_count": null,
      "outputs": [
        {
          "output_type": "execute_result",
          "data": {
            "text/plain": [
              "[234.09000000000003,\n",
              " 86.49000000000001,\n",
              " 68.89000000000001,\n",
              " 18.490000000000006,\n",
              " 0.489999999999999,\n",
              " 13.689999999999994,\n",
              " 32.489999999999995,\n",
              " 59.28999999999999,\n",
              " 75.68999999999998,\n",
              " 114.48999999999998]"
            ]
          },
          "metadata": {},
          "execution_count": 29
        }
      ]
    },
    {
      "cell_type": "code",
      "source": [
        "var_x_general = sum(x_minus_mean)/len(x)\n",
        "var_x_sample = sum(x_minus_mean)/(len(x)-1)"
      ],
      "metadata": {
        "id": "DBLez40oZay2"
      },
      "execution_count": null,
      "outputs": []
    },
    {
      "cell_type": "code",
      "source": [
        "var_x_general, var_x_sample"
      ],
      "metadata": {
        "colab": {
          "base_uri": "https://localhost:8080/"
        },
        "id": "J4uAAjr2EZBk",
        "outputId": "3d93515a-fa19-4adc-ab2c-523746bbe20b"
      },
      "execution_count": null,
      "outputs": [
        {
          "output_type": "execute_result",
          "data": {
            "text/plain": [
              "(70.41, 78.23333333333333)"
            ]
          },
          "metadata": {},
          "execution_count": 31
        }
      ]
    },
    {
      "cell_type": "markdown",
      "source": [
        "Звіримось з numpy."
      ],
      "metadata": {
        "id": "lPqjKJPEESxN"
      }
    },
    {
      "cell_type": "code",
      "source": [
        "np.var(x), np.var(x, ddof=1)"
      ],
      "metadata": {
        "colab": {
          "base_uri": "https://localhost:8080/"
        },
        "outputId": "ea7cbd3d-aea6-425a-a494-b9a497f803b9",
        "id": "Z_U2w3V5ESxO"
      },
      "execution_count": null,
      "outputs": [
        {
          "output_type": "execute_result",
          "data": {
            "text/plain": [
              "(70.41, 78.23333333333333)"
            ]
          },
          "metadata": {},
          "execution_count": 32
        }
      ]
    },
    {
      "cell_type": "markdown",
      "source": [
        "## Стандартне відхилення\n",
        "\n",
        "**Стандартне відхилення** — це ще один ключовий статистичний показник, який використовується для вимірювання розсіянності або варіативності значень у наборі даних. Воно представляє собою корінь квадратний із варіації (дисперсії) і вимірює середнє відхилення індивідуальних значень даних від їх середнього значення. Стандартне відхилення дає змогу зрозуміти, наскільки далеко кожне спостереження відхиляється від середнього, надаючи більш інтуїтивно зрозумілу міру розподілу даних порівняно з варіацією, оскільки воно виражене у тих самих одиницях виміру, що й дані.\n",
        "\n",
        "### Формула стандартного відхилення\n",
        "\n",
        "Для вибірки з $n$ значень, стандартне відхилення $s$ розраховується за формулою:\n",
        "\n",
        "$ s = \\sqrt{\\frac{1}{n-1} \\sum_{i=1}^{n} (x_i - \\bar{x})^2} $\n",
        "\n",
        "де:\n",
        "- $s$ — стандартне відхилення вибірки,\n",
        "- $x_i$ — індивідуальні значення даних,\n",
        "- $\\bar{x}$ — середнє значення всієї вибірки,\n",
        "- $n$ — кількість значень в датасеті.\n",
        "\n",
        "Для генеральної сукупності стандартне відхилення позначається $\\sigma$ і розраховується аналогічно, але з використанням $n$ у знаменнику замість $n-1$.\n",
        "\n",
        "### Значення стандартного відхилення\n",
        "\n",
        "Стандартне відхилення важливе з кількох причин:\n",
        "- **Міра розсіянності:** Воно надає чітке уявлення про те, наскільки значення у наборі даних варіюються.\n",
        "- **Застосування:** Використовується в різноманітних галузях для аналізу варіативності, визначення ризику, оцінки якості тощо.\n",
        "- **Нормальний розподіл:** У контексті нормально розподілених даних, стандартне відхилення разом із середнім значенням дозволяє описати розподіл повністю.\n",
        "\n",
        "Стандартне відхилення, як і варіація, відіграє ключову роль у статистиці, оскільки допомагає зрозуміти характер розподілу даних і є основою для багатьох статистичних методів і тестів."
      ],
      "metadata": {
        "id": "hASnTaoREHnC"
      }
    },
    {
      "cell_type": "markdown",
      "source": [
        "Стандартне відхилення:"
      ],
      "metadata": {
        "id": "MKXrQrh6g8E9"
      }
    },
    {
      "cell_type": "code",
      "source": [
        "x_minus_mean = [(el - mean_x)**2 for el in x]\n",
        "std_x_general = np.sqrt(sum(x_minus_mean)/len(x))\n",
        "std_x_sample = np.sqrt(sum(x_minus_mean)/(len(x)-1))"
      ],
      "metadata": {
        "id": "a-F80Lm9hBPo"
      },
      "execution_count": null,
      "outputs": []
    },
    {
      "cell_type": "code",
      "source": [
        "std_x_general, std_x_sample"
      ],
      "metadata": {
        "colab": {
          "base_uri": "https://localhost:8080/"
        },
        "id": "pshaPZFPiJD6",
        "outputId": "53fa4c5f-3c68-4b3d-d08b-9e322184f439"
      },
      "execution_count": null,
      "outputs": [
        {
          "output_type": "execute_result",
          "data": {
            "text/plain": [
              "(8.391066678319271, 8.844960900610772)"
            ]
          },
          "metadata": {},
          "execution_count": 34
        }
      ]
    },
    {
      "cell_type": "markdown",
      "source": [
        "Звіримось з numpy."
      ],
      "metadata": {
        "id": "hZ8xoIQMitij"
      }
    },
    {
      "cell_type": "code",
      "source": [
        "np.std(x), np.std(x, ddof=1)"
      ],
      "metadata": {
        "colab": {
          "base_uri": "https://localhost:8080/"
        },
        "id": "ivSm8YgrhkoS",
        "outputId": "b552278f-e101-442c-b6e8-9b0287c46855"
      },
      "execution_count": null,
      "outputs": [
        {
          "output_type": "execute_result",
          "data": {
            "text/plain": [
              "(8.391066678319271, 8.844960900610772)"
            ]
          },
          "metadata": {},
          "execution_count": 35
        }
      ]
    },
    {
      "cell_type": "markdown",
      "source": [
        "Стандартне відхилення у."
      ],
      "metadata": {
        "id": "E8lvnoIWkM5Y"
      }
    },
    {
      "cell_type": "code",
      "source": [
        "y_minus_mean = [(el - mean_y)**2 for el in y]\n",
        "std_y_sample = np.sqrt(sum(y_minus_mean)/(len(y)-1))\n",
        "std_y_sample"
      ],
      "metadata": {
        "colab": {
          "base_uri": "https://localhost:8080/"
        },
        "id": "KNwMUWz_kMBN",
        "outputId": "51dada05-7f84-434b-fd0b-bd6f77b589ac"
      },
      "execution_count": null,
      "outputs": [
        {
          "output_type": "execute_result",
          "data": {
            "text/plain": [
              "15.552420318965721"
            ]
          },
          "metadata": {},
          "execution_count": 36
        }
      ]
    },
    {
      "cell_type": "markdown",
      "source": [
        "## Правило $3\\sigma$\n",
        "\n",
        "**Правило $3\\sigma$ (три сігми)** — це статистичне правило, яке використовується для опису розподілу даних у нормальному (гаусовому) розподілі. Згідно з цим правилом, приблизно 99.73% усіх значень у нормально розподіленому наборі даних знаходяться в межах трьох стандартних відхилень (сігм) від середнього значення. Це означає, що лише близько 0.27% значень виходять за межі цього діапазону.\n",
        "\n",
        "### Математичний опис правила $3\\sigma$\n",
        "\n",
        "Якщо маємо набір даних з нормальним розподілом, де $ \\mu $ означає середнє значення (математичне сподівання), а $ \\sigma $ — стандартне відхилення, тоді правило 3 сігма визначається так:\n",
        "\n",
        "- Приблизно 68.27% усіх значень знаходяться в межах одного стандартного відхилення від середнього ($ \\mu \\pm \\sigma $).\n",
        "- Приблизно 95.45% значень лежать в межах двох стандартних відхилень ($ \\mu \\pm 2\\sigma $).\n",
        "- Приблизно 99.73% значень знаходяться в межах трьох стандартних відхилень ($ \\mu \\pm 3\\sigma $).\n",
        "\n",
        "![](https://drive.google.com/uc?export=view&id=1lybSWbiKmJWwm8swxXr-eHcwg9Jrd5rk)\n",
        "\n",
        "\n",
        "### Застосування правила $3\\sigma$\n",
        "\n",
        "Правило 3 сігма застосовується у багатьох сферах, включаючи статистику, управління якістю, фінанси, інженерію та наукові дослідження. Воно допомагає у визначенні нормальності даних, встановленні меж допустимих варіацій процесів та ідентифікації потенційних викидів або аномалій.\n",
        "\n",
        "В управлінні якістю, наприклад, правило 3 сігма може використовуватися для моніторингу та контролю виробничих процесів, з метою забезпечення того, щоб більшість продукції відповідала стандартам якості. Аномалії, що виходять за межі трьох сігм, можуть вказувати на потребу в коригувальних діях або покращеннях процесу.\n",
        "\n",
        "У фінансах, правило 3 сігма використовується для оцінки ризиків та волатильності інвестиційних інструментів, допомагаючи інвесторам розуміти потенційні втрати або виграші в межах заданого періоду часу.\n",
        "\n",
        "Це правило є потужним інструментом для аналізу даних, що дозволяє з високою довірою прогнозувати ймовірність виникнення певних подій або відхилень у процесах і системах."
      ],
      "metadata": {
        "id": "ivJmdQHBEePb"
      }
    },
    {
      "cell_type": "markdown",
      "source": [
        "\n",
        "# Коваріація\n",
        "\n",
        "**Коваріація** — це міра того, наскільки дві змінні змінюються разом. Якщо дві змінні мають тенденцію зростати або зменшуватися разом, їхня коваріація буде позитивною. Якщо одна змінна зростає, коли інша зменшується, їхня коваріація буде негативною. Формула для розрахунку коваріації для вибірки виглядає так:\n",
        "\n",
        "$$ Cov(X, Y) = \\frac{1}{n-1} \\sum_{i=1}^{n} (x_i - \\bar{x})(y_i - \\bar{y}) $$\n",
        "\n",
        "де:\n",
        "- $X$ і $Y$ — дві змінні, для яких розраховується коваріація,\n",
        "- $x_i$ і $y_i$ — окремі значення спостережень для змінних $X$ і $Y$,\n",
        "- $\\bar{x}$ і $\\bar{y}$ — середні значення змінних $X$ і $Y$,\n",
        "- $n$ — кількість спостережень (або пар значень $X$ і $Y$).\n",
        "\n",
        "### Чому формула саме така?\n",
        "\n",
        "1. **Відхилення від середнього:** Вирази $x_i - \\bar{x}$ та $y_i - \\bar{y}$ представляють відхилення кожного спостереження від середнього значення своєї змінної. Це дає змогу виміряти, наскільки далеко кожне спостереження лежить від \"типового\" значення змінної.\n",
        "\n",
        "2. **Добуток відхилень:** Множення цих відхилень одне на одне для кожної пари значень $X$ і $Y$ дозволяє визначити, чи змінюються обидві змінні в одному напрямку (позитивно або негативно) та наскільки сильно. Якщо обидві змінні збільшуються або зменшуються разом, добуток буде позитивним, що вказує на позитивну взаємодію. Якщо одна змінна збільшується, коли інша зменшується, добуток буде негативним, що вказує на негативну взаємодію.\n",
        "\n",
        "3. **Сумування та нормалізація:** Сумування всіх цих добутків відхилень для кожної пари спостережень дає загальну міру взаємодії між змінними. Ділення суми на $n-1$ (замість $n$) є методом нормалізації, що враховує ступінь свободи у вибірці та забезпечує неупереджену оцінку коваріації для генеральної сукупності.\n"
      ],
      "metadata": {
        "id": "k0941UsrBgUP"
      }
    },
    {
      "cell_type": "code",
      "source": [
        "import matplotlib.pyplot as plt\n",
        "plt.plot(x, y, 'o');"
      ],
      "metadata": {
        "colab": {
          "base_uri": "https://localhost:8080/",
          "height": 430
        },
        "id": "fLoV8-bbNWgp",
        "outputId": "bc8dddc7-bcf1-4efe-8112-dd4a06dfc078"
      },
      "execution_count": null,
      "outputs": [
        {
          "output_type": "display_data",
          "data": {
            "text/plain": [
              "<Figure size 640x480 with 1 Axes>"
            ],
            "image/png": "[encoded data removed]"
          },
          "metadata": {}
        }
      ]
    },
    {
      "cell_type": "markdown",
      "source": [
        "Коваріація х і у:"
      ],
      "metadata": {
        "id": "5aZfJM42i5FT"
      }
    },
    {
      "cell_type": "code",
      "source": [
        "xy = [ (x[i] - mean_x)*(y[i] - mean_y) for i in range(len(x))]\n",
        "\n",
        "cov_xy = sum(xy)/(len(x)-1)"
      ],
      "metadata": {
        "id": "if5QuoPshuBN"
      },
      "execution_count": null,
      "outputs": []
    },
    {
      "cell_type": "code",
      "source": [
        "cov_xy"
      ],
      "metadata": {
        "colab": {
          "base_uri": "https://localhost:8080/"
        },
        "id": "hmgpQniNjPjd",
        "outputId": "c3b54ac3-53fb-4e03-daf2-b3c3fbae8ec2"
      },
      "execution_count": null,
      "outputs": [
        {
          "output_type": "execute_result",
          "data": {
            "text/plain": [
              "130.3"
            ]
          },
          "metadata": {},
          "execution_count": 47
        }
      ]
    },
    {
      "cell_type": "markdown",
      "source": [
        "Перевіримо побудувавши матрицю коваріації, де на діагоналі - варіація вибірки (стандартне відхилення в квадраті), а поза діагоналлю - коваріація. Вона та сама, адже є симетричною операцією."
      ],
      "metadata": {
        "id": "RstQ3sJTjq1i"
      }
    },
    {
      "cell_type": "code",
      "source": [
        "np.var(x, ddof=1)"
      ],
      "metadata": {
        "colab": {
          "base_uri": "https://localhost:8080/"
        },
        "id": "XtaKEE5FcvX-",
        "outputId": "94d373e0-cc16-4476-f8b6-957f8c1b5fb1"
      },
      "execution_count": null,
      "outputs": [
        {
          "output_type": "execute_result",
          "data": {
            "text/plain": [
              "78.23333333333333"
            ]
          },
          "metadata": {},
          "execution_count": 51
        }
      ]
    },
    {
      "cell_type": "code",
      "source": [
        "np.cov(x,y)"
      ],
      "metadata": {
        "colab": {
          "base_uri": "https://localhost:8080/"
        },
        "id": "6cGhgqd1jZ3s",
        "outputId": "6cdc9766-e2ef-4357-d0bb-b9515bde1a8e"
      },
      "execution_count": null,
      "outputs": [
        {
          "output_type": "execute_result",
          "data": {
            "text/plain": [
              "array([[ 78.23333333, 130.3       ],\n",
              "       [130.3       , 241.87777778]])"
            ]
          },
          "metadata": {},
          "execution_count": 48
        }
      ]
    },
    {
      "cell_type": "markdown",
      "source": [
        "## Кореляція Коефіцієнт кореляції\n",
        "\n",
        "Кореляція (англ. correlation) - це статистичний показник, який описує, наскільки тісно пов'язані між собою дві змінні. Якщо одна змінна змінюється, кореляція дає зрозуміти, чи можна очікувати зміни і в другій змінній, і наскільки сильним буде цей взаємозв'язок. Важливо пам'ятати, що кореляція **не говорить про причинно-наслідкові зв'язки**, тобто про те, що одна змінна обов'язково впливає на іншу.\n",
        "\n",
        "Припустимо, що ми зібрали дані від групи студентів, які вивчають англійську мову, і занотували, скільки часу кожен студент витрачає на вивчення мови щотижня, та їх рівень володіння мовою за результатами тестування.\n",
        "Якщо ми побачимо, що студенти, які проводять більше часу за вивченням мови, загалом показують кращі результати тестів, ніж ті, хто вивчає її менше часу, ми можемо сказати, що між часом, витраченим на вивчення мови, та рівнем знань існує позитивна кореляція. Це означає, що зі збільшенням однієї змінної (часу на вивчення) зростає і інша змінна (рівень володіння мовою).\n",
        "\n",
        "Важливо розуміти, що **хоча між цими двома змінними є кореляція, це не обов'язково означає, що саме витрачений час прямо спричиняє покращення знань мови, але вказує на наявність взаємозв'язку між ними**!\n",
        "\n",
        "**КОРЕЛЯЦІЯ - НЕ ЗНАЧИТЬ КАУЗАЛЬНІСТЬ!**\n",
        "\n",
        "Існує кілька ключових мір кореляції, кожна з яких підходить для різних типів даних та вимог до аналізу. Познайомимось з першою і найбільш вживаною з них - коефіцієнтом кореляції Пірсона.\n",
        "\n",
        "## Коефіцієнт кореляції Пірсона\n",
        "\n",
        "Коефіцієнт кореляції Пірсона використовується для вимірювання сили та напрямку **лінійного** взаємозв'язку між двома змінними. Це нормалізована версія коваріації, яка приймає значення від -1 до 1, де 1 означає ідеальну позитивну лінійну кореляцію, -1 — ідеальну негативну лінійну кореляцію, а 0 — відсутність лінійного взаємозв'язку.\n",
        "\n",
        "Формула для розрахунку коефіцієнта кореляції Пірсона:\n",
        "\n",
        "$$ r = \\frac{\\text{Cov}(X, Y)}{\\sigma_X \\sigma_Y} $$\n",
        "\n",
        "де:\n",
        "- $ r $ — коефіцієнт кореляції між змінними X та Y,\n",
        "- $ \\text{Cov}(X, Y) $ — вибіркова коваріація між X та Y,\n",
        "- $ \\sigma_X $ та $ \\sigma_Y $ — стандартні відхилення змінних X та Y відповідно.\n",
        "\n",
        "Коефіцієнт кореляції дає можливість зрозуміти не тільки напрямок, але й силу зв'язку між змінними, дозволяючи оцінити, наскільки точно одну змінну можна передбачити за допомогою іншої.\n",
        "\n",
        "\n",
        "![](https://drive.google.com/uc?export=view&id=15w6rDWOT12Rqd6JMsHlWKO_ufXp5l0_i)\n",
        "\n",
        "\n",
        "Для детальнішого розуміння, як розраховується вибірковий коефіцієнт кореляції Пірсона для вибірки, можемо розкласти цю формулу на більш базові компоненти. Коефіцієнт кореляції Пірсона $ r $ для вибірки визначається як:\n",
        "\n",
        "$ r = \\frac{\\text{Cov}(X, Y)}{\\sigma_X \\sigma_Y} $\n",
        "\n",
        "де:\n",
        "- $ \\text{Cov}(X, Y) $ — це вибіркова коваріація між змінними $ X $ та $ Y $,\n",
        "- $ \\sigma_X $ та $ \\sigma_Y $ — стандартні відхилення змінних $ X $ та $ Y $ відповідно.\n",
        "\n",
        "Спочатку давайте подивимося на розрахунок вибіркової коваріації $ \\text{Cov}(X, Y) $:\n",
        "\n",
        "$ \\text{Cov}(X, Y) = \\frac{1}{n-1} \\sum_{i=1}^{n} (x_i - \\bar{x})(y_i - \\bar{y}) $\n",
        "\n",
        "де $ x_i $ та $ y_i $ є індивідуальними значеннями змінних $ X $ та $ Y $ для кожного спостереження $ i $, $ \\bar{x} $ та $ \\bar{y} $ — вибіркові середні цих змінних, і $ n $ — загальна кількість спостережень у вибірці.\n",
        "\n",
        "Далі, стандартні відхилення $ \\sigma_X $ та $ \\sigma_Y $ можуть бути визначені як:\n",
        "\n",
        "$ \\sigma_X = \\sqrt{\\frac{1}{n-1} \\sum_{i=1}^{n} (x_i - \\bar{x})^2} $\n",
        "\n",
        "$ \\sigma_Y = \\sqrt{\\frac{1}{n-1} \\sum_{i=1}^{n} (y_i - \\bar{y})^2} $\n",
        "\n",
        "Тепер, маючи розраховані вибіркову коваріацію та стандартні відхилення для кожної зі змінних, ми можемо підставити їх у формулу коефіцієнта кореляції:\n",
        "\n",
        "$ r = {\\frac {\\sum _{i=1}^{n}(x_{i}-{\\bar {x}})(y_{i}-{\\bar {y}})}{{\\sqrt {\\sum _{i=1}^{n}(x_{i}-{\\bar {x}})^{2}}}{\\sqrt {\\sum _{i=1}^{n}(y_{i}-{\\bar {y}})^{2}}}}}$\n",
        "\n",
        "\n",
        "Приклад розрахунку кореляції покроково для наших даних:\n",
        "\n",
        "![](https://drive.google.com/uc?export=view&id=1LpT2qnWpfAHSpEtidjnrctM7y9RlKL2L)"
      ],
      "metadata": {
        "id": "QUsLnjqeMZbu"
      }
    },
    {
      "cell_type": "markdown",
      "source": [
        "Розрахунок кореляції:"
      ],
      "metadata": {
        "id": "tHafaLbHj8g7"
      }
    },
    {
      "cell_type": "code",
      "source": [
        "cov_xy / (std_x_sample * std_y_sample)"
      ],
      "metadata": {
        "colab": {
          "base_uri": "https://localhost:8080/"
        },
        "id": "9aVfJl7Jjgvm",
        "outputId": "a10f53e3-daae-4aec-b288-fe1a47f87d81"
      },
      "execution_count": null,
      "outputs": [
        {
          "output_type": "execute_result",
          "data": {
            "text/plain": [
              "0.9472192452662753"
            ]
          },
          "metadata": {},
          "execution_count": 52
        }
      ]
    },
    {
      "cell_type": "code",
      "source": [
        "np.corrcoef(x,y)"
      ],
      "metadata": {
        "colab": {
          "base_uri": "https://localhost:8080/"
        },
        "id": "7-gJih-Okag-",
        "outputId": "59b120f9-c1bd-4e5c-8202-b696195e30de"
      },
      "execution_count": null,
      "outputs": [
        {
          "output_type": "execute_result",
          "data": {
            "text/plain": [
              "array([[1.        , 0.94721925],\n",
              "       [0.94721925, 1.        ]])"
            ]
          },
          "metadata": {},
          "execution_count": 53
        }
      ]
    }
  ]
}