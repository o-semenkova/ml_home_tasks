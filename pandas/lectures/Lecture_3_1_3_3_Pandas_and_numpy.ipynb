{
 "cells": [
  {
   "cell_type": "markdown",
   "metadata": {
    "id": "mQQF8UZFEgbw"
   },
   "source": [
    "# **Pandas**"
   ]
  },
  {
   "cell_type": "markdown",
   "metadata": {
    "ExecuteTime": {
     "end_time": "2022-10-27T09:38:23.963898Z",
     "start_time": "2022-10-27T09:38:23.956873Z"
    },
    "id": "muHQcDEAEgby"
   },
   "source": [
    "У цій лекції познайомимось з бібліотекою pandas, її основними структурами, що з ними можна робити.   \n",
    "Також дізнаємось про бібліотеку для роботи з векторами і матрицями - numpy, як вона повʼязана з pandas і як її можна використовувати для роботи з табличними даними."
   ]
  },
  {
   "cell_type": "markdown",
   "metadata": {
    "id": "_W6rT8yNEgbz"
   },
   "source": [
    "## Що таке Pandas?"
   ]
  },
  {
   "cell_type": "markdown",
   "metadata": {
    "id": "Ey_f-6ztEgbz"
   },
   "source": [
    "**`Pandas`** - високорівнева бібліотека на Python, призначена для дослідження, очищення, оброблення та аналізу даних, що зберігаються в табличному форматі (.csv, .tsv, .xlsx та ін.) або базах даних.\n",
    "\n",
    "Pandas - основний інструмент роботи з табличними даними для Data Analysis та Data Science фахівця. Ми використовуємо Pandas щодня для **аналізу даних, маніпуляцій над ними та побудови моделей на них**.\n",
    "\n",
    "Pandas гнучкіший за Excel і дає змогу ефективно працювати з великими таблицями. Проста інтеграція Pandas з Numpy (Numeric Python - бібліотека для обчислень над векторами і матрицями), Matplotlib, Seaborn (бібліотеки візуалізації), scikit-learn (бібліотека з великою кількістю реалізованих методів машинного навчання) робить його незамінним під час розв'язання задач аналізу даних та ML задач на табличних даних."
   ]
  },
  {
   "cell_type": "markdown",
   "metadata": {
    "id": "flnYd9ElEgb0"
   },
   "source": [
    "Спершу перевіряємо, чи встановлені у вас pandas i numpy. Бібліотеки можуть бути встановлені через pip, якщо ви колись встановили їх самостійно, перевірити наступним чином"
   ]
  },
  {
   "cell_type": "code",
   "execution_count": null,
   "metadata": {
    "ExecuteTime": {
     "end_time": "2024-03-07T16:51:40.770581Z",
     "start_time": "2024-03-07T16:51:28.203197Z"
    },
    "id": "pH5FAx7OEgb0"
   },
   "outputs": [],
   "source": [
    "! conda list pandas"
   ]
  },
  {
   "cell_type": "code",
   "execution_count": null,
   "metadata": {
    "ExecuteTime": {
     "end_time": "2024-03-07T16:52:01.031570Z",
     "start_time": "2024-03-07T16:51:46.774003Z"
    },
    "id": "Tz4NgPcQEgb2"
   },
   "outputs": [],
   "source": [
    "! conda list numpy"
   ]
  },
  {
   "cell_type": "markdown",
   "metadata": {
    "id": "_PG1KMLGEgb2"
   },
   "source": [
    "Якщо у Вас пакет анаконда - бібліотеки можуть бути встановлені за замовченням в базовому оточенні. Перевірити наявність бібліотек - наступним чином."
   ]
  },
  {
   "cell_type": "code",
   "execution_count": null,
   "metadata": {},
   "outputs": [],
   "source": []
  },
  {
   "cell_type": "code",
   "execution_count": 2,
   "metadata": {
    "ExecuteTime": {
     "end_time": "2024-03-07T16:52:22.760965Z",
     "start_time": "2024-03-07T16:52:15.962740Z"
    },
    "id": "Z5SNlqb3Egb2"
   },
   "outputs": [
    {
     "name": "stdout",
     "output_type": "stream",
     "text": [
      "Name: pandas\n",
      "Version: 2.2.3\n",
      "Summary: Powerful data structures for data analysis, time series, and statistics\n",
      "Home-page: https://pandas.pydata.org\n",
      "Author: \n",
      "Author-email: The Pandas Development Team <pandas-dev@python.org>\n",
      "License: BSD 3-Clause License\n",
      "\n",
      "Copyright (c) 2008-2011, AQR Capital Management, LLC, Lambda Foundry, Inc. and PyData Development Team\n",
      "All rights reserved.\n",
      "\n",
      "Copyright (c) 2011-2023, Open source contributors.\n",
      "\n",
      "Redistribution and use in source and binary forms, with or without\n",
      "modification, are permitted provided that the following conditions are met:\n",
      "\n",
      "* Redistributions of source code must retain the above copyright notice, this\n",
      "  list of conditions and the following disclaimer.\n",
      "\n",
      "* Redistributions in binary form must reproduce the above copyright notice,\n",
      "  this list of conditions and the following disclaimer in the documentation\n",
      "  and/or other materials provided with the distribution.\n",
      "\n",
      "* Neither the name of the copyright holder nor the names of its\n",
      "  contributors may be used to endorse or promote products derived from\n",
      "  this software without specific prior written permission.\n",
      "\n",
      "THIS SOFTWARE IS PROVIDED BY THE COPYRIGHT HOLDERS AND CONTRIBUTORS \"AS IS\"\n",
      "AND ANY EXPRESS OR IMPLIED WARRANTIES, INCLUDING, BUT NOT LIMITED TO, THE\n",
      "IMPLIED WARRANTIES OF MERCHANTABILITY AND FITNESS FOR A PARTICULAR PURPOSE ARE\n",
      "DISCLAIMED. IN NO EVENT SHALL THE COPYRIGHT HOLDER OR CONTRIBUTORS BE LIABLE\n",
      "FOR ANY DIRECT, INDIRECT, INCIDENTAL, SPECIAL, EXEMPLARY, OR CONSEQUENTIAL\n",
      "DAMAGES (INCLUDING, BUT NOT LIMITED TO, PROCUREMENT OF SUBSTITUTE GOODS OR\n",
      "SERVICES; LOSS OF USE, DATA, OR PROFITS; OR BUSINESS INTERRUPTION) HOWEVER\n",
      "CAUSED AND ON ANY THEORY OF LIABILITY, WHETHER IN CONTRACT, STRICT LIABILITY,\n",
      "OR TORT (INCLUDING NEGLIGENCE OR OTHERWISE) ARISING IN ANY WAY OUT OF THE USE\n",
      "OF THIS SOFTWARE, EVEN IF ADVISED OF THE POSSIBILITY OF SUCH DAMAGE.\n",
      "Copyright (c) 2010-2019 Keith Goodman\n",
      "Copyright (c) 2019 Bottleneck Developers\n",
      "All rights reserved.\n",
      "\n",
      "Redistribution and use in source and binary forms, with or without\n",
      "modification, are permitted provided that the following conditions are met:\n",
      "\n",
      "    * Redistributions of source code must retain the above copyright notice,\n",
      "      this list of conditions and the following disclaimer.\n",
      "\n",
      "    * Redistributions in binary form must reproduce the above copyright\n",
      "      notice, this list of conditions and the following disclaimer in the\n",
      "      documentation and/or other materials provided with the distribution.\n",
      "\n",
      "THIS SOFTWARE IS PROVIDED BY THE COPYRIGHT HOLDERS AND CONTRIBUTORS \"AS IS\"\n",
      "AND ANY EXPRESS OR IMPLIED WARRANTIES, INCLUDING, BUT NOT LIMITED TO, THE\n",
      "IMPLIED WARRANTIES OF MERCHANTABILITY AND FITNESS FOR A PARTICULAR PURPOSE\n",
      "ARE DISCLAIMED. IN NO EVENT SHALL THE COPYRIGHT HOLDER OR CONTRIBUTORS BE\n",
      "LIABLE FOR ANY DIRECT, INDIRECT, INCIDENTAL, SPECIAL, EXEMPLARY, OR\n",
      "CONSEQUENTIAL DAMAGES (INCLUDING, BUT NOT LIMITED TO, PROCUREMENT OF\n",
      "SUBSTITUTE GOODS OR SERVICES; LOSS OF USE, DATA, OR PROFITS; OR BUSINESS\n",
      "INTERRUPTION) HOWEVER CAUSED AND ON ANY THEORY OF LIABILITY, WHETHER IN\n",
      "CONTRACT, STRICT LIABILITY, OR TORT (INCLUDING NEGLIGENCE OR OTHERWISE)\n",
      "ARISING IN ANY WAY OUT OF THE USE OF THIS SOFTWARE, EVEN IF ADVISED OF THE\n",
      "POSSIBILITY OF SUCH DAMAGE.Copyright 2017- Paul Ganssle <paul@ganssle.io>\n",
      "Copyright 2017- dateutil contributors (see AUTHORS file)\n",
      "\n",
      "   Licensed under the Apache License, Version 2.0 (the \"License\");\n",
      "   you may not use this file except in compliance with the License.\n",
      "   You may obtain a copy of the License at\n",
      "\n",
      "       http://www.apache.org/licenses/LICENSE-2.0\n",
      "\n",
      "   Unless required by applicable law or agreed to in writing, software\n",
      "   distributed under the License is distributed on an \"AS IS\" BASIS,\n",
      "   WITHOUT WARRANTIES OR CONDITIONS OF ANY KIND, either express or implied.\n",
      "   See the License for the specific language governing permissions and\n",
      "   limitations under the License.\n",
      "\n",
      "The above license applies to all contributions after 2017-12-01, as well as\n",
      "all contributions that have been re-licensed (see AUTHORS file for the list of\n",
      "contributors who have re-licensed their code).\n",
      "--------------------------------------------------------------------------------\n",
      "dateutil - Extensions to the standard Python datetime module.\n",
      "\n",
      "Copyright (c) 2003-2011 - Gustavo Niemeyer <gustavo@niemeyer.net>\n",
      "Copyright (c) 2012-2014 - Tomi Pieviläinen <tomi.pievilainen@iki.fi>\n",
      "Copyright (c) 2014-2016 - Yaron de Leeuw <me@jarondl.net>\n",
      "Copyright (c) 2015-     - Paul Ganssle <paul@ganssle.io>\n",
      "Copyright (c) 2015-     - dateutil contributors (see AUTHORS file)\n",
      "\n",
      "All rights reserved.\n",
      "\n",
      "Redistribution and use in source and binary forms, with or without\n",
      "modification, are permitted provided that the following conditions are met:\n",
      "\n",
      "    * Redistributions of source code must retain the above copyright notice,\n",
      "      this list of conditions and the following disclaimer.\n",
      "    * Redistributions in binary form must reproduce the above copyright notice,\n",
      "      this list of conditions and the following disclaimer in the documentation\n",
      "      and/or other materials provided with the distribution.\n",
      "    * Neither the name of the copyright holder nor the names of its\n",
      "      contributors may be used to endorse or promote products derived from\n",
      "      this software without specific prior written permission.\n",
      "\n",
      "THIS SOFTWARE IS PROVIDED BY THE COPYRIGHT HOLDERS AND CONTRIBUTORS\n",
      "\"AS IS\" AND ANY EXPRESS OR IMPLIED WARRANTIES, INCLUDING, BUT NOT\n",
      "LIMITED TO, THE IMPLIED WARRANTIES OF MERCHANTABILITY AND FITNESS FOR\n",
      "A PARTICULAR PURPOSE ARE DISCLAIMED. IN NO EVENT SHALL THE COPYRIGHT OWNER OR\n",
      "CONTRIBUTORS BE LIABLE FOR ANY DIRECT, INDIRECT, INCIDENTAL, SPECIAL,\n",
      "EXEMPLARY, OR CONSEQUENTIAL DAMAGES (INCLUDING, BUT NOT LIMITED TO,\n",
      "PROCUREMENT OF SUBSTITUTE GOODS OR SERVICES; LOSS OF USE, DATA, OR\n",
      "PROFITS; OR BUSINESS INTERRUPTION) HOWEVER CAUSED AND ON ANY THEORY OF\n",
      "LIABILITY, WHETHER IN CONTRACT, STRICT LIABILITY, OR TORT (INCLUDING\n",
      "NEGLIGENCE OR OTHERWISE) ARISING IN ANY WAY OUT OF THE USE OF THIS\n",
      "SOFTWARE, EVEN IF ADVISED OF THE POSSIBILITY OF SUCH DAMAGE.\n",
      "\n",
      "The above BSD License Applies to all code, even that also covered by Apache 2.0.# MIT License\n",
      "\n",
      "Copyright (c) 2019 Hadley Wickham; RStudio; and Evan Miller\n",
      "\n",
      "Permission is hereby granted, free of charge, to any person obtaining a copy\n",
      "of this software and associated documentation files (the \"Software\"), to deal\n",
      "in the Software without restriction, including without limitation the rights\n",
      "to use, copy, modify, merge, publish, distribute, sublicense, and/or sell\n",
      "copies of the Software, and to permit persons to whom the Software is\n",
      "furnished to do so, subject to the following conditions:\n",
      "\n",
      "The above copyright notice and this permission notice shall be included in all\n",
      "copies or substantial portions of the Software.\n",
      "\n",
      "THE SOFTWARE IS PROVIDED \"AS IS\", WITHOUT WARRANTY OF ANY KIND, EXPRESS OR\n",
      "IMPLIED, INCLUDING BUT NOT LIMITED TO THE WARRANTIES OF MERCHANTABILITY,\n",
      "FITNESS FOR A PARTICULAR PURPOSE AND NONINFRINGEMENT. IN NO EVENT SHALL THE\n",
      "AUTHORS OR COPYRIGHT HOLDERS BE LIABLE FOR ANY CLAIM, DAMAGES OR OTHER\n",
      "LIABILITY, WHETHER IN AN ACTION OF CONTRACT, TORT OR OTHERWISE, ARISING FROM,\n",
      "OUT OF OR IN CONNECTION WITH THE SOFTWARE OR THE USE OR OTHER DEALINGS IN THE\n",
      "SOFTWARE.\n",
      "Based on http://opensource.org/licenses/MIT\n",
      "\n",
      "This is a template. Complete and ship as file LICENSE the following 2\n",
      "lines (only)\n",
      "\n",
      "YEAR:\n",
      "COPYRIGHT HOLDER:\n",
      "\n",
      "and specify as\n",
      "\n",
      "License: MIT + file LICENSE\n",
      "\n",
      "Copyright (c) <YEAR>, <COPYRIGHT HOLDER>\n",
      "\n",
      "Permission is hereby granted, free of charge, to any person obtaining\n",
      "a copy of this software and associated documentation files (the\n",
      "\"Software\"), to deal in the Software without restriction, including\n",
      "without limitation the rights to use, copy, modify, merge, publish,\n",
      "distribute, sublicense, and/or sell copies of the Software, and to\n",
      "permit persons to whom the Software is furnished to do so, subject to\n",
      "the following conditions:\n",
      "\n",
      "The above copyright notice and this permission notice shall be\n",
      "included in all copies or substantial portions of the Software.\n",
      "\n",
      "THE SOFTWARE IS PROVIDED \"AS IS\", WITHOUT WARRANTY OF ANY KIND,\n",
      "EXPRESS OR IMPLIED, INCLUDING BUT NOT LIMITED TO THE WARRANTIES OF\n",
      "MERCHANTABILITY, FITNESS FOR A PARTICULAR PURPOSE AND\n",
      "NONINFRINGEMENT. IN NO EVENT SHALL THE AUTHORS OR COPYRIGHT HOLDERS BE\n",
      "LIABLE FOR ANY CLAIM, DAMAGES OR OTHER LIABILITY, WHETHER IN AN ACTION\n",
      "OF CONTRACT, TORT OR OTHERWISE, ARISING FROM, OUT OF OR IN CONNECTION\n",
      "WITH THE SOFTWARE OR THE USE OR OTHER DEALINGS IN THE SOFTWARE.\n",
      "The MIT License\n",
      "\n",
      "Copyright (c) 2008-     Attractive Chaos <attractor@live.co.uk>\n",
      "\n",
      "Permission is hereby granted, free of charge, to any person obtaining\n",
      "a copy of this software and associated documentation files (the\n",
      "\"Software\"), to deal in the Software without restriction, including\n",
      "without limitation the rights to use, copy, modify, merge, publish,\n",
      "distribute, sublicense, and/or sell copies of the Software, and to\n",
      "permit persons to whom the Software is furnished to do so, subject to\n",
      "the following conditions:\n",
      "\n",
      "The above copyright notice and this permission notice shall be\n",
      "included in all copies or substantial portions of the Software.\n",
      "\n",
      "THE SOFTWARE IS PROVIDED \"AS IS\", WITHOUT WARRANTY OF ANY KIND,\n",
      "EXPRESS OR IMPLIED, INCLUDING BUT NOT LIMITED TO THE WARRANTIES OF\n",
      "MERCHANTABILITY, FITNESS FOR A PARTICULAR PURPOSE AND\n",
      "NONINFRINGEMENT. IN NO EVENT SHALL THE AUTHORS OR COPYRIGHT HOLDERS\n",
      "BE LIABLE FOR ANY CLAIM, DAMAGES OR OTHER LIABILITY, WHETHER IN AN\n",
      "ACTION OF CONTRACT, TORT OR OTHERWISE, ARISING FROM, OUT OF OR IN\n",
      "CONNECTION WITH THE SOFTWARE OR THE USE OR OTHER DEALINGS IN THE\n",
      "SOFTWARE.musl as a whole is licensed under the following standard MIT license:\n",
      "\n",
      "----------------------------------------------------------------------\n",
      "Copyright © 2005-2020 Rich Felker, et al.\n",
      "\n",
      "Permission is hereby granted, free of charge, to any person obtaining\n",
      "a copy of this software and associated documentation files (the\n",
      "\"Software\"), to deal in the Software without restriction, including\n",
      "without limitation the rights to use, copy, modify, merge, publish,\n",
      "distribute, sublicense, and/or sell copies of the Software, and to\n",
      "permit persons to whom the Software is furnished to do so, subject to\n",
      "the following conditions:\n",
      "\n",
      "The above copyright notice and this permission notice shall be\n",
      "included in all copies or substantial portions of the Software.\n",
      "\n",
      "THE SOFTWARE IS PROVIDED \"AS IS\", WITHOUT WARRANTY OF ANY KIND,\n",
      "EXPRESS OR IMPLIED, INCLUDING BUT NOT LIMITED TO THE WARRANTIES OF\n",
      "MERCHANTABILITY, FITNESS FOR A PARTICULAR PURPOSE AND NONINFRINGEMENT.\n",
      "IN NO EVENT SHALL THE AUTHORS OR COPYRIGHT HOLDERS BE LIABLE FOR ANY\n",
      "CLAIM, DAMAGES OR OTHER LIABILITY, WHETHER IN AN ACTION OF CONTRACT,\n",
      "TORT OR OTHERWISE, ARISING FROM, OUT OF OR IN CONNECTION WITH THE\n",
      "SOFTWARE OR THE USE OR OTHER DEALINGS IN THE SOFTWARE.\n",
      "----------------------------------------------------------------------\n",
      "\n",
      "Authors/contributors include:\n",
      "\n",
      "A. Wilcox\n",
      "Ada Worcester\n",
      "Alex Dowad\n",
      "Alex Suykov\n",
      "Alexander Monakov\n",
      "Andre McCurdy\n",
      "Andrew Kelley\n",
      "Anthony G. Basile\n",
      "Aric Belsito\n",
      "Arvid Picciani\n",
      "Bartosz Brachaczek\n",
      "Benjamin Peterson\n",
      "Bobby Bingham\n",
      "Boris Brezillon\n",
      "Brent Cook\n",
      "Chris Spiegel\n",
      "Clément Vasseur\n",
      "Daniel Micay\n",
      "Daniel Sabogal\n",
      "Daurnimator\n",
      "David Carlier\n",
      "David Edelsohn\n",
      "Denys Vlasenko\n",
      "Dmitry Ivanov\n",
      "Dmitry V. Levin\n",
      "Drew DeVault\n",
      "Emil Renner Berthing\n",
      "Fangrui Song\n",
      "Felix Fietkau\n",
      "Felix Janda\n",
      "Gianluca Anzolin\n",
      "Hauke Mehrtens\n",
      "He X\n",
      "Hiltjo Posthuma\n",
      "Isaac Dunham\n",
      "Jaydeep Patil\n",
      "Jens Gustedt\n",
      "Jeremy Huntwork\n",
      "Jo-Philipp Wich\n",
      "Joakim Sindholt\n",
      "John Spencer\n",
      "Julien Ramseier\n",
      "Justin Cormack\n",
      "Kaarle Ritvanen\n",
      "Khem Raj\n",
      "Kylie McClain\n",
      "Leah Neukirchen\n",
      "Luca Barbato\n",
      "Luka Perkov\n",
      "M Farkas-Dyck (Strake)\n",
      "Mahesh Bodapati\n",
      "Markus Wichmann\n",
      "Masanori Ogino\n",
      "Michael Clark\n",
      "Michael Forney\n",
      "Mikhail Kremnyov\n",
      "Natanael Copa\n",
      "Nicholas J. Kain\n",
      "orc\n",
      "Pascal Cuoq\n",
      "Patrick Oppenlander\n",
      "Petr Hosek\n",
      "Petr Skocik\n",
      "Pierre Carrier\n",
      "Reini Urban\n",
      "Rich Felker\n",
      "Richard Pennington\n",
      "Ryan Fairfax\n",
      "Samuel Holland\n",
      "Segev Finer\n",
      "Shiz\n",
      "sin\n",
      "Solar Designer\n",
      "Stefan Kristiansson\n",
      "Stefan O'Rear\n",
      "Szabolcs Nagy\n",
      "Timo Teräs\n",
      "Trutz Behn\n",
      "Valentin Ochs\n",
      "Will Dietz\n",
      "William Haddon\n",
      "William Pitcock\n",
      "\n",
      "Portions of this software are derived from third-party works licensed\n",
      "under terms compatible with the above MIT license:\n",
      "\n",
      "The TRE regular expression implementation (src/regex/reg* and\n",
      "src/regex/tre*) is Copyright © 2001-2008 Ville Laurikari and licensed\n",
      "under a 2-clause BSD license (license text in the source files). The\n",
      "included version has been heavily modified by Rich Felker in 2012, in\n",
      "the interests of size, simplicity, and namespace cleanliness.\n",
      "\n",
      "Much of the math library code (src/math/* and src/complex/*) is\n",
      "Copyright © 1993,2004 Sun Microsystems or\n",
      "Copyright © 2003-2011 David Schultz or\n",
      "Copyright © 2003-2009 Steven G. Kargl or\n",
      "Copyright © 2003-2009 Bruce D. Evans or\n",
      "Copyright © 2008 Stephen L. Moshier or\n",
      "Copyright © 2017-2018 Arm Limited\n",
      "and labelled as such in comments in the individual source files. All\n",
      "have been licensed under extremely permissive terms.\n",
      "\n",
      "The ARM memcpy code (src/string/arm/memcpy.S) is Copyright © 2008\n",
      "The Android Open Source Project and is licensed under a two-clause BSD\n",
      "license. It was taken from Bionic libc, used on Android.\n",
      "\n",
      "The AArch64 memcpy and memset code (src/string/aarch64/*) are\n",
      "Copyright © 1999-2019, Arm Limited.\n",
      "\n",
      "The implementation of DES for crypt (src/crypt/crypt_des.c) is\n",
      "Copyright © 1994 David Burren. It is licensed under a BSD license.\n",
      "\n",
      "The implementation of blowfish crypt (src/crypt/crypt_blowfish.c) was\n",
      "originally written by Solar Designer and placed into the public\n",
      "domain. The code also comes with a fallback permissive license for use\n",
      "in jurisdictions that may not recognize the public domain.\n",
      "\n",
      "The smoothsort implementation (src/stdlib/qsort.c) is Copyright © 2011\n",
      "Valentin Ochs and is licensed under an MIT-style license.\n",
      "\n",
      "The x86_64 port was written by Nicholas J. Kain and is licensed under\n",
      "the standard MIT terms.\n",
      "\n",
      "The mips and microblaze ports were originally written by Richard\n",
      "Pennington for use in the ellcc project. The original code was adapted\n",
      "by Rich Felker for build system and code conventions during upstream\n",
      "integration. It is licensed under the standard MIT terms.\n",
      "\n",
      "The mips64 port was contributed by Imagination Technologies and is\n",
      "licensed under the standard MIT terms.\n",
      "\n",
      "The powerpc port was also originally written by Richard Pennington,\n",
      "and later supplemented and integrated by John Spencer. It is licensed\n",
      "under the standard MIT terms.\n",
      "\n",
      "All other files which have no copyright comments are original works\n",
      "produced specifically for use as part of this library, written either\n",
      "by Rich Felker, the main author of the library, or by one or more\n",
      "contibutors listed above. Details on authorship of individual files\n",
      "can be found in the git version control history of the project. The\n",
      "omission of copyright and license comments in each file is in the\n",
      "interest of source tree size.\n",
      "\n",
      "In addition, permission is hereby granted for all public header files\n",
      "(include/* and arch/*/bits/*) and crt files intended to be linked into\n",
      "applications (crt/*, ldso/dlstart.c, and arch/*/crt_arch.h) to omit\n",
      "the copyright notice and permission notice otherwise required by the\n",
      "license, and to use these files without any requirement of\n",
      "attribution. These files include substantial contributions from:\n",
      "\n",
      "Bobby Bingham\n",
      "John Spencer\n",
      "Nicholas J. Kain\n",
      "Rich Felker\n",
      "Richard Pennington\n",
      "Stefan Kristiansson\n",
      "Szabolcs Nagy\n",
      "\n",
      "all of whom have explicitly granted such permission.\n",
      "\n",
      "This file previously contained text expressing a belief that most of\n",
      "the files covered by the above exception were sufficiently trivial not\n",
      "to be subject to copyright, resulting in confusion over whether it\n",
      "negated the permissions granted in the license. In the spirit of\n",
      "permissive licensing, and of not having licensing issues being an\n",
      "obstacle to adoption, that text has been removed.Copyright (c) 2005-2023, NumPy Developers.\n",
      "All rights reserved.\n",
      "\n",
      "Redistribution and use in source and binary forms, with or without\n",
      "modification, are permitted provided that the following conditions are\n",
      "met:\n",
      "\n",
      "    * Redistributions of source code must retain the above copyright\n",
      "       notice, this list of conditions and the following disclaimer.\n",
      "\n",
      "    * Redistributions in binary form must reproduce the above\n",
      "       copyright notice, this list of conditions and the following\n",
      "       disclaimer in the documentation and/or other materials provided\n",
      "       with the distribution.\n",
      "\n",
      "    * Neither the name of the NumPy Developers nor the names of any\n",
      "       contributors may be used to endorse or promote products derived\n",
      "       from this software without specific prior written permission.\n",
      "\n",
      "THIS SOFTWARE IS PROVIDED BY THE COPYRIGHT HOLDERS AND CONTRIBUTORS\n",
      "\"AS IS\" AND ANY EXPRESS OR IMPLIED WARRANTIES, INCLUDING, BUT NOT\n",
      "LIMITED TO, THE IMPLIED WARRANTIES OF MERCHANTABILITY AND FITNESS FOR\n",
      "A PARTICULAR PURPOSE ARE DISCLAIMED. IN NO EVENT SHALL THE COPYRIGHT\n",
      "OWNER OR CONTRIBUTORS BE LIABLE FOR ANY DIRECT, INDIRECT, INCIDENTAL,\n",
      "SPECIAL, EXEMPLARY, OR CONSEQUENTIAL DAMAGES (INCLUDING, BUT NOT\n",
      "LIMITED TO, PROCUREMENT OF SUBSTITUTE GOODS OR SERVICES; LOSS OF USE,\n",
      "DATA, OR PROFITS; OR BUSINESS INTERRUPTION) HOWEVER CAUSED AND ON ANY\n",
      "THEORY OF LIABILITY, WHETHER IN CONTRACT, STRICT LIABILITY, OR TORT\n",
      "(INCLUDING NEGLIGENCE OR OTHERWISE) ARISING IN ANY WAY OUT OF THE USE\n",
      "OF THIS SOFTWARE, EVEN IF ADVISED OF THE POSSIBILITY OF SUCH DAMAGE.\n",
      "                                 Apache License\n",
      "                           Version 2.0, January 2004\n",
      "                        http://www.apache.org/licenses/\n",
      "\n",
      "   TERMS AND CONDITIONS FOR USE, REPRODUCTION, AND DISTRIBUTION\n",
      "\n",
      "   1. Definitions.\n",
      "\n",
      "      \"License\" shall mean the terms and conditions for use, reproduction,\n",
      "      and distribution as defined by Sections 1 through 9 of this document.\n",
      "\n",
      "      \"Licensor\" shall mean the copyright owner or entity authorized by\n",
      "      the copyright owner that is granting the License.\n",
      "\n",
      "      \"Legal Entity\" shall mean the union of the acting entity and all\n",
      "      other entities that control, are controlled by, or are under common\n",
      "      control with that entity. For the purposes of this definition,\n",
      "      \"control\" means (i) the power, direct or indirect, to cause the\n",
      "      direction or management of such entity, whether by contract or\n",
      "      otherwise, or (ii) ownership of fifty percent (50%) or more of the\n",
      "      outstanding shares, or (iii) beneficial ownership of such entity.\n",
      "\n",
      "      \"You\" (or \"Your\") shall mean an individual or Legal Entity\n",
      "      exercising permissions granted by this License.\n",
      "\n",
      "      \"Source\" form shall mean the preferred form for making modifications,\n",
      "      including but not limited to software source code, documentation\n",
      "      source, and configuration files.\n",
      "\n",
      "      \"Object\" form shall mean any form resulting from mechanical\n",
      "      transformation or translation of a Source form, including but\n",
      "      not limited to compiled object code, generated documentation,\n",
      "      and conversions to other media types.\n",
      "\n",
      "      \"Work\" shall mean the work of authorship, whether in Source or\n",
      "      Object form, made available under the License, as indicated by a\n",
      "      copyright notice that is included in or attached to the work\n",
      "      (an example is provided in the Appendix below).\n",
      "\n",
      "      \"Derivative Works\" shall mean any work, whether in Source or Object\n",
      "      form, that is based on (or derived from) the Work and for which the\n",
      "      editorial revisions, annotations, elaborations, or other modifications\n",
      "      represent, as a whole, an original work of authorship. For the purposes\n",
      "      of this License, Derivative Works shall not include works that remain\n",
      "      separable from, or merely link (or bind by name) to the interfaces of,\n",
      "      the Work and Derivative Works thereof.\n",
      "\n",
      "      \"Contribution\" shall mean any work of authorship, including\n",
      "      the original version of the Work and any modifications or additions\n",
      "      to that Work or Derivative Works thereof, that is intentionally\n",
      "      submitted to Licensor for inclusion in the Work by the copyright owner\n",
      "      or by an individual or Legal Entity authorized to submit on behalf of\n",
      "      the copyright owner. For the purposes of this definition, \"submitted\"\n",
      "      means any form of electronic, verbal, or written communication sent\n",
      "      to the Licensor or its representatives, including but not limited to\n",
      "      communication on electronic mailing lists, source code control systems,\n",
      "      and issue tracking systems that are managed by, or on behalf of, the\n",
      "      Licensor for the purpose of discussing and improving the Work, but\n",
      "      excluding communication that is conspicuously marked or otherwise\n",
      "      designated in writing by the copyright owner as \"Not a Contribution.\"\n",
      "\n",
      "      \"Contributor\" shall mean Licensor and any individual or Legal Entity\n",
      "      on behalf of whom a Contribution has been received by Licensor and\n",
      "      subsequently incorporated within the Work.\n",
      "\n",
      "   2. Grant of Copyright License. Subject to the terms and conditions of\n",
      "      this License, each Contributor hereby grants to You a perpetual,\n",
      "      worldwide, non-exclusive, no-charge, royalty-free, irrevocable\n",
      "      copyright license to reproduce, prepare Derivative Works of,\n",
      "      publicly display, publicly perform, sublicense, and distribute the\n",
      "      Work and such Derivative Works in Source or Object form.\n",
      "\n",
      "   3. Grant of Patent License. Subject to the terms and conditions of\n",
      "      this License, each Contributor hereby grants to You a perpetual,\n",
      "      worldwide, non-exclusive, no-charge, royalty-free, irrevocable\n",
      "      (except as stated in this section) patent license to make, have made,\n",
      "      use, offer to sell, sell, import, and otherwise transfer the Work,\n",
      "      where such license applies only to those patent claims licensable\n",
      "      by such Contributor that are necessarily infringed by their\n",
      "      Contribution(s) alone or by combination of their Contribution(s)\n",
      "      with the Work to which such Contribution(s) was submitted. If You\n",
      "      institute patent litigation against any entity (including a\n",
      "      cross-claim or counterclaim in a lawsuit) alleging that the Work\n",
      "      or a Contribution incorporated within the Work constitutes direct\n",
      "      or contributory patent infringement, then any patent licenses\n",
      "      granted to You under this License for that Work shall terminate\n",
      "      as of the date such litigation is filed.\n",
      "\n",
      "   4. Redistribution. You may reproduce and distribute copies of the\n",
      "      Work or Derivative Works thereof in any medium, with or without\n",
      "      modifications, and in Source or Object form, provided that You\n",
      "      meet the following conditions:\n",
      "\n",
      "      (a) You must give any other recipients of the Work or\n",
      "          Derivative Works a copy of this License; and\n",
      "\n",
      "      (b) You must cause any modified files to carry prominent notices\n",
      "          stating that You changed the files; and\n",
      "\n",
      "      (c) You must retain, in the Source form of any Derivative Works\n",
      "          that You distribute, all copyright, patent, trademark, and\n",
      "          attribution notices from the Source form of the Work,\n",
      "          excluding those notices that do not pertain to any part of\n",
      "          the Derivative Works; and\n",
      "\n",
      "      (d) If the Work includes a \"NOTICE\" text file as part of its\n",
      "          distribution, then any Derivative Works that You distribute must\n",
      "          include a readable copy of the attribution notices contained\n",
      "          within such NOTICE file, excluding those notices that do not\n",
      "          pertain to any part of the Derivative Works, in at least one\n",
      "          of the following places: within a NOTICE text file distributed\n",
      "          as part of the Derivative Works; within the Source form or\n",
      "          documentation, if provided along with the Derivative Works; or,\n",
      "          within a display generated by the Derivative Works, if and\n",
      "          wherever such third-party notices normally appear. The contents\n",
      "          of the NOTICE file are for informational purposes only and\n",
      "          do not modify the License. You may add Your own attribution\n",
      "          notices within Derivative Works that You distribute, alongside\n",
      "          or as an addendum to the NOTICE text from the Work, provided\n",
      "          that such additional attribution notices cannot be construed\n",
      "          as modifying the License.\n",
      "\n",
      "      You may add Your own copyright statement to Your modifications and\n",
      "      may provide additional or different license terms and conditions\n",
      "      for use, reproduction, or distribution of Your modifications, or\n",
      "      for any such Derivative Works as a whole, provided Your use,\n",
      "      reproduction, and distribution of the Work otherwise complies with\n",
      "      the conditions stated in this License.\n",
      "\n",
      "   5. Submission of Contributions. Unless You explicitly state otherwise,\n",
      "      any Contribution intentionally submitted for inclusion in the Work\n",
      "      by You to the Licensor shall be under the terms and conditions of\n",
      "      this License, without any additional terms or conditions.\n",
      "      Notwithstanding the above, nothing herein shall supersede or modify\n",
      "      the terms of any separate license agreement you may have executed\n",
      "      with Licensor regarding such Contributions.\n",
      "\n",
      "   6. Trademarks. This License does not grant permission to use the trade\n",
      "      names, trademarks, service marks, or product names of the Licensor,\n",
      "      except as required for reasonable and customary use in describing the\n",
      "      origin of the Work and reproducing the content of the NOTICE file.\n",
      "\n",
      "   7. Disclaimer of Warranty. Unless required by applicable law or\n",
      "      agreed to in writing, Licensor provides the Work (and each\n",
      "      Contributor provides its Contributions) on an \"AS IS\" BASIS,\n",
      "      WITHOUT WARRANTIES OR CONDITIONS OF ANY KIND, either express or\n",
      "      implied, including, without limitation, any warranties or conditions\n",
      "      of TITLE, NON-INFRINGEMENT, MERCHANTABILITY, or FITNESS FOR A\n",
      "      PARTICULAR PURPOSE. You are solely responsible for determining the\n",
      "      appropriateness of using or redistributing the Work and assume any\n",
      "      risks associated with Your exercise of permissions under this License.\n",
      "\n",
      "   8. Limitation of Liability. In no event and under no legal theory,\n",
      "      whether in tort (including negligence), contract, or otherwise,\n",
      "      unless required by applicable law (such as deliberate and grossly\n",
      "      negligent acts) or agreed to in writing, shall any Contributor be\n",
      "      liable to You for damages, including any direct, indirect, special,\n",
      "      incidental, or consequential damages of any character arising as a\n",
      "      result of this License or out of the use or inability to use the\n",
      "      Work (including but not limited to damages for loss of goodwill,\n",
      "      work stoppage, computer failure or malfunction, or any and all\n",
      "      other commercial damages or losses), even if such Contributor\n",
      "      has been advised of the possibility of such damages.\n",
      "\n",
      "   9. Accepting Warranty or Additional Liability. While redistributing\n",
      "      the Work or Derivative Works thereof, You may choose to offer,\n",
      "      and charge a fee for, acceptance of support, warranty, indemnity,\n",
      "      or other liability obligations and/or rights consistent with this\n",
      "      License. However, in accepting such obligations, You may act only\n",
      "      on Your own behalf and on Your sole responsibility, not on behalf\n",
      "      of any other Contributor, and only if You agree to indemnify,\n",
      "      defend, and hold each Contributor harmless for any liability\n",
      "      incurred by, or claims asserted against, such Contributor by reason\n",
      "      of your accepting any such warranty or additional liability.\n",
      "\n",
      "   END OF TERMS AND CONDITIONS\n",
      "\n",
      "\n",
      "Copyright (c) Donald Stufft and individual contributors.\n",
      "All rights reserved.\n",
      "\n",
      "Redistribution and use in source and binary forms, with or without\n",
      "modification, are permitted provided that the following conditions are met:\n",
      "\n",
      "    1. Redistributions of source code must retain the above copyright notice,\n",
      "       this list of conditions and the following disclaimer.\n",
      "\n",
      "    2. Redistributions in binary form must reproduce the above copyright\n",
      "       notice, this list of conditions and the following disclaimer in the\n",
      "       documentation and/or other materials provided with the distribution.\n",
      "\n",
      "THIS SOFTWARE IS PROVIDED BY THE COPYRIGHT HOLDERS AND CONTRIBUTORS \"AS IS\" AND\n",
      "ANY EXPRESS OR IMPLIED WARRANTIES, INCLUDING, BUT NOT LIMITED TO, THE IMPLIED\n",
      "WARRANTIES OF MERCHANTABILITY AND FITNESS FOR A PARTICULAR PURPOSE ARE\n",
      "DISCLAIMED. IN NO EVENT SHALL THE COPYRIGHT HOLDER OR CONTRIBUTORS BE LIABLE\n",
      "FOR ANY DIRECT, INDIRECT, INCIDENTAL, SPECIAL, EXEMPLARY, OR CONSEQUENTIAL\n",
      "DAMAGES (INCLUDING, BUT NOT LIMITED TO, PROCUREMENT OF SUBSTITUTE GOODS OR\n",
      "SERVICES; LOSS OF USE, DATA, OR PROFITS; OR BUSINESS INTERRUPTION) HOWEVER\n",
      "CAUSED AND ON ANY THEORY OF LIABILITY, WHETHER IN CONTRACT, STRICT LIABILITY,\n",
      "OR TORT (INCLUDING NEGLIGENCE OR OTHERWISE) ARISING IN ANY WAY OUT OF THE USE\n",
      "OF THIS SOFTWARE, EVEN IF ADVISED OF THE POSSIBILITY OF SUCH DAMAGE.A. HISTORY OF THE SOFTWARE\n",
      "==========================\n",
      "\n",
      "Python was created in the early 1990s by Guido van Rossum at Stichting\n",
      "Mathematisch Centrum (CWI, see https://www.cwi.nl) in the Netherlands\n",
      "as a successor of a language called ABC.  Guido remains Python's\n",
      "principal author, although it includes many contributions from others.\n",
      "\n",
      "In 1995, Guido continued his work on Python at the Corporation for\n",
      "National Research Initiatives (CNRI, see https://www.cnri.reston.va.us)\n",
      "in Reston, Virginia where he released several versions of the\n",
      "software.\n",
      "\n",
      "In May 2000, Guido and the Python core development team moved to\n",
      "BeOpen.com to form the BeOpen PythonLabs team.  In October of the same\n",
      "year, the PythonLabs team moved to Digital Creations, which became\n",
      "Zope Corporation.  In 2001, the Python Software Foundation (PSF, see\n",
      "https://www.python.org/psf/) was formed, a non-profit organization\n",
      "created specifically to own Python-related Intellectual Property.\n",
      "Zope Corporation was a sponsoring member of the PSF.\n",
      "\n",
      "All Python releases are Open Source (see https://opensource.org for\n",
      "the Open Source Definition).  Historically, most, but not all, Python\n",
      "releases have also been GPL-compatible; the table below summarizes\n",
      "the various releases.\n",
      "\n",
      "    Release         Derived     Year        Owner       GPL-\n",
      "                    from                                compatible? (1)\n",
      "\n",
      "    0.9.0 thru 1.2              1991-1995   CWI         yes\n",
      "    1.3 thru 1.5.2  1.2         1995-1999   CNRI        yes\n",
      "    1.6             1.5.2       2000        CNRI        no\n",
      "    2.0             1.6         2000        BeOpen.com  no\n",
      "    1.6.1           1.6         2001        CNRI        yes (2)\n",
      "    2.1             2.0+1.6.1   2001        PSF         no\n",
      "    2.0.1           2.0+1.6.1   2001        PSF         yes\n",
      "    2.1.1           2.1+2.0.1   2001        PSF         yes\n",
      "    2.1.2           2.1.1       2002        PSF         yes\n",
      "    2.1.3           2.1.2       2002        PSF         yes\n",
      "    2.2 and above   2.1.1       2001-now    PSF         yes\n",
      "\n",
      "Footnotes:\n",
      "\n",
      "(1) GPL-compatible doesn't mean that we're distributing Python under\n",
      "    the GPL.  All Python licenses, unlike the GPL, let you distribute\n",
      "    a modified version without making your changes open source.  The\n",
      "    GPL-compatible licenses make it possible to combine Python with\n",
      "    other software that is released under the GPL; the others don't.\n",
      "\n",
      "(2) According to Richard Stallman, 1.6.1 is not GPL-compatible,\n",
      "    because its license has a choice of law clause.  According to\n",
      "    CNRI, however, Stallman's lawyer has told CNRI's lawyer that 1.6.1\n",
      "    is \"not incompatible\" with the GPL.\n",
      "\n",
      "Thanks to the many outside volunteers who have worked under Guido's\n",
      "direction to make these releases possible.\n",
      "\n",
      "\n",
      "B. TERMS AND CONDITIONS FOR ACCESSING OR OTHERWISE USING PYTHON\n",
      "===============================================================\n",
      "\n",
      "Python software and documentation are licensed under the\n",
      "Python Software Foundation License Version 2.\n",
      "\n",
      "Starting with Python 3.8.6, examples, recipes, and other code in\n",
      "the documentation are dual licensed under the PSF License Version 2\n",
      "and the Zero-Clause BSD license.\n",
      "\n",
      "Some software incorporated into Python is under different licenses.\n",
      "The licenses are listed with code falling under that license.\n",
      "\n",
      "\n",
      "PYTHON SOFTWARE FOUNDATION LICENSE VERSION 2\n",
      "--------------------------------------------\n",
      "\n",
      "1. This LICENSE AGREEMENT is between the Python Software Foundation\n",
      "(\"PSF\"), and the Individual or Organization (\"Licensee\") accessing and\n",
      "otherwise using this software (\"Python\") in source or binary form and\n",
      "its associated documentation.\n",
      "\n",
      "2. Subject to the terms and conditions of this License Agreement, PSF hereby\n",
      "grants Licensee a nonexclusive, royalty-free, world-wide license to reproduce,\n",
      "analyze, test, perform and/or display publicly, prepare derivative works,\n",
      "distribute, and otherwise use Python alone or in any derivative version,\n",
      "provided, however, that PSF's License Agreement and PSF's notice of copyright,\n",
      "i.e., \"Copyright (c) 2001, 2002, 2003, 2004, 2005, 2006, 2007, 2008, 2009, 2010,\n",
      "2011, 2012, 2013, 2014, 2015, 2016, 2017, 2018, 2019, 2020, 2021, 2022, 2023 Python Software Foundation;\n",
      "All Rights Reserved\" are retained in Python alone or in any derivative version\n",
      "prepared by Licensee.\n",
      "\n",
      "3. In the event Licensee prepares a derivative work that is based on\n",
      "or incorporates Python or any part thereof, and wants to make\n",
      "the derivative work available to others as provided herein, then\n",
      "Licensee hereby agrees to include in any such work a brief summary of\n",
      "the changes made to Python.\n",
      "\n",
      "4. PSF is making Python available to Licensee on an \"AS IS\"\n",
      "basis.  PSF MAKES NO REPRESENTATIONS OR WARRANTIES, EXPRESS OR\n",
      "IMPLIED.  BY WAY OF EXAMPLE, BUT NOT LIMITATION, PSF MAKES NO AND\n",
      "DISCLAIMS ANY REPRESENTATION OR WARRANTY OF MERCHANTABILITY OR FITNESS\n",
      "FOR ANY PARTICULAR PURPOSE OR THAT THE USE OF PYTHON WILL NOT\n",
      "INFRINGE ANY THIRD PARTY RIGHTS.\n",
      "\n",
      "5. PSF SHALL NOT BE LIABLE TO LICENSEE OR ANY OTHER USERS OF PYTHON\n",
      "FOR ANY INCIDENTAL, SPECIAL, OR CONSEQUENTIAL DAMAGES OR LOSS AS\n",
      "A RESULT OF MODIFYING, DISTRIBUTING, OR OTHERWISE USING PYTHON,\n",
      "OR ANY DERIVATIVE THEREOF, EVEN IF ADVISED OF THE POSSIBILITY THEREOF.\n",
      "\n",
      "6. This License Agreement will automatically terminate upon a material\n",
      "breach of its terms and conditions.\n",
      "\n",
      "7. Nothing in this License Agreement shall be deemed to create any\n",
      "relationship of agency, partnership, or joint venture between PSF and\n",
      "Licensee.  This License Agreement does not grant permission to use PSF\n",
      "trademarks or trade name in a trademark sense to endorse or promote\n",
      "products or services of Licensee, or any third party.\n",
      "\n",
      "8. By copying, installing or otherwise using Python, Licensee\n",
      "agrees to be bound by the terms and conditions of this License\n",
      "Agreement.\n",
      "\n",
      "\n",
      "BEOPEN.COM LICENSE AGREEMENT FOR PYTHON 2.0\n",
      "-------------------------------------------\n",
      "\n",
      "BEOPEN PYTHON OPEN SOURCE LICENSE AGREEMENT VERSION 1\n",
      "\n",
      "1. This LICENSE AGREEMENT is between BeOpen.com (\"BeOpen\"), having an\n",
      "office at 160 Saratoga Avenue, Santa Clara, CA 95051, and the\n",
      "Individual or Organization (\"Licensee\") accessing and otherwise using\n",
      "this software in source or binary form and its associated\n",
      "documentation (\"the Software\").\n",
      "\n",
      "2. Subject to the terms and conditions of this BeOpen Python License\n",
      "Agreement, BeOpen hereby grants Licensee a non-exclusive,\n",
      "royalty-free, world-wide license to reproduce, analyze, test, perform\n",
      "and/or display publicly, prepare derivative works, distribute, and\n",
      "otherwise use the Software alone or in any derivative version,\n",
      "provided, however, that the BeOpen Python License is retained in the\n",
      "Software, alone or in any derivative version prepared by Licensee.\n",
      "\n",
      "3. BeOpen is making the Software available to Licensee on an \"AS IS\"\n",
      "basis.  BEOPEN MAKES NO REPRESENTATIONS OR WARRANTIES, EXPRESS OR\n",
      "IMPLIED.  BY WAY OF EXAMPLE, BUT NOT LIMITATION, BEOPEN MAKES NO AND\n",
      "DISCLAIMS ANY REPRESENTATION OR WARRANTY OF MERCHANTABILITY OR FITNESS\n",
      "FOR ANY PARTICULAR PURPOSE OR THAT THE USE OF THE SOFTWARE WILL NOT\n",
      "INFRINGE ANY THIRD PARTY RIGHTS.\n",
      "\n",
      "4. BEOPEN SHALL NOT BE LIABLE TO LICENSEE OR ANY OTHER USERS OF THE\n",
      "SOFTWARE FOR ANY INCIDENTAL, SPECIAL, OR CONSEQUENTIAL DAMAGES OR LOSS\n",
      "AS A RESULT OF USING, MODIFYING OR DISTRIBUTING THE SOFTWARE, OR ANY\n",
      "DERIVATIVE THEREOF, EVEN IF ADVISED OF THE POSSIBILITY THEREOF.\n",
      "\n",
      "5. This License Agreement will automatically terminate upon a material\n",
      "breach of its terms and conditions.\n",
      "\n",
      "6. This License Agreement shall be governed by and interpreted in all\n",
      "respects by the law of the State of California, excluding conflict of\n",
      "law provisions.  Nothing in this License Agreement shall be deemed to\n",
      "create any relationship of agency, partnership, or joint venture\n",
      "between BeOpen and Licensee.  This License Agreement does not grant\n",
      "permission to use BeOpen trademarks or trade names in a trademark\n",
      "sense to endorse or promote products or services of Licensee, or any\n",
      "third party.  As an exception, the \"BeOpen Python\" logos available at\n",
      "http://www.pythonlabs.com/logos.html may be used according to the\n",
      "permissions granted on that web page.\n",
      "\n",
      "7. By copying, installing or otherwise using the software, Licensee\n",
      "agrees to be bound by the terms and conditions of this License\n",
      "Agreement.\n",
      "\n",
      "\n",
      "CNRI LICENSE AGREEMENT FOR PYTHON 1.6.1\n",
      "---------------------------------------\n",
      "\n",
      "1. This LICENSE AGREEMENT is between the Corporation for National\n",
      "Research Initiatives, having an office at 1895 Preston White Drive,\n",
      "Reston, VA 20191 (\"CNRI\"), and the Individual or Organization\n",
      "(\"Licensee\") accessing and otherwise using Python 1.6.1 software in\n",
      "source or binary form and its associated documentation.\n",
      "\n",
      "2. Subject to the terms and conditions of this License Agreement, CNRI\n",
      "hereby grants Licensee a nonexclusive, royalty-free, world-wide\n",
      "license to reproduce, analyze, test, perform and/or display publicly,\n",
      "prepare derivative works, distribute, and otherwise use Python 1.6.1\n",
      "alone or in any derivative version, provided, however, that CNRI's\n",
      "License Agreement and CNRI's notice of copyright, i.e., \"Copyright (c)\n",
      "1995-2001 Corporation for National Research Initiatives; All Rights\n",
      "Reserved\" are retained in Python 1.6.1 alone or in any derivative\n",
      "version prepared by Licensee.  Alternately, in lieu of CNRI's License\n",
      "Agreement, Licensee may substitute the following text (omitting the\n",
      "quotes): \"Python 1.6.1 is made available subject to the terms and\n",
      "conditions in CNRI's License Agreement.  This Agreement together with\n",
      "Python 1.6.1 may be located on the internet using the following\n",
      "unique, persistent identifier (known as a handle): 1895.22/1013.  This\n",
      "Agreement may also be obtained from a proxy server on the internet\n",
      "using the following URL: http://hdl.handle.net/1895.22/1013\".\n",
      "\n",
      "3. In the event Licensee prepares a derivative work that is based on\n",
      "or incorporates Python 1.6.1 or any part thereof, and wants to make\n",
      "the derivative work available to others as provided herein, then\n",
      "Licensee hereby agrees to include in any such work a brief summary of\n",
      "the changes made to Python 1.6.1.\n",
      "\n",
      "4. CNRI is making Python 1.6.1 available to Licensee on an \"AS IS\"\n",
      "basis.  CNRI MAKES NO REPRESENTATIONS OR WARRANTIES, EXPRESS OR\n",
      "IMPLIED.  BY WAY OF EXAMPLE, BUT NOT LIMITATION, CNRI MAKES NO AND\n",
      "DISCLAIMS ANY REPRESENTATION OR WARRANTY OF MERCHANTABILITY OR FITNESS\n",
      "FOR ANY PARTICULAR PURPOSE OR THAT THE USE OF PYTHON 1.6.1 WILL NOT\n",
      "INFRINGE ANY THIRD PARTY RIGHTS.\n",
      "\n",
      "5. CNRI SHALL NOT BE LIABLE TO LICENSEE OR ANY OTHER USERS OF PYTHON\n",
      "1.6.1 FOR ANY INCIDENTAL, SPECIAL, OR CONSEQUENTIAL DAMAGES OR LOSS AS\n",
      "A RESULT OF MODIFYING, DISTRIBUTING, OR OTHERWISE USING PYTHON 1.6.1,\n",
      "OR ANY DERIVATIVE THEREOF, EVEN IF ADVISED OF THE POSSIBILITY THEREOF.\n",
      "\n",
      "6. This License Agreement will automatically terminate upon a material\n",
      "breach of its terms and conditions.\n",
      "\n",
      "7. This License Agreement shall be governed by the federal\n",
      "intellectual property law of the United States, including without\n",
      "limitation the federal copyright law, and, to the extent such\n",
      "U.S. federal law does not apply, by the law of the Commonwealth of\n",
      "Virginia, excluding Virginia's conflict of law provisions.\n",
      "Notwithstanding the foregoing, with regard to derivative works based\n",
      "on Python 1.6.1 that incorporate non-separable material that was\n",
      "previously distributed under the GNU General Public License (GPL), the\n",
      "law of the Commonwealth of Virginia shall govern this License\n",
      "Agreement only as to issues arising under or with respect to\n",
      "Paragraphs 4, 5, and 7 of this License Agreement.  Nothing in this\n",
      "License Agreement shall be deemed to create any relationship of\n",
      "agency, partnership, or joint venture between CNRI and Licensee.  This\n",
      "License Agreement does not grant permission to use CNRI trademarks or\n",
      "trade name in a trademark sense to endorse or promote products or\n",
      "services of Licensee, or any third party.\n",
      "\n",
      "8. By clicking on the \"ACCEPT\" button where indicated, or by copying,\n",
      "installing or otherwise using Python 1.6.1, Licensee agrees to be\n",
      "bound by the terms and conditions of this License Agreement.\n",
      "\n",
      "        ACCEPT\n",
      "\n",
      "\n",
      "CWI LICENSE AGREEMENT FOR PYTHON 0.9.0 THROUGH 1.2\n",
      "--------------------------------------------------\n",
      "\n",
      "Copyright (c) 1991 - 1995, Stichting Mathematisch Centrum Amsterdam,\n",
      "The Netherlands.  All rights reserved.\n",
      "\n",
      "Permission to use, copy, modify, and distribute this software and its\n",
      "documentation for any purpose and without fee is hereby granted,\n",
      "provided that the above copyright notice appear in all copies and that\n",
      "both that copyright notice and this permission notice appear in\n",
      "supporting documentation, and that the name of Stichting Mathematisch\n",
      "Centrum or CWI not be used in advertising or publicity pertaining to\n",
      "distribution of the software without specific, written prior\n",
      "permission.\n",
      "\n",
      "STICHTING MATHEMATISCH CENTRUM DISCLAIMS ALL WARRANTIES WITH REGARD TO\n",
      "THIS SOFTWARE, INCLUDING ALL IMPLIED WARRANTIES OF MERCHANTABILITY AND\n",
      "FITNESS, IN NO EVENT SHALL STICHTING MATHEMATISCH CENTRUM BE LIABLE\n",
      "FOR ANY SPECIAL, INDIRECT OR CONSEQUENTIAL DAMAGES OR ANY DAMAGES\n",
      "WHATSOEVER RESULTING FROM LOSS OF USE, DATA OR PROFITS, WHETHER IN AN\n",
      "ACTION OF CONTRACT, NEGLIGENCE OR OTHER TORTIOUS ACTION, ARISING OUT\n",
      "OF OR IN CONNECTION WITH THE USE OR PERFORMANCE OF THIS SOFTWARE.\n",
      "\n",
      "ZERO-CLAUSE BSD LICENSE FOR CODE IN THE PYTHON DOCUMENTATION\n",
      "----------------------------------------------------------------------\n",
      "\n",
      "Permission to use, copy, modify, and/or distribute this software for any\n",
      "purpose with or without fee is hereby granted.\n",
      "\n",
      "THE SOFTWARE IS PROVIDED \"AS IS\" AND THE AUTHOR DISCLAIMS ALL WARRANTIES WITH\n",
      "REGARD TO THIS SOFTWARE INCLUDING ALL IMPLIED WARRANTIES OF MERCHANTABILITY\n",
      "AND FITNESS. IN NO EVENT SHALL THE AUTHOR BE LIABLE FOR ANY SPECIAL, DIRECT,\n",
      "INDIRECT, OR CONSEQUENTIAL DAMAGES OR ANY DAMAGES WHATSOEVER RESULTING FROM\n",
      "LOSS OF USE, DATA OR PROFITS, WHETHER IN AN ACTION OF CONTRACT, NEGLIGENCE OR\n",
      "OTHER TORTIOUS ACTION, ARISING OUT OF OR IN CONNECTION WITH THE USE OR\n",
      "PERFORMANCE OF THIS SOFTWARE.\n",
      "Copyright (c) 2014, Al Sweigart\n",
      "All rights reserved.\n",
      "\n",
      "Redistribution and use in source and binary forms, with or without\n",
      "modification, are permitted provided that the following conditions are met:\n",
      "\n",
      "* Redistributions of source code must retain the above copyright notice, this\n",
      "  list of conditions and the following disclaimer.\n",
      "\n",
      "* Redistributions in binary form must reproduce the above copyright notice,\n",
      "  this list of conditions and the following disclaimer in the documentation\n",
      "  and/or other materials provided with the distribution.\n",
      "\n",
      "* Neither the name of the {organization} nor the names of its\n",
      "  contributors may be used to endorse or promote products derived from\n",
      "  this software without specific prior written permission.\n",
      "\n",
      "THIS SOFTWARE IS PROVIDED BY THE COPYRIGHT HOLDERS AND CONTRIBUTORS \"AS IS\"\n",
      "AND ANY EXPRESS OR IMPLIED WARRANTIES, INCLUDING, BUT NOT LIMITED TO, THE\n",
      "IMPLIED WARRANTIES OF MERCHANTABILITY AND FITNESS FOR A PARTICULAR PURPOSE ARE\n",
      "DISCLAIMED. IN NO EVENT SHALL THE COPYRIGHT HOLDER OR CONTRIBUTORS BE LIABLE\n",
      "FOR ANY DIRECT, INDIRECT, INCIDENTAL, SPECIAL, EXEMPLARY, OR CONSEQUENTIAL\n",
      "DAMAGES (INCLUDING, BUT NOT LIMITED TO, PROCUREMENT OF SUBSTITUTE GOODS OR\n",
      "SERVICES; LOSS OF USE, DATA, OR PROFITS; OR BUSINESS INTERRUPTION) HOWEVER\n",
      "CAUSED AND ON ANY THEORY OF LIABILITY, WHETHER IN CONTRACT, STRICT LIABILITY,\n",
      "OR TORT (INCLUDING NEGLIGENCE OR OTHERWISE) ARISING IN ANY WAY OUT OF THE USE\n",
      "OF THIS SOFTWARE, EVEN IF ADVISED OF THE POSSIBILITY OF SUCH DAMAGE.Copyright (c) 2017 Anthony Sottile\n",
      "\n",
      "Permission is hereby granted, free of charge, to any person obtaining a copy\n",
      "of this software and associated documentation files (the \"Software\"), to deal\n",
      "in the Software without restriction, including without limitation the rights\n",
      "to use, copy, modify, merge, publish, distribute, sublicense, and/or sell\n",
      "copies of the Software, and to permit persons to whom the Software is\n",
      "furnished to do so, subject to the following conditions:\n",
      "\n",
      "The above copyright notice and this permission notice shall be included in\n",
      "all copies or substantial portions of the Software.\n",
      "\n",
      "THE SOFTWARE IS PROVIDED \"AS IS\", WITHOUT WARRANTY OF ANY KIND, EXPRESS OR\n",
      "IMPLIED, INCLUDING BUT NOT LIMITED TO THE WARRANTIES OF MERCHANTABILITY,\n",
      "FITNESS FOR A PARTICULAR PURPOSE AND NONINFRINGEMENT. IN NO EVENT SHALL THE\n",
      "AUTHORS OR COPYRIGHT HOLDERS BE LIABLE FOR ANY CLAIM, DAMAGES OR OTHER\n",
      "LIABILITY, WHETHER IN AN ACTION OF CONTRACT, TORT OR OTHERWISE, ARISING FROM,\n",
      "OUT OF OR IN CONNECTION WITH THE SOFTWARE OR THE USE OR OTHER DEALINGS IN\n",
      "THE SOFTWARE.Copyright (c) 2015-2019 Jared Hobbs\n",
      "\n",
      "Permission is hereby granted, free of charge, to any person obtaining a copy of\n",
      "this software and associated documentation files (the \"Software\"), to deal in\n",
      "the Software without restriction, including without limitation the rights to\n",
      "use, copy, modify, merge, publish, distribute, sublicense, and/or sell copies\n",
      "of the Software, and to permit persons to whom the Software is furnished to do\n",
      "so, subject to the following conditions:\n",
      "\n",
      "The above copyright notice and this permission notice shall be included in all\n",
      "copies or substantial portions of the Software.\n",
      "\n",
      "THE SOFTWARE IS PROVIDED \"AS IS\", WITHOUT WARRANTY OF ANY KIND, EXPRESS OR\n",
      "IMPLIED, INCLUDING BUT NOT LIMITED TO THE WARRANTIES OF MERCHANTABILITY,\n",
      "FITNESS FOR A PARTICULAR PURPOSE AND NONINFRINGEMENT. IN NO EVENT SHALL THE\n",
      "AUTHORS OR COPYRIGHT HOLDERS BE LIABLE FOR ANY CLAIM, DAMAGES OR OTHER\n",
      "LIABILITY, WHETHER IN AN ACTION OF CONTRACT, TORT OR OTHERWISE, ARISING FROM,\n",
      "OUT OF OR IN CONNECTION WITH THE SOFTWARE OR THE USE OR OTHER DEALINGS IN THE\n",
      "SOFTWARE.Developed by ESN, an Electronic Arts Inc. studio.\n",
      "Copyright (c) 2014, Electronic Arts Inc.\n",
      "All rights reserved.\n",
      "\n",
      "Redistribution and use in source and binary forms, with or without\n",
      "modification, are permitted provided that the following conditions are met:\n",
      "* Redistributions of source code must retain the above copyright\n",
      "notice, this list of conditions and the following disclaimer.\n",
      "* Redistributions in binary form must reproduce the above copyright\n",
      "notice, this list of conditions and the following disclaimer in the\n",
      "documentation and/or other materials provided with the distribution.\n",
      "* Neither the name of ESN, Electronic Arts Inc. nor the\n",
      "names of its contributors may be used to endorse or promote products\n",
      "derived from this software without specific prior written permission.\n",
      "\n",
      "THIS SOFTWARE IS PROVIDED BY THE COPYRIGHT HOLDERS AND CONTRIBUTORS \"AS IS\" AND\n",
      "ANY EXPRESS OR IMPLIED WARRANTIES, INCLUDING, BUT NOT LIMITED TO, THE IMPLIED\n",
      "WARRANTIES OF MERCHANTABILITY AND FITNESS FOR A PARTICULAR PURPOSE ARE\n",
      "DISCLAIMED. IN NO EVENT SHALL ELECTRONIC ARTS INC. BE LIABLE\n",
      "FOR ANY DIRECT, INDIRECT, INCIDENTAL, SPECIAL, EXEMPLARY, OR CONSEQUENTIAL DAMAGES\n",
      "(INCLUDING, BUT NOT LIMITED TO, PROCUREMENT OF SUBSTITUTE GOODS OR SERVICES;\n",
      "LOSS OF USE, DATA, OR PROFITS; OR BUSINESS INTERRUPTION) HOWEVER CAUSED AND\n",
      "ON ANY THEORY OF LIABILITY, WHETHER IN CONTRACT, STRICT LIABILITY, OR TORT\n",
      "(INCLUDING NEGLIGENCE OR OTHERWISE) ARISING IN ANY WAY OUT OF THE USE OF THIS\n",
      "SOFTWARE, EVEN IF ADVISED OF THE POSSIBILITY OF SUCH DAMAGE.\n",
      "\n",
      "----\n",
      "\n",
      "Portions of code from MODP_ASCII - Ascii transformations (upper/lower, etc)\n",
      "https://github.com/client9/stringencoders\n",
      "\n",
      "  Copyright 2005, 2006, 2007\n",
      "  Nick Galbreath -- nickg [at] modp [dot] com\n",
      "  All rights reserved.\n",
      "\n",
      "  Redistribution and use in source and binary forms, with or without\n",
      "  modification, are permitted provided that the following conditions are\n",
      "  met:\n",
      "\n",
      "    Redistributions of source code must retain the above copyright\n",
      "    notice, this list of conditions and the following disclaimer.\n",
      "\n",
      "    Redistributions in binary form must reproduce the above copyright\n",
      "    notice, this list of conditions and the following disclaimer in the\n",
      "    documentation and/or other materials provided with the distribution.\n",
      "\n",
      "    Neither the name of the modp.com nor the names of its\n",
      "    contributors may be used to endorse or promote products derived from\n",
      "    this software without specific prior written permission.\n",
      "\n",
      "  THIS SOFTWARE IS PROVIDED BY THE COPYRIGHT HOLDERS AND CONTRIBUTORS\n",
      "  \"AS IS\" AND ANY EXPRESS OR IMPLIED WARRANTIES, INCLUDING, BUT NOT\n",
      "  LIMITED TO, THE IMPLIED WARRANTIES OF MERCHANTABILITY AND FITNESS FOR\n",
      "  A PARTICULAR PURPOSE ARE DISCLAIMED. IN NO EVENT SHALL THE COPYRIGHT\n",
      "  OWNER OR CONTRIBUTORS BE LIABLE FOR ANY DIRECT, INDIRECT, INCIDENTAL,\n",
      "  SPECIAL, EXEMPLARY, OR CONSEQUENTIAL DAMAGES (INCLUDING, BUT NOT\n",
      "  LIMITED TO, PROCUREMENT OF SUBSTITUTE GOODS OR SERVICES; LOSS OF USE,\n",
      "  DATA, OR PROFITS; OR BUSINESS INTERRUPTION) HOWEVER CAUSED AND ON ANY\n",
      "  THEORY OF LIABILITY, WHETHER IN CONTRACT, STRICT LIABILITY, OR TORT\n",
      "  (INCLUDING NEGLIGENCE OR OTHERWISE) ARISING IN ANY WAY OUT OF THE USE\n",
      "  OF THIS SOFTWARE, EVEN IF ADVISED OF THE POSSIBILITY OF SUCH DAMAGE.\n",
      "\n",
      "  This is the standard \"new\" BSD license:\n",
      "  http://www.opensource.org/licenses/bsd-license.php\n",
      "\n",
      "https://github.com/client9/stringencoders/blob/cfd5c1507325ae497ea9bacdacba12c0ffd79d30/COPYING\n",
      "\n",
      "----\n",
      "\n",
      "Numeric decoder derived from from TCL library\n",
      "https://opensource.apple.com/source/tcl/tcl-14/tcl/license.terms\n",
      " * Copyright (c) 1988-1993 The Regents of the University of California.\n",
      " * Copyright (c) 1994 Sun Microsystems, Inc.\n",
      "\n",
      "  This software is copyrighted by the Regents of the University of\n",
      "  California, Sun Microsystems, Inc., Scriptics Corporation, ActiveState\n",
      "  Corporation and other parties.  The following terms apply to all files\n",
      "  associated with the software unless explicitly disclaimed in\n",
      "  individual files.\n",
      "\n",
      "  The authors hereby grant permission to use, copy, modify, distribute,\n",
      "  and license this software and its documentation for any purpose, provided\n",
      "  that existing copyright notices are retained in all copies and that this\n",
      "  notice is included verbatim in any distributions. No written agreement,\n",
      "  license, or royalty fee is required for any of the authorized uses.\n",
      "  Modifications to this software may be copyrighted by their authors\n",
      "  and need not follow the licensing terms described here, provided that\n",
      "  the new terms are clearly indicated on the first page of each file where\n",
      "  they apply.\n",
      "\n",
      "  IN NO EVENT SHALL THE AUTHORS OR DISTRIBUTORS BE LIABLE TO ANY PARTY\n",
      "  FOR DIRECT, INDIRECT, SPECIAL, INCIDENTAL, OR CONSEQUENTIAL DAMAGES\n",
      "  ARISING OUT OF THE USE OF THIS SOFTWARE, ITS DOCUMENTATION, OR ANY\n",
      "  DERIVATIVES THEREOF, EVEN IF THE AUTHORS HAVE BEEN ADVISED OF THE\n",
      "  POSSIBILITY OF SUCH DAMAGE.\n",
      "\n",
      "  THE AUTHORS AND DISTRIBUTORS SPECIFICALLY DISCLAIM ANY WARRANTIES,\n",
      "  INCLUDING, BUT NOT LIMITED TO, THE IMPLIED WARRANTIES OF MERCHANTABILITY,\n",
      "  FITNESS FOR A PARTICULAR PURPOSE, AND NON-INFRINGEMENT.  THIS SOFTWARE\n",
      "  IS PROVIDED ON AN \"AS IS\" BASIS, AND THE AUTHORS AND DISTRIBUTORS HAVE\n",
      "  NO OBLIGATION TO PROVIDE MAINTENANCE, SUPPORT, UPDATES, ENHANCEMENTS, OR\n",
      "  MODIFICATIONS.\n",
      "\n",
      "  GOVERNMENT USE: If you are acquiring this software on behalf of the\n",
      "  U.S. government, the Government shall have only \"Restricted Rights\"\n",
      "  in the software and related documentation as defined in the Federal\n",
      "  Acquisition Regulations (FARs) in Clause 52.227.19 (c) (2).  If you\n",
      "  are acquiring the software on behalf of the Department of Defense, the\n",
      "  software shall be classified as \"Commercial Computer Software\" and the\n",
      "  Government shall have only \"Restricted Rights\" as defined in Clause\n",
      "  252.227-7013 (c) (1) of DFARs.  Notwithstanding the foregoing, the\n",
      "  authors grant the U.S. Government and others acting in its behalf\n",
      "  permission to use and distribute the software in accordance with the\n",
      "  terms specified in this license.Apache License\n",
      "Version 2.0, January 2004\n",
      "http://www.apache.org/licenses/\n",
      "\n",
      "TERMS AND CONDITIONS FOR USE, REPRODUCTION, AND DISTRIBUTION\n",
      "\n",
      "1. Definitions.\n",
      "\n",
      "\"License\" shall mean the terms and conditions for use, reproduction, and\n",
      "distribution as defined by Sections 1 through 9 of this document.\n",
      "\n",
      "\"Licensor\" shall mean the copyright owner or entity authorized by the copyright\n",
      "owner that is granting the License.\n",
      "\n",
      "\"Legal Entity\" shall mean the union of the acting entity and all other entities\n",
      "that control, are controlled by, or are under common control with that entity.\n",
      "For the purposes of this definition, \"control\" means (i) the power, direct or\n",
      "indirect, to cause the direction or management of such entity, whether by\n",
      "contract or otherwise, or (ii) ownership of fifty percent (50%) or more of the\n",
      "outstanding shares, or (iii) beneficial ownership of such entity.\n",
      "\n",
      "\"You\" (or \"Your\") shall mean an individual or Legal Entity exercising\n",
      "permissions granted by this License.\n",
      "\n",
      "\"Source\" form shall mean the preferred form for making modifications, including\n",
      "but not limited to software source code, documentation source, and configuration\n",
      "files.\n",
      "\n",
      "\"Object\" form shall mean any form resulting from mechanical transformation or\n",
      "translation of a Source form, including but not limited to compiled object code,\n",
      "generated documentation, and conversions to other media types.\n",
      "\n",
      "\"Work\" shall mean the work of authorship, whether in Source or Object form, made\n",
      "available under the License, as indicated by a copyright notice that is included\n",
      "in or attached to the work (an example is provided in the Appendix below).\n",
      "\n",
      "\"Derivative Works\" shall mean any work, whether in Source or Object form, that\n",
      "is based on (or derived from) the Work and for which the editorial revisions,\n",
      "annotations, elaborations, or other modifications represent, as a whole, an\n",
      "original work of authorship. For the purposes of this License, Derivative Works\n",
      "shall not include works that remain separable from, or merely link (or bind by\n",
      "name) to the interfaces of, the Work and Derivative Works thereof.\n",
      "\n",
      "\"Contribution\" shall mean any work of authorship, including the original version\n",
      "of the Work and any modifications or additions to that Work or Derivative Works\n",
      "thereof, that is intentionally submitted to Licensor for inclusion in the Work\n",
      "by the copyright owner or by an individual or Legal Entity authorized to submit\n",
      "on behalf of the copyright owner. For the purposes of this definition,\n",
      "\"submitted\" means any form of electronic, verbal, or written communication sent\n",
      "to the Licensor or its representatives, including but not limited to\n",
      "communication on electronic mailing lists, source code control systems, and\n",
      "issue tracking systems that are managed by, or on behalf of, the Licensor for\n",
      "the purpose of discussing and improving the Work, but excluding communication\n",
      "that is conspicuously marked or otherwise designated in writing by the copyright\n",
      "owner as \"Not a Contribution.\"\n",
      "\n",
      "\"Contributor\" shall mean Licensor and any individual or Legal Entity on behalf\n",
      "of whom a Contribution has been received by Licensor and subsequently\n",
      "incorporated within the Work.\n",
      "\n",
      "2. Grant of Copyright License.\n",
      "\n",
      "Subject to the terms and conditions of this License, each Contributor hereby\n",
      "grants to You a perpetual, worldwide, non-exclusive, no-charge, royalty-free,\n",
      "irrevocable copyright license to reproduce, prepare Derivative Works of,\n",
      "publicly display, publicly perform, sublicense, and distribute the Work and such\n",
      "Derivative Works in Source or Object form.\n",
      "\n",
      "3. Grant of Patent License.\n",
      "\n",
      "Subject to the terms and conditions of this License, each Contributor hereby\n",
      "grants to You a perpetual, worldwide, non-exclusive, no-charge, royalty-free,\n",
      "irrevocable (except as stated in this section) patent license to make, have\n",
      "made, use, offer to sell, sell, import, and otherwise transfer the Work, where\n",
      "such license applies only to those patent claims licensable by such Contributor\n",
      "that are necessarily infringed by their Contribution(s) alone or by combination\n",
      "of their Contribution(s) with the Work to which such Contribution(s) was\n",
      "submitted. If You institute patent litigation against any entity (including a\n",
      "cross-claim or counterclaim in a lawsuit) alleging that the Work or a\n",
      "Contribution incorporated within the Work constitutes direct or contributory\n",
      "patent infringement, then any patent licenses granted to You under this License\n",
      "for that Work shall terminate as of the date such litigation is filed.\n",
      "\n",
      "4. Redistribution.\n",
      "\n",
      "You may reproduce and distribute copies of the Work or Derivative Works thereof\n",
      "in any medium, with or without modifications, and in Source or Object form,\n",
      "provided that You meet the following conditions:\n",
      "\n",
      "You must give any other recipients of the Work or Derivative Works a copy of\n",
      "this License; and\n",
      "You must cause any modified files to carry prominent notices stating that You\n",
      "changed the files; and\n",
      "You must retain, in the Source form of any Derivative Works that You distribute,\n",
      "all copyright, patent, trademark, and attribution notices from the Source form\n",
      "of the Work, excluding those notices that do not pertain to any part of the\n",
      "Derivative Works; and\n",
      "If the Work includes a \"NOTICE\" text file as part of its distribution, then any\n",
      "Derivative Works that You distribute must include a readable copy of the\n",
      "attribution notices contained within such NOTICE file, excluding those notices\n",
      "that do not pertain to any part of the Derivative Works, in at least one of the\n",
      "following places: within a NOTICE text file distributed as part of the\n",
      "Derivative Works; within the Source form or documentation, if provided along\n",
      "with the Derivative Works; or, within a display generated by the Derivative\n",
      "Works, if and wherever such third-party notices normally appear. The contents of\n",
      "the NOTICE file are for informational purposes only and do not modify the\n",
      "License. You may add Your own attribution notices within Derivative Works that\n",
      "You distribute, alongside or as an addendum to the NOTICE text from the Work,\n",
      "provided that such additional attribution notices cannot be construed as\n",
      "modifying the License.\n",
      "You may add Your own copyright statement to Your modifications and may provide\n",
      "additional or different license terms and conditions for use, reproduction, or\n",
      "distribution of Your modifications, or for any such Derivative Works as a whole,\n",
      "provided Your use, reproduction, and distribution of the Work otherwise complies\n",
      "with the conditions stated in this License.\n",
      "\n",
      "5. Submission of Contributions.\n",
      "\n",
      "Unless You explicitly state otherwise, any Contribution intentionally submitted\n",
      "for inclusion in the Work by You to the Licensor shall be under the terms and\n",
      "conditions of this License, without any additional terms or conditions.\n",
      "Notwithstanding the above, nothing herein shall supersede or modify the terms of\n",
      "any separate license agreement you may have executed with Licensor regarding\n",
      "such Contributions.\n",
      "\n",
      "6. Trademarks.\n",
      "\n",
      "This License does not grant permission to use the trade names, trademarks,\n",
      "service marks, or product names of the Licensor, except as required for\n",
      "reasonable and customary use in describing the origin of the Work and\n",
      "reproducing the content of the NOTICE file.\n",
      "\n",
      "7. Disclaimer of Warranty.\n",
      "\n",
      "Unless required by applicable law or agreed to in writing, Licensor provides the\n",
      "Work (and each Contributor provides its Contributions) on an \"AS IS\" BASIS,\n",
      "WITHOUT WARRANTIES OR CONDITIONS OF ANY KIND, either express or implied,\n",
      "including, without limitation, any warranties or conditions of TITLE,\n",
      "NON-INFRINGEMENT, MERCHANTABILITY, or FITNESS FOR A PARTICULAR PURPOSE. You are\n",
      "solely responsible for determining the appropriateness of using or\n",
      "redistributing the Work and assume any risks associated with Your exercise of\n",
      "permissions under this License.\n",
      "\n",
      "8. Limitation of Liability.\n",
      "\n",
      "In no event and under no legal theory, whether in tort (including negligence),\n",
      "contract, or otherwise, unless required by applicable law (such as deliberate\n",
      "and grossly negligent acts) or agreed to in writing, shall any Contributor be\n",
      "liable to You for damages, including any direct, indirect, special, incidental,\n",
      "or consequential damages of any character arising as a result of this License or\n",
      "out of the use or inability to use the Work (including but not limited to\n",
      "damages for loss of goodwill, work stoppage, computer failure or malfunction, or\n",
      "any and all other commercial damages or losses), even if such Contributor has\n",
      "been advised of the possibility of such damages.\n",
      "\n",
      "9. Accepting Warranty or Additional Liability.\n",
      "\n",
      "While redistributing the Work or Derivative Works thereof, You may choose to\n",
      "offer, and charge a fee for, acceptance of support, warranty, indemnity, or\n",
      "other liability obligations and/or rights consistent with this License. However,\n",
      "in accepting such obligations, You may act only on Your own behalf and on Your\n",
      "sole responsibility, not on behalf of any other Contributor, and only if You\n",
      "agree to indemnify, defend, and hold each Contributor harmless for any liability\n",
      "incurred by, or claims asserted against, such Contributor by reason of your\n",
      "accepting any such warranty or additional liability.\n",
      "\n",
      "END OF TERMS AND CONDITIONS\n",
      "\n",
      "APPENDIX: How to apply the Apache License to your work\n",
      "\n",
      "To apply the Apache License to your work, attach the following boilerplate\n",
      "notice, with the fields enclosed by brackets \"[]\" replaced with your own\n",
      "identifying information. (Don't include the brackets!) The text should be\n",
      "enclosed in the appropriate comment syntax for the file format. We also\n",
      "recommend that a file or class name and description of purpose be included on\n",
      "the same \"printed page\" as the copyright notice for easier identification within\n",
      "third-party archives.\n",
      "\n",
      "   Copyright [yyyy] [name of copyright owner]\n",
      "\n",
      "   Licensed under the Apache License, Version 2.0 (the \"License\");\n",
      "   you may not use this file except in compliance with the License.\n",
      "   You may obtain a copy of the License at\n",
      "\n",
      "     http://www.apache.org/licenses/LICENSE-2.0\n",
      "\n",
      "   Unless required by applicable law or agreed to in writing, software\n",
      "   distributed under the License is distributed on an \"AS IS\" BASIS,\n",
      "   WITHOUT WARRANTIES OR CONDITIONS OF ANY KIND, either express or implied.\n",
      "   See the License for the specific language governing permissions and\n",
      "   limitations under the License.\n",
      "Location: /Library/Frameworks/Python.framework/Versions/3.13/lib/python3.13/site-packages\n",
      "Requires: numpy, python-dateutil, pytz, tzdata\n",
      "Required-by: seaborn, statsmodels\n"
     ]
    }
   ],
   "source": [
    "! python3 -m pip show pandas"
   ]
  },
  {
   "cell_type": "code",
   "execution_count": 3,
   "metadata": {
    "ExecuteTime": {
     "end_time": "2024-03-07T16:52:36.203104Z",
     "start_time": "2024-03-07T16:52:35.353935Z"
    },
    "id": "0bPsfOjdEgb2"
   },
   "outputs": [
    {
     "name": "stdout",
     "output_type": "stream",
     "text": [
      "Name: numpy\n",
      "Version: 2.1.3\n",
      "Summary: Fundamental package for array computing in Python\n",
      "Home-page: https://numpy.org\n",
      "Author: Travis E. Oliphant et al.\n",
      "Author-email: \n",
      "License: Copyright (c) 2005-2024, NumPy Developers.\n",
      " All rights reserved.\n",
      "\n",
      " Redistribution and use in source and binary forms, with or without\n",
      " modification, are permitted provided that the following conditions are\n",
      " met:\n",
      "\n",
      "     * Redistributions of source code must retain the above copyright\n",
      "        notice, this list of conditions and the following disclaimer.\n",
      "\n",
      "     * Redistributions in binary form must reproduce the above\n",
      "        copyright notice, this list of conditions and the following\n",
      "        disclaimer in the documentation and/or other materials provided\n",
      "        with the distribution.\n",
      "\n",
      "     * Neither the name of the NumPy Developers nor the names of any\n",
      "        contributors may be used to endorse or promote products derived\n",
      "        from this software without specific prior written permission.\n",
      "\n",
      " THIS SOFTWARE IS PROVIDED BY THE COPYRIGHT HOLDERS AND CONTRIBUTORS\n",
      " \"AS IS\" AND ANY EXPRESS OR IMPLIED WARRANTIES, INCLUDING, BUT NOT\n",
      " LIMITED TO, THE IMPLIED WARRANTIES OF MERCHANTABILITY AND FITNESS FOR\n",
      " A PARTICULAR PURPOSE ARE DISCLAIMED. IN NO EVENT SHALL THE COPYRIGHT\n",
      " OWNER OR CONTRIBUTORS BE LIABLE FOR ANY DIRECT, INDIRECT, INCIDENTAL,\n",
      " SPECIAL, EXEMPLARY, OR CONSEQUENTIAL DAMAGES (INCLUDING, BUT NOT\n",
      " LIMITED TO, PROCUREMENT OF SUBSTITUTE GOODS OR SERVICES; LOSS OF USE,\n",
      " DATA, OR PROFITS; OR BUSINESS INTERRUPTION) HOWEVER CAUSED AND ON ANY\n",
      " THEORY OF LIABILITY, WHETHER IN CONTRACT, STRICT LIABILITY, OR TORT\n",
      " (INCLUDING NEGLIGENCE OR OTHERWISE) ARISING IN ANY WAY OUT OF THE USE\n",
      " OF THIS SOFTWARE, EVEN IF ADVISED OF THE POSSIBILITY OF SUCH DAMAGE.\n",
      "\n",
      " ----\n",
      "\n",
      " The NumPy repository and source distributions bundle several libraries that are\n",
      " compatibly licensed.  We list these here.\n",
      "\n",
      " Name: lapack-lite\n",
      " Files: numpy/linalg/lapack_lite/*\n",
      " License: BSD-3-Clause\n",
      "   For details, see numpy/linalg/lapack_lite/LICENSE.txt\n",
      "\n",
      " Name: dragon4\n",
      " Files: numpy/_core/src/multiarray/dragon4.c\n",
      " License: MIT\n",
      "   For license text, see numpy/_core/src/multiarray/dragon4.c\n",
      "\n",
      " Name: libdivide\n",
      " Files: numpy/_core/include/numpy/libdivide/*\n",
      " License: Zlib\n",
      "   For license text, see numpy/_core/include/numpy/libdivide/LICENSE.txt\n",
      "\n",
      "\n",
      " Note that the following files are vendored in the repository and sdist but not\n",
      " installed in built numpy packages:\n",
      "\n",
      " Name: Meson\n",
      " Files: vendored-meson/meson/*\n",
      " License: Apache 2.0\n",
      "   For license text, see vendored-meson/meson/COPYING\n",
      "\n",
      " Name: spin\n",
      " Files: .spin/cmds.py\n",
      " License: BSD-3\n",
      "   For license text, see .spin/LICENSE\n",
      "\n",
      " Name: tempita\n",
      " Files: numpy/_build_utils/tempita/*\n",
      " License: MIT\n",
      "   For details, see numpy/_build_utils/tempita/LICENCE.txt\n",
      "\n",
      " ----\n",
      "\n",
      " This binary distribution of NumPy also bundles the following software:\n",
      "\n",
      " Name: OpenBLAS\n",
      " Files: numpy/.dylibs/libscipy_openblas*.so\n",
      " Description: bundled as a dynamically linked library\n",
      " Availability: https://github.com/OpenMathLib/OpenBLAS/\n",
      " License: BSD-3-Clause\n",
      "   Copyright (c) 2011-2014, The OpenBLAS Project\n",
      "   All rights reserved.\n",
      "\n",
      "   Redistribution and use in source and binary forms, with or without\n",
      "   modification, are permitted provided that the following conditions are\n",
      "   met:\n",
      "\n",
      "      1. Redistributions of source code must retain the above copyright\n",
      "         notice, this list of conditions and the following disclaimer.\n",
      "\n",
      "      2. Redistributions in binary form must reproduce the above copyright\n",
      "         notice, this list of conditions and the following disclaimer in\n",
      "         the documentation and/or other materials provided with the\n",
      "         distribution.\n",
      "      3. Neither the name of the OpenBLAS project nor the names of\n",
      "         its contributors may be used to endorse or promote products\n",
      "         derived from this software without specific prior written\n",
      "         permission.\n",
      "\n",
      "   THIS SOFTWARE IS PROVIDED BY THE COPYRIGHT HOLDERS AND CONTRIBUTORS \"AS IS\"\n",
      "   AND ANY EXPRESS OR IMPLIED WARRANTIES, INCLUDING, BUT NOT LIMITED TO, THE\n",
      "   IMPLIED WARRANTIES OF MERCHANTABILITY AND FITNESS FOR A PARTICULAR PURPOSE\n",
      "   ARE DISCLAIMED. IN NO EVENT SHALL THE COPYRIGHT OWNER OR CONTRIBUTORS BE\n",
      "   LIABLE FOR ANY DIRECT, INDIRECT, INCIDENTAL, SPECIAL, EXEMPLARY, OR CONSEQUENTIAL\n",
      "   DAMAGES (INCLUDING, BUT NOT LIMITED TO, PROCUREMENT OF SUBSTITUTE GOODS OR\n",
      "   SERVICES; LOSS OF USE, DATA, OR PROFITS; OR BUSINESS INTERRUPTION) HOWEVER\n",
      "   CAUSED AND ON ANY THEORY OF LIABILITY, WHETHER IN CONTRACT, STRICT LIABILITY,\n",
      "   OR TORT (INCLUDING NEGLIGENCE OR OTHERWISE) ARISING IN ANY WAY OUT OF THE\n",
      "   USE OF THIS SOFTWARE, EVEN IF ADVISED OF THE POSSIBILITY OF SUCH DAMAGE.\n",
      "\n",
      "\n",
      " Name: LAPACK\n",
      " Files: numpy/.dylibs/libscipy_openblas*.so\n",
      " Description: bundled in OpenBLAS\n",
      " Availability: https://github.com/OpenMathLib/OpenBLAS/\n",
      " License: BSD-3-Clause-Attribution\n",
      "   Copyright (c) 1992-2013 The University of Tennessee and The University\n",
      "                           of Tennessee Research Foundation.  All rights\n",
      "                           reserved.\n",
      "   Copyright (c) 2000-2013 The University of California Berkeley. All\n",
      "                           rights reserved.\n",
      "   Copyright (c) 2006-2013 The University of Colorado Denver.  All rights\n",
      "                           reserved.\n",
      "\n",
      "   $COPYRIGHT$\n",
      "\n",
      "   Additional copyrights may follow\n",
      "\n",
      "   $HEADER$\n",
      "\n",
      "   Redistribution and use in source and binary forms, with or without\n",
      "   modification, are permitted provided that the following conditions are\n",
      "   met:\n",
      "\n",
      "   - Redistributions of source code must retain the above copyright\n",
      "     notice, this list of conditions and the following disclaimer.\n",
      "\n",
      "   - Redistributions in binary form must reproduce the above copyright\n",
      "     notice, this list of conditions and the following disclaimer listed\n",
      "     in this license in the documentation and/or other materials\n",
      "     provided with the distribution.\n",
      "\n",
      "   - Neither the name of the copyright holders nor the names of its\n",
      "     contributors may be used to endorse or promote products derived from\n",
      "     this software without specific prior written permission.\n",
      "\n",
      "   The copyright holders provide no reassurances that the source code\n",
      "   provided does not infringe any patent, copyright, or any other\n",
      "   intellectual property rights of third parties.  The copyright holders\n",
      "   disclaim any liability to any recipient for claims brought against\n",
      "   recipient by any third party for infringement of that parties\n",
      "   intellectual property rights.\n",
      "\n",
      "   THIS SOFTWARE IS PROVIDED BY THE COPYRIGHT HOLDERS AND CONTRIBUTORS\n",
      "   \"AS IS\" AND ANY EXPRESS OR IMPLIED WARRANTIES, INCLUDING, BUT NOT\n",
      "   LIMITED TO, THE IMPLIED WARRANTIES OF MERCHANTABILITY AND FITNESS FOR\n",
      "   A PARTICULAR PURPOSE ARE DISCLAIMED. IN NO EVENT SHALL THE COPYRIGHT\n",
      "   OWNER OR CONTRIBUTORS BE LIABLE FOR ANY DIRECT, INDIRECT, INCIDENTAL,\n",
      "   SPECIAL, EXEMPLARY, OR CONSEQUENTIAL DAMAGES (INCLUDING, BUT NOT\n",
      "   LIMITED TO, PROCUREMENT OF SUBSTITUTE GOODS OR SERVICES; LOSS OF USE,\n",
      "   DATA, OR PROFITS; OR BUSINESS INTERRUPTION) HOWEVER CAUSED AND ON ANY\n",
      "   THEORY OF LIABILITY, WHETHER IN CONTRACT, STRICT LIABILITY, OR TORT\n",
      "   (INCLUDING NEGLIGENCE OR OTHERWISE) ARISING IN ANY WAY OUT OF THE USE\n",
      "   OF THIS SOFTWARE, EVEN IF ADVISED OF THE POSSIBILITY OF SUCH DAMAGE.\n",
      "\n",
      "\n",
      " Name: GCC runtime library\n",
      " Files: numpy/.dylibs/libgfortran*, numpy/.dylibs/libgcc*\n",
      " Description: dynamically linked to files compiled with gcc\n",
      " Availability: https://gcc.gnu.org/git/?p=gcc.git;a=tree;f=libgfortran\n",
      " License: GPL-3.0-with-GCC-exception\n",
      "   Copyright (C) 2002-2017 Free Software Foundation, Inc.\n",
      "\n",
      "   Libgfortran is free software; you can redistribute it and/or modify\n",
      "   it under the terms of the GNU General Public License as published by\n",
      "   the Free Software Foundation; either version 3, or (at your option)\n",
      "   any later version.\n",
      "\n",
      "   Libgfortran is distributed in the hope that it will be useful,\n",
      "   but WITHOUT ANY WARRANTY; without even the implied warranty of\n",
      "   MERCHANTABILITY or FITNESS FOR A PARTICULAR PURPOSE.  See the\n",
      "   GNU General Public License for more details.\n",
      "\n",
      "   Under Section 7 of GPL version 3, you are granted additional\n",
      "   permissions described in the GCC Runtime Library Exception, version\n",
      "   3.1, as published by the Free Software Foundation.\n",
      "\n",
      "   You should have received a copy of the GNU General Public License and\n",
      "   a copy of the GCC Runtime Library Exception along with this program;\n",
      "   see the files COPYING3 and COPYING.RUNTIME respectively.  If not, see\n",
      "   <http://www.gnu.org/licenses/>.\n",
      "\n",
      " ----\n",
      "\n",
      " Full text of license texts referred to above follows (that they are\n",
      " listed below does not necessarily imply the conditions apply to the\n",
      " present binary release):\n",
      "\n",
      " ----\n",
      "\n",
      " GCC RUNTIME LIBRARY EXCEPTION\n",
      "\n",
      " Version 3.1, 31 March 2009\n",
      "\n",
      " Copyright (C) 2009 Free Software Foundation, Inc. <http://fsf.org/>\n",
      "\n",
      " Everyone is permitted to copy and distribute verbatim copies of this\n",
      " license document, but changing it is not allowed.\n",
      "\n",
      " This GCC Runtime Library Exception (\"Exception\") is an additional\n",
      " permission under section 7 of the GNU General Public License, version\n",
      " 3 (\"GPLv3\"). It applies to a given file (the \"Runtime Library\") that\n",
      " bears a notice placed by the copyright holder of the file stating that\n",
      " the file is governed by GPLv3 along with this Exception.\n",
      "\n",
      " When you use GCC to compile a program, GCC may combine portions of\n",
      " certain GCC header files and runtime libraries with the compiled\n",
      " program. The purpose of this Exception is to allow compilation of\n",
      " non-GPL (including proprietary) programs to use, in this way, the\n",
      " header files and runtime libraries covered by this Exception.\n",
      "\n",
      " 0. Definitions.\n",
      "\n",
      " A file is an \"Independent Module\" if it either requires the Runtime\n",
      " Library for execution after a Compilation Process, or makes use of an\n",
      " interface provided by the Runtime Library, but is not otherwise based\n",
      " on the Runtime Library.\n",
      "\n",
      " \"GCC\" means a version of the GNU Compiler Collection, with or without\n",
      " modifications, governed by version 3 (or a specified later version) of\n",
      " the GNU General Public License (GPL) with the option of using any\n",
      " subsequent versions published by the FSF.\n",
      "\n",
      " \"GPL-compatible Software\" is software whose conditions of propagation,\n",
      " modification and use would permit combination with GCC in accord with\n",
      " the license of GCC.\n",
      "\n",
      " \"Target Code\" refers to output from any compiler for a real or virtual\n",
      " target processor architecture, in executable form or suitable for\n",
      " input to an assembler, loader, linker and/or execution\n",
      " phase. Notwithstanding that, Target Code does not include data in any\n",
      " format that is used as a compiler intermediate representation, or used\n",
      " for producing a compiler intermediate representation.\n",
      "\n",
      " The \"Compilation Process\" transforms code entirely represented in\n",
      " non-intermediate languages designed for human-written code, and/or in\n",
      " Java Virtual Machine byte code, into Target Code. Thus, for example,\n",
      " use of source code generators and preprocessors need not be considered\n",
      " part of the Compilation Process, since the Compilation Process can be\n",
      " understood as starting with the output of the generators or\n",
      " preprocessors.\n",
      "\n",
      " A Compilation Process is \"Eligible\" if it is done using GCC, alone or\n",
      " with other GPL-compatible software, or if it is done without using any\n",
      " work based on GCC. For example, using non-GPL-compatible Software to\n",
      " optimize any GCC intermediate representations would not qualify as an\n",
      " Eligible Compilation Process.\n",
      "\n",
      " 1. Grant of Additional Permission.\n",
      "\n",
      " You have permission to propagate a work of Target Code formed by\n",
      " combining the Runtime Library with Independent Modules, even if such\n",
      " propagation would otherwise violate the terms of GPLv3, provided that\n",
      " all Target Code was generated by Eligible Compilation Processes. You\n",
      " may then convey such a combination under terms of your choice,\n",
      " consistent with the licensing of the Independent Modules.\n",
      "\n",
      " 2. No Weakening of GCC Copyleft.\n",
      "\n",
      " The availability of this Exception does not imply any general\n",
      " presumption that third-party software is unaffected by the copyleft\n",
      " requirements of the license of GCC.\n",
      "\n",
      " ----\n",
      "\n",
      "                     GNU GENERAL PUBLIC LICENSE\n",
      "                        Version 3, 29 June 2007\n",
      "\n",
      "  Copyright (C) 2007 Free Software Foundation, Inc. <http://fsf.org/>\n",
      "  Everyone is permitted to copy and distribute verbatim copies\n",
      "  of this license document, but changing it is not allowed.\n",
      "\n",
      "                             Preamble\n",
      "\n",
      "   The GNU General Public License is a free, copyleft license for\n",
      " software and other kinds of works.\n",
      "\n",
      "   The licenses for most software and other practical works are designed\n",
      " to take away your freedom to share and change the works.  By contrast,\n",
      " the GNU General Public License is intended to guarantee your freedom to\n",
      " share and change all versions of a program--to make sure it remains free\n",
      " software for all its users.  We, the Free Software Foundation, use the\n",
      " GNU General Public License for most of our software; it applies also to\n",
      " any other work released this way by its authors.  You can apply it to\n",
      " your programs, too.\n",
      "\n",
      "   When we speak of free software, we are referring to freedom, not\n",
      " price.  Our General Public Licenses are designed to make sure that you\n",
      " have the freedom to distribute copies of free software (and charge for\n",
      " them if you wish), that you receive source code or can get it if you\n",
      " want it, that you can change the software or use pieces of it in new\n",
      " free programs, and that you know you can do these things.\n",
      "\n",
      "   To protect your rights, we need to prevent others from denying you\n",
      " these rights or asking you to surrender the rights.  Therefore, you have\n",
      " certain responsibilities if you distribute copies of the software, or if\n",
      " you modify it: responsibilities to respect the freedom of others.\n",
      "\n",
      "   For example, if you distribute copies of such a program, whether\n",
      " gratis or for a fee, you must pass on to the recipients the same\n",
      " freedoms that you received.  You must make sure that they, too, receive\n",
      " or can get the source code.  And you must show them these terms so they\n",
      " know their rights.\n",
      "\n",
      "   Developers that use the GNU GPL protect your rights with two steps:\n",
      " (1) assert copyright on the software, and (2) offer you this License\n",
      " giving you legal permission to copy, distribute and/or modify it.\n",
      "\n",
      "   For the developers' and authors' protection, the GPL clearly explains\n",
      " that there is no warranty for this free software.  For both users' and\n",
      " authors' sake, the GPL requires that modified versions be marked as\n",
      " changed, so that their problems will not be attributed erroneously to\n",
      " authors of previous versions.\n",
      "\n",
      "   Some devices are designed to deny users access to install or run\n",
      " modified versions of the software inside them, although the manufacturer\n",
      " can do so.  This is fundamentally incompatible with the aim of\n",
      " protecting users' freedom to change the software.  The systematic\n",
      " pattern of such abuse occurs in the area of products for individuals to\n",
      " use, which is precisely where it is most unacceptable.  Therefore, we\n",
      " have designed this version of the GPL to prohibit the practice for those\n",
      " products.  If such problems arise substantially in other domains, we\n",
      " stand ready to extend this provision to those domains in future versions\n",
      " of the GPL, as needed to protect the freedom of users.\n",
      "\n",
      "   Finally, every program is threatened constantly by software patents.\n",
      " States should not allow patents to restrict development and use of\n",
      " software on general-purpose computers, but in those that do, we wish to\n",
      " avoid the special danger that patents applied to a free program could\n",
      " make it effectively proprietary.  To prevent this, the GPL assures that\n",
      " patents cannot be used to render the program non-free.\n",
      "\n",
      "   The precise terms and conditions for copying, distribution and\n",
      " modification follow.\n",
      "\n",
      "                        TERMS AND CONDITIONS\n",
      "\n",
      "   0. Definitions.\n",
      "\n",
      "   \"This License\" refers to version 3 of the GNU General Public License.\n",
      "\n",
      "   \"Copyright\" also means copyright-like laws that apply to other kinds of\n",
      " works, such as semiconductor masks.\n",
      "\n",
      "   \"The Program\" refers to any copyrightable work licensed under this\n",
      " License.  Each licensee is addressed as \"you\".  \"Licensees\" and\n",
      " \"recipients\" may be individuals or organizations.\n",
      "\n",
      "   To \"modify\" a work means to copy from or adapt all or part of the work\n",
      " in a fashion requiring copyright permission, other than the making of an\n",
      " exact copy.  The resulting work is called a \"modified version\" of the\n",
      " earlier work or a work \"based on\" the earlier work.\n",
      "\n",
      "   A \"covered work\" means either the unmodified Program or a work based\n",
      " on the Program.\n",
      "\n",
      "   To \"propagate\" a work means to do anything with it that, without\n",
      " permission, would make you directly or secondarily liable for\n",
      " infringement under applicable copyright law, except executing it on a\n",
      " computer or modifying a private copy.  Propagation includes copying,\n",
      " distribution (with or without modification), making available to the\n",
      " public, and in some countries other activities as well.\n",
      "\n",
      "   To \"convey\" a work means any kind of propagation that enables other\n",
      " parties to make or receive copies.  Mere interaction with a user through\n",
      " a computer network, with no transfer of a copy, is not conveying.\n",
      "\n",
      "   An interactive user interface displays \"Appropriate Legal Notices\"\n",
      " to the extent that it includes a convenient and prominently visible\n",
      " feature that (1) displays an appropriate copyright notice, and (2)\n",
      " tells the user that there is no warranty for the work (except to the\n",
      " extent that warranties are provided), that licensees may convey the\n",
      " work under this License, and how to view a copy of this License.  If\n",
      " the interface presents a list of user commands or options, such as a\n",
      " menu, a prominent item in the list meets this criterion.\n",
      "\n",
      "   1. Source Code.\n",
      "\n",
      "   The \"source code\" for a work means the preferred form of the work\n",
      " for making modifications to it.  \"Object code\" means any non-source\n",
      " form of a work.\n",
      "\n",
      "   A \"Standard Interface\" means an interface that either is an official\n",
      " standard defined by a recognized standards body, or, in the case of\n",
      " interfaces specified for a particular programming language, one that\n",
      " is widely used among developers working in that language.\n",
      "\n",
      "   The \"System Libraries\" of an executable work include anything, other\n",
      " than the work as a whole, that (a) is included in the normal form of\n",
      " packaging a Major Component, but which is not part of that Major\n",
      " Component, and (b) serves only to enable use of the work with that\n",
      " Major Component, or to implement a Standard Interface for which an\n",
      " implementation is available to the public in source code form.  A\n",
      " \"Major Component\", in this context, means a major essential component\n",
      " (kernel, window system, and so on) of the specific operating system\n",
      " (if any) on which the executable work runs, or a compiler used to\n",
      " produce the work, or an object code interpreter used to run it.\n",
      "\n",
      "   The \"Corresponding Source\" for a work in object code form means all\n",
      " the source code needed to generate, install, and (for an executable\n",
      " work) run the object code and to modify the work, including scripts to\n",
      " control those activities.  However, it does not include the work's\n",
      " System Libraries, or general-purpose tools or generally available free\n",
      " programs which are used unmodified in performing those activities but\n",
      " which are not part of the work.  For example, Corresponding Source\n",
      " includes interface definition files associated with source files for\n",
      " the work, and the source code for shared libraries and dynamically\n",
      " linked subprograms that the work is specifically designed to require,\n",
      " such as by intimate data communication or control flow between those\n",
      " subprograms and other parts of the work.\n",
      "\n",
      "   The Corresponding Source need not include anything that users\n",
      " can regenerate automatically from other parts of the Corresponding\n",
      " Source.\n",
      "\n",
      "   The Corresponding Source for a work in source code form is that\n",
      " same work.\n",
      "\n",
      "   2. Basic Permissions.\n",
      "\n",
      "   All rights granted under this License are granted for the term of\n",
      " copyright on the Program, and are irrevocable provided the stated\n",
      " conditions are met.  This License explicitly affirms your unlimited\n",
      " permission to run the unmodified Program.  The output from running a\n",
      " covered work is covered by this License only if the output, given its\n",
      " content, constitutes a covered work.  This License acknowledges your\n",
      " rights of fair use or other equivalent, as provided by copyright law.\n",
      "\n",
      "   You may make, run and propagate covered works that you do not\n",
      " convey, without conditions so long as your license otherwise remains\n",
      " in force.  You may convey covered works to others for the sole purpose\n",
      " of having them make modifications exclusively for you, or provide you\n",
      " with facilities for running those works, provided that you comply with\n",
      " the terms of this License in conveying all material for which you do\n",
      " not control copyright.  Those thus making or running the covered works\n",
      " for you must do so exclusively on your behalf, under your direction\n",
      " and control, on terms that prohibit them from making any copies of\n",
      " your copyrighted material outside their relationship with you.\n",
      "\n",
      "   Conveying under any other circumstances is permitted solely under\n",
      " the conditions stated below.  Sublicensing is not allowed; section 10\n",
      " makes it unnecessary.\n",
      "\n",
      "   3. Protecting Users' Legal Rights From Anti-Circumvention Law.\n",
      "\n",
      "   No covered work shall be deemed part of an effective technological\n",
      " measure under any applicable law fulfilling obligations under article\n",
      " 11 of the WIPO copyright treaty adopted on 20 December 1996, or\n",
      " similar laws prohibiting or restricting circumvention of such\n",
      " measures.\n",
      "\n",
      "   When you convey a covered work, you waive any legal power to forbid\n",
      " circumvention of technological measures to the extent such circumvention\n",
      " is effected by exercising rights under this License with respect to\n",
      " the covered work, and you disclaim any intention to limit operation or\n",
      " modification of the work as a means of enforcing, against the work's\n",
      " users, your or third parties' legal rights to forbid circumvention of\n",
      " technological measures.\n",
      "\n",
      "   4. Conveying Verbatim Copies.\n",
      "\n",
      "   You may convey verbatim copies of the Program's source code as you\n",
      " receive it, in any medium, provided that you conspicuously and\n",
      " appropriately publish on each copy an appropriate copyright notice;\n",
      " keep intact all notices stating that this License and any\n",
      " non-permissive terms added in accord with section 7 apply to the code;\n",
      " keep intact all notices of the absence of any warranty; and give all\n",
      " recipients a copy of this License along with the Program.\n",
      "\n",
      "   You may charge any price or no price for each copy that you convey,\n",
      " and you may offer support or warranty protection for a fee.\n",
      "\n",
      "   5. Conveying Modified Source Versions.\n",
      "\n",
      "   You may convey a work based on the Program, or the modifications to\n",
      " produce it from the Program, in the form of source code under the\n",
      " terms of section 4, provided that you also meet all of these conditions:\n",
      "\n",
      "     a) The work must carry prominent notices stating that you modified\n",
      "     it, and giving a relevant date.\n",
      "\n",
      "     b) The work must carry prominent notices stating that it is\n",
      "     released under this License and any conditions added under section\n",
      "     7.  This requirement modifies the requirement in section 4 to\n",
      "     \"keep intact all notices\".\n",
      "\n",
      "     c) You must license the entire work, as a whole, under this\n",
      "     License to anyone who comes into possession of a copy.  This\n",
      "     License will therefore apply, along with any applicable section 7\n",
      "     additional terms, to the whole of the work, and all its parts,\n",
      "     regardless of how they are packaged.  This License gives no\n",
      "     permission to license the work in any other way, but it does not\n",
      "     invalidate such permission if you have separately received it.\n",
      "\n",
      "     d) If the work has interactive user interfaces, each must display\n",
      "     Appropriate Legal Notices; however, if the Program has interactive\n",
      "     interfaces that do not display Appropriate Legal Notices, your\n",
      "     work need not make them do so.\n",
      "\n",
      "   A compilation of a covered work with other separate and independent\n",
      " works, which are not by their nature extensions of the covered work,\n",
      " and which are not combined with it such as to form a larger program,\n",
      " in or on a volume of a storage or distribution medium, is called an\n",
      " \"aggregate\" if the compilation and its resulting copyright are not\n",
      " used to limit the access or legal rights of the compilation's users\n",
      " beyond what the individual works permit.  Inclusion of a covered work\n",
      " in an aggregate does not cause this License to apply to the other\n",
      " parts of the aggregate.\n",
      "\n",
      "   6. Conveying Non-Source Forms.\n",
      "\n",
      "   You may convey a covered work in object code form under the terms\n",
      " of sections 4 and 5, provided that you also convey the\n",
      " machine-readable Corresponding Source under the terms of this License,\n",
      " in one of these ways:\n",
      "\n",
      "     a) Convey the object code in, or embodied in, a physical product\n",
      "     (including a physical distribution medium), accompanied by the\n",
      "     Corresponding Source fixed on a durable physical medium\n",
      "     customarily used for software interchange.\n",
      "\n",
      "     b) Convey the object code in, or embodied in, a physical product\n",
      "     (including a physical distribution medium), accompanied by a\n",
      "     written offer, valid for at least three years and valid for as\n",
      "     long as you offer spare parts or customer support for that product\n",
      "     model, to give anyone who possesses the object code either (1) a\n",
      "     copy of the Corresponding Source for all the software in the\n",
      "     product that is covered by this License, on a durable physical\n",
      "     medium customarily used for software interchange, for a price no\n",
      "     more than your reasonable cost of physically performing this\n",
      "     conveying of source, or (2) access to copy the\n",
      "     Corresponding Source from a network server at no charge.\n",
      "\n",
      "     c) Convey individual copies of the object code with a copy of the\n",
      "     written offer to provide the Corresponding Source.  This\n",
      "     alternative is allowed only occasionally and noncommercially, and\n",
      "     only if you received the object code with such an offer, in accord\n",
      "     with subsection 6b.\n",
      "\n",
      "     d) Convey the object code by offering access from a designated\n",
      "     place (gratis or for a charge), and offer equivalent access to the\n",
      "     Corresponding Source in the same way through the same place at no\n",
      "     further charge.  You need not require recipients to copy the\n",
      "     Corresponding Source along with the object code.  If the place to\n",
      "     copy the object code is a network server, the Corresponding Source\n",
      "     may be on a different server (operated by you or a third party)\n",
      "     that supports equivalent copying facilities, provided you maintain\n",
      "     clear directions next to the object code saying where to find the\n",
      "     Corresponding Source.  Regardless of what server hosts the\n",
      "     Corresponding Source, you remain obligated to ensure that it is\n",
      "     available for as long as needed to satisfy these requirements.\n",
      "\n",
      "     e) Convey the object code using peer-to-peer transmission, provided\n",
      "     you inform other peers where the object code and Corresponding\n",
      "     Source of the work are being offered to the general public at no\n",
      "     charge under subsection 6d.\n",
      "\n",
      "   A separable portion of the object code, whose source code is excluded\n",
      " from the Corresponding Source as a System Library, need not be\n",
      " included in conveying the object code work.\n",
      "\n",
      "   A \"User Product\" is either (1) a \"consumer product\", which means any\n",
      " tangible personal property which is normally used for personal, family,\n",
      " or household purposes, or (2) anything designed or sold for incorporation\n",
      " into a dwelling.  In determining whether a product is a consumer product,\n",
      " doubtful cases shall be resolved in favor of coverage.  For a particular\n",
      " product received by a particular user, \"normally used\" refers to a\n",
      " typical or common use of that class of product, regardless of the status\n",
      " of the particular user or of the way in which the particular user\n",
      " actually uses, or expects or is expected to use, the product.  A product\n",
      " is a consumer product regardless of whether the product has substantial\n",
      " commercial, industrial or non-consumer uses, unless such uses represent\n",
      " the only significant mode of use of the product.\n",
      "\n",
      "   \"Installation Information\" for a User Product means any methods,\n",
      " procedures, authorization keys, or other information required to install\n",
      " and execute modified versions of a covered work in that User Product from\n",
      " a modified version of its Corresponding Source.  The information must\n",
      " suffice to ensure that the continued functioning of the modified object\n",
      " code is in no case prevented or interfered with solely because\n",
      " modification has been made.\n",
      "\n",
      "   If you convey an object code work under this section in, or with, or\n",
      " specifically for use in, a User Product, and the conveying occurs as\n",
      " part of a transaction in which the right of possession and use of the\n",
      " User Product is transferred to the recipient in perpetuity or for a\n",
      " fixed term (regardless of how the transaction is characterized), the\n",
      " Corresponding Source conveyed under this section must be accompanied\n",
      " by the Installation Information.  But this requirement does not apply\n",
      " if neither you nor any third party retains the ability to install\n",
      " modified object code on the User Product (for example, the work has\n",
      " been installed in ROM).\n",
      "\n",
      "   The requirement to provide Installation Information does not include a\n",
      " requirement to continue to provide support service, warranty, or updates\n",
      " for a work that has been modified or installed by the recipient, or for\n",
      " the User Product in which it has been modified or installed.  Access to a\n",
      " network may be denied when the modification itself materially and\n",
      " adversely affects the operation of the network or violates the rules and\n",
      " protocols for communication across the network.\n",
      "\n",
      "   Corresponding Source conveyed, and Installation Information provided,\n",
      " in accord with this section must be in a format that is publicly\n",
      " documented (and with an implementation available to the public in\n",
      " source code form), and must require no special password or key for\n",
      " unpacking, reading or copying.\n",
      "\n",
      "   7. Additional Terms.\n",
      "\n",
      "   \"Additional permissions\" are terms that supplement the terms of this\n",
      " License by making exceptions from one or more of its conditions.\n",
      " Additional permissions that are applicable to the entire Program shall\n",
      " be treated as though they were included in this License, to the extent\n",
      " that they are valid under applicable law.  If additional permissions\n",
      " apply only to part of the Program, that part may be used separately\n",
      " under those permissions, but the entire Program remains governed by\n",
      " this License without regard to the additional permissions.\n",
      "\n",
      "   When you convey a copy of a covered work, you may at your option\n",
      " remove any additional permissions from that copy, or from any part of\n",
      " it.  (Additional permissions may be written to require their own\n",
      " removal in certain cases when you modify the work.)  You may place\n",
      " additional permissions on material, added by you to a covered work,\n",
      " for which you have or can give appropriate copyright permission.\n",
      "\n",
      "   Notwithstanding any other provision of this License, for material you\n",
      " add to a covered work, you may (if authorized by the copyright holders of\n",
      " that material) supplement the terms of this License with terms:\n",
      "\n",
      "     a) Disclaiming warranty or limiting liability differently from the\n",
      "     terms of sections 15 and 16 of this License; or\n",
      "\n",
      "     b) Requiring preservation of specified reasonable legal notices or\n",
      "     author attributions in that material or in the Appropriate Legal\n",
      "     Notices displayed by works containing it; or\n",
      "\n",
      "     c) Prohibiting misrepresentation of the origin of that material, or\n",
      "     requiring that modified versions of such material be marked in\n",
      "     reasonable ways as different from the original version; or\n",
      "\n",
      "     d) Limiting the use for publicity purposes of names of licensors or\n",
      "     authors of the material; or\n",
      "\n",
      "     e) Declining to grant rights under trademark law for use of some\n",
      "     trade names, trademarks, or service marks; or\n",
      "\n",
      "     f) Requiring indemnification of licensors and authors of that\n",
      "     material by anyone who conveys the material (or modified versions of\n",
      "     it) with contractual assumptions of liability to the recipient, for\n",
      "     any liability that these contractual assumptions directly impose on\n",
      "     those licensors and authors.\n",
      "\n",
      "   All other non-permissive additional terms are considered \"further\n",
      " restrictions\" within the meaning of section 10.  If the Program as you\n",
      " received it, or any part of it, contains a notice stating that it is\n",
      " governed by this License along with a term that is a further\n",
      " restriction, you may remove that term.  If a license document contains\n",
      " a further restriction but permits relicensing or conveying under this\n",
      " License, you may add to a covered work material governed by the terms\n",
      " of that license document, provided that the further restriction does\n",
      " not survive such relicensing or conveying.\n",
      "\n",
      "   If you add terms to a covered work in accord with this section, you\n",
      " must place, in the relevant source files, a statement of the\n",
      " additional terms that apply to those files, or a notice indicating\n",
      " where to find the applicable terms.\n",
      "\n",
      "   Additional terms, permissive or non-permissive, may be stated in the\n",
      " form of a separately written license, or stated as exceptions;\n",
      " the above requirements apply either way.\n",
      "\n",
      "   8. Termination.\n",
      "\n",
      "   You may not propagate or modify a covered work except as expressly\n",
      " provided under this License.  Any attempt otherwise to propagate or\n",
      " modify it is void, and will automatically terminate your rights under\n",
      " this License (including any patent licenses granted under the third\n",
      " paragraph of section 11).\n",
      "\n",
      "   However, if you cease all violation of this License, then your\n",
      " license from a particular copyright holder is reinstated (a)\n",
      " provisionally, unless and until the copyright holder explicitly and\n",
      " finally terminates your license, and (b) permanently, if the copyright\n",
      " holder fails to notify you of the violation by some reasonable means\n",
      " prior to 60 days after the cessation.\n",
      "\n",
      "   Moreover, your license from a particular copyright holder is\n",
      " reinstated permanently if the copyright holder notifies you of the\n",
      " violation by some reasonable means, this is the first time you have\n",
      " received notice of violation of this License (for any work) from that\n",
      " copyright holder, and you cure the violation prior to 30 days after\n",
      " your receipt of the notice.\n",
      "\n",
      "   Termination of your rights under this section does not terminate the\n",
      " licenses of parties who have received copies or rights from you under\n",
      " this License.  If your rights have been terminated and not permanently\n",
      " reinstated, you do not qualify to receive new licenses for the same\n",
      " material under section 10.\n",
      "\n",
      "   9. Acceptance Not Required for Having Copies.\n",
      "\n",
      "   You are not required to accept this License in order to receive or\n",
      " run a copy of the Program.  Ancillary propagation of a covered work\n",
      " occurring solely as a consequence of using peer-to-peer transmission\n",
      " to receive a copy likewise does not require acceptance.  However,\n",
      " nothing other than this License grants you permission to propagate or\n",
      " modify any covered work.  These actions infringe copyright if you do\n",
      " not accept this License.  Therefore, by modifying or propagating a\n",
      " covered work, you indicate your acceptance of this License to do so.\n",
      "\n",
      "   10. Automatic Licensing of Downstream Recipients.\n",
      "\n",
      "   Each time you convey a covered work, the recipient automatically\n",
      " receives a license from the original licensors, to run, modify and\n",
      " propagate that work, subject to this License.  You are not responsible\n",
      " for enforcing compliance by third parties with this License.\n",
      "\n",
      "   An \"entity transaction\" is a transaction transferring control of an\n",
      " organization, or substantially all assets of one, or subdividing an\n",
      " organization, or merging organizations.  If propagation of a covered\n",
      " work results from an entity transaction, each party to that\n",
      " transaction who receives a copy of the work also receives whatever\n",
      " licenses to the work the party's predecessor in interest had or could\n",
      " give under the previous paragraph, plus a right to possession of the\n",
      " Corresponding Source of the work from the predecessor in interest, if\n",
      " the predecessor has it or can get it with reasonable efforts.\n",
      "\n",
      "   You may not impose any further restrictions on the exercise of the\n",
      " rights granted or affirmed under this License.  For example, you may\n",
      " not impose a license fee, royalty, or other charge for exercise of\n",
      " rights granted under this License, and you may not initiate litigation\n",
      " (including a cross-claim or counterclaim in a lawsuit) alleging that\n",
      " any patent claim is infringed by making, using, selling, offering for\n",
      " sale, or importing the Program or any portion of it.\n",
      "\n",
      "   11. Patents.\n",
      "\n",
      "   A \"contributor\" is a copyright holder who authorizes use under this\n",
      " License of the Program or a work on which the Program is based.  The\n",
      " work thus licensed is called the contributor's \"contributor version\".\n",
      "\n",
      "   A contributor's \"essential patent claims\" are all patent claims\n",
      " owned or controlled by the contributor, whether already acquired or\n",
      " hereafter acquired, that would be infringed by some manner, permitted\n",
      " by this License, of making, using, or selling its contributor version,\n",
      " but do not include claims that would be infringed only as a\n",
      " consequence of further modification of the contributor version.  For\n",
      " purposes of this definition, \"control\" includes the right to grant\n",
      " patent sublicenses in a manner consistent with the requirements of\n",
      " this License.\n",
      "\n",
      "   Each contributor grants you a non-exclusive, worldwide, royalty-free\n",
      " patent license under the contributor's essential patent claims, to\n",
      " make, use, sell, offer for sale, import and otherwise run, modify and\n",
      " propagate the contents of its contributor version.\n",
      "\n",
      "   In the following three paragraphs, a \"patent license\" is any express\n",
      " agreement or commitment, however denominated, not to enforce a patent\n",
      " (such as an express permission to practice a patent or covenant not to\n",
      " sue for patent infringement).  To \"grant\" such a patent license to a\n",
      " party means to make such an agreement or commitment not to enforce a\n",
      " patent against the party.\n",
      "\n",
      "   If you convey a covered work, knowingly relying on a patent license,\n",
      " and the Corresponding Source of the work is not available for anyone\n",
      " to copy, free of charge and under the terms of this License, through a\n",
      " publicly available network server or other readily accessible means,\n",
      " then you must either (1) cause the Corresponding Source to be so\n",
      " available, or (2) arrange to deprive yourself of the benefit of the\n",
      " patent license for this particular work, or (3) arrange, in a manner\n",
      " consistent with the requirements of this License, to extend the patent\n",
      " license to downstream recipients.  \"Knowingly relying\" means you have\n",
      " actual knowledge that, but for the patent license, your conveying the\n",
      " covered work in a country, or your recipient's use of the covered work\n",
      " in a country, would infringe one or more identifiable patents in that\n",
      " country that you have reason to believe are valid.\n",
      "\n",
      "   If, pursuant to or in connection with a single transaction or\n",
      " arrangement, you convey, or propagate by procuring conveyance of, a\n",
      " covered work, and grant a patent license to some of the parties\n",
      " receiving the covered work authorizing them to use, propagate, modify\n",
      " or convey a specific copy of the covered work, then the patent license\n",
      " you grant is automatically extended to all recipients of the covered\n",
      " work and works based on it.\n",
      "\n",
      "   A patent license is \"discriminatory\" if it does not include within\n",
      " the scope of its coverage, prohibits the exercise of, or is\n",
      " conditioned on the non-exercise of one or more of the rights that are\n",
      " specifically granted under this License.  You may not convey a covered\n",
      " work if you are a party to an arrangement with a third party that is\n",
      " in the business of distributing software, under which you make payment\n",
      " to the third party based on the extent of your activity of conveying\n",
      " the work, and under which the third party grants, to any of the\n",
      " parties who would receive the covered work from you, a discriminatory\n",
      " patent license (a) in connection with copies of the covered work\n",
      " conveyed by you (or copies made from those copies), or (b) primarily\n",
      " for and in connection with specific products or compilations that\n",
      " contain the covered work, unless you entered into that arrangement,\n",
      " or that patent license was granted, prior to 28 March 2007.\n",
      "\n",
      "   Nothing in this License shall be construed as excluding or limiting\n",
      " any implied license or other defenses to infringement that may\n",
      " otherwise be available to you under applicable patent law.\n",
      "\n",
      "   12. No Surrender of Others' Freedom.\n",
      "\n",
      "   If conditions are imposed on you (whether by court order, agreement or\n",
      " otherwise) that contradict the conditions of this License, they do not\n",
      " excuse you from the conditions of this License.  If you cannot convey a\n",
      " covered work so as to satisfy simultaneously your obligations under this\n",
      " License and any other pertinent obligations, then as a consequence you may\n",
      " not convey it at all.  For example, if you agree to terms that obligate you\n",
      " to collect a royalty for further conveying from those to whom you convey\n",
      " the Program, the only way you could satisfy both those terms and this\n",
      " License would be to refrain entirely from conveying the Program.\n",
      "\n",
      "   13. Use with the GNU Affero General Public License.\n",
      "\n",
      "   Notwithstanding any other provision of this License, you have\n",
      " permission to link or combine any covered work with a work licensed\n",
      " under version 3 of the GNU Affero General Public License into a single\n",
      " combined work, and to convey the resulting work.  The terms of this\n",
      " License will continue to apply to the part which is the covered work,\n",
      " but the special requirements of the GNU Affero General Public License,\n",
      " section 13, concerning interaction through a network will apply to the\n",
      " combination as such.\n",
      "\n",
      "   14. Revised Versions of this License.\n",
      "\n",
      "   The Free Software Foundation may publish revised and/or new versions of\n",
      " the GNU General Public License from time to time.  Such new versions will\n",
      " be similar in spirit to the present version, but may differ in detail to\n",
      " address new problems or concerns.\n",
      "\n",
      "   Each version is given a distinguishing version number.  If the\n",
      " Program specifies that a certain numbered version of the GNU General\n",
      " Public License \"or any later version\" applies to it, you have the\n",
      " option of following the terms and conditions either of that numbered\n",
      " version or of any later version published by the Free Software\n",
      " Foundation.  If the Program does not specify a version number of the\n",
      " GNU General Public License, you may choose any version ever published\n",
      " by the Free Software Foundation.\n",
      "\n",
      "   If the Program specifies that a proxy can decide which future\n",
      " versions of the GNU General Public License can be used, that proxy's\n",
      " public statement of acceptance of a version permanently authorizes you\n",
      " to choose that version for the Program.\n",
      "\n",
      "   Later license versions may give you additional or different\n",
      " permissions.  However, no additional obligations are imposed on any\n",
      " author or copyright holder as a result of your choosing to follow a\n",
      " later version.\n",
      "\n",
      "   15. Disclaimer of Warranty.\n",
      "\n",
      "   THERE IS NO WARRANTY FOR THE PROGRAM, TO THE EXTENT PERMITTED BY\n",
      " APPLICABLE LAW.  EXCEPT WHEN OTHERWISE STATED IN WRITING THE COPYRIGHT\n",
      " HOLDERS AND/OR OTHER PARTIES PROVIDE THE PROGRAM \"AS IS\" WITHOUT WARRANTY\n",
      " OF ANY KIND, EITHER EXPRESSED OR IMPLIED, INCLUDING, BUT NOT LIMITED TO,\n",
      " THE IMPLIED WARRANTIES OF MERCHANTABILITY AND FITNESS FOR A PARTICULAR\n",
      " PURPOSE.  THE ENTIRE RISK AS TO THE QUALITY AND PERFORMANCE OF THE PROGRAM\n",
      " IS WITH YOU.  SHOULD THE PROGRAM PROVE DEFECTIVE, YOU ASSUME THE COST OF\n",
      " ALL NECESSARY SERVICING, REPAIR OR CORRECTION.\n",
      "\n",
      "   16. Limitation of Liability.\n",
      "\n",
      "   IN NO EVENT UNLESS REQUIRED BY APPLICABLE LAW OR AGREED TO IN WRITING\n",
      " WILL ANY COPYRIGHT HOLDER, OR ANY OTHER PARTY WHO MODIFIES AND/OR CONVEYS\n",
      " THE PROGRAM AS PERMITTED ABOVE, BE LIABLE TO YOU FOR DAMAGES, INCLUDING ANY\n",
      " GENERAL, SPECIAL, INCIDENTAL OR CONSEQUENTIAL DAMAGES ARISING OUT OF THE\n",
      " USE OR INABILITY TO USE THE PROGRAM (INCLUDING BUT NOT LIMITED TO LOSS OF\n",
      " DATA OR DATA BEING RENDERED INACCURATE OR LOSSES SUSTAINED BY YOU OR THIRD\n",
      " PARTIES OR A FAILURE OF THE PROGRAM TO OPERATE WITH ANY OTHER PROGRAMS),\n",
      " EVEN IF SUCH HOLDER OR OTHER PARTY HAS BEEN ADVISED OF THE POSSIBILITY OF\n",
      " SUCH DAMAGES.\n",
      "\n",
      "   17. Interpretation of Sections 15 and 16.\n",
      "\n",
      "   If the disclaimer of warranty and limitation of liability provided\n",
      " above cannot be given local legal effect according to their terms,\n",
      " reviewing courts shall apply local law that most closely approximates\n",
      " an absolute waiver of all civil liability in connection with the\n",
      " Program, unless a warranty or assumption of liability accompanies a\n",
      " copy of the Program in return for a fee.\n",
      "\n",
      "                      END OF TERMS AND CONDITIONS\n",
      "\n",
      "             How to Apply These Terms to Your New Programs\n",
      "\n",
      "   If you develop a new program, and you want it to be of the greatest\n",
      " possible use to the public, the best way to achieve this is to make it\n",
      " free software which everyone can redistribute and change under these terms.\n",
      "\n",
      "   To do so, attach the following notices to the program.  It is safest\n",
      " to attach them to the start of each source file to most effectively\n",
      " state the exclusion of warranty; and each file should have at least\n",
      " the \"copyright\" line and a pointer to where the full notice is found.\n",
      "\n",
      "     <one line to give the program's name and a brief idea of what it does.>\n",
      "     Copyright (C) <year>  <name of author>\n",
      "\n",
      "     This program is free software: you can redistribute it and/or modify\n",
      "     it under the terms of the GNU General Public License as published by\n",
      "     the Free Software Foundation, either version 3 of the License, or\n",
      "     (at your option) any later version.\n",
      "\n",
      "     This program is distributed in the hope that it will be useful,\n",
      "     but WITHOUT ANY WARRANTY; without even the implied warranty of\n",
      "     MERCHANTABILITY or FITNESS FOR A PARTICULAR PURPOSE.  See the\n",
      "     GNU General Public License for more details.\n",
      "\n",
      "     You should have received a copy of the GNU General Public License\n",
      "     along with this program.  If not, see <http://www.gnu.org/licenses/>.\n",
      "\n",
      " Also add information on how to contact you by electronic and paper mail.\n",
      "\n",
      "   If the program does terminal interaction, make it output a short\n",
      " notice like this when it starts in an interactive mode:\n",
      "\n",
      "     <program>  Copyright (C) <year>  <name of author>\n",
      "     This program comes with ABSOLUTELY NO WARRANTY; for details type `show w'.\n",
      "     This is free software, and you are welcome to redistribute it\n",
      "     under certain conditions; type `show c' for details.\n",
      "\n",
      " The hypothetical commands `show w' and `show c' should show the appropriate\n",
      " parts of the General Public License.  Of course, your program's commands\n",
      " might be different; for a GUI interface, you would use an \"about box\".\n",
      "\n",
      "   You should also get your employer (if you work as a programmer) or school,\n",
      " if any, to sign a \"copyright disclaimer\" for the program, if necessary.\n",
      " For more information on this, and how to apply and follow the GNU GPL, see\n",
      " <http://www.gnu.org/licenses/>.\n",
      "\n",
      "   The GNU General Public License does not permit incorporating your program\n",
      " into proprietary programs.  If your program is a subroutine library, you\n",
      " may consider it more useful to permit linking proprietary applications with\n",
      " the library.  If this is what you want to do, use the GNU Lesser General\n",
      " Public License instead of this License.  But first, please read\n",
      " <http://www.gnu.org/philosophy/why-not-lgpl.html>.\n",
      "\n",
      " Name: libquadmath\n",
      " Files: numpy/.dylibs/libquadmath*.so\n",
      " Description: dynamically linked to files compiled with gcc\n",
      " Availability: https://gcc.gnu.org/git/?p=gcc.git;a=tree;f=libquadmath\n",
      " License: LGPL-2.1-or-later\n",
      "\n",
      "     GCC Quad-Precision Math Library\n",
      "     Copyright (C) 2010-2019 Free Software Foundation, Inc.\n",
      "     Written by Francois-Xavier Coudert  <fxcoudert@gcc.gnu.org>\n",
      "\n",
      "     This file is part of the libquadmath library.\n",
      "     Libquadmath is free software; you can redistribute it and/or\n",
      "     modify it under the terms of the GNU Library General Public\n",
      "     License as published by the Free Software Foundation; either\n",
      "     version 2.1 of the License, or (at your option) any later version.\n",
      "\n",
      "     Libquadmath is distributed in the hope that it will be useful,\n",
      "     but WITHOUT ANY WARRANTY; without even the implied warranty of\n",
      "     MERCHANTABILITY or FITNESS FOR A PARTICULAR PURPOSE.  See the GNU\n",
      "     Lesser General Public License for more details.\n",
      "     https://www.gnu.org/licenses/old-licenses/lgpl-2.1.html\n",
      "\n",
      "Location: /Library/Frameworks/Python.framework/Versions/3.13/lib/python3.13/site-packages\n",
      "Requires: \n",
      "Required-by: contourpy, matplotlib, pandas, patsy, scipy, seaborn, statsmodels\n"
     ]
    }
   ],
   "source": [
    "! python3 -m pip show numpy"
   ]
  },
  {
   "cell_type": "markdown",
   "metadata": {
    "ExecuteTime": {
     "end_time": "2022-10-27T09:52:22.502833Z",
     "start_time": "2022-10-27T09:52:22.482288Z"
    },
    "id": "2T81LBZZEgb2"
   },
   "source": [
    "Якщо щось повернулось, значить - є ці бібліотеки. Якщо повернулось повідомлення \"Package(s) not found\" - встановлюємо одним зі способів:"
   ]
  },
  {
   "cell_type": "code",
   "execution_count": null,
   "metadata": {
    "id": "olud2cH9Egb3"
   },
   "outputs": [],
   "source": [
    "! python3 -m pip install pandas numpy"
   ]
  },
  {
   "cell_type": "code",
   "execution_count": null,
   "metadata": {
    "id": "ADXZjzmzEgb3"
   },
   "outputs": [],
   "source": [
    "! conda install pandas numpy"
   ]
  },
  {
   "cell_type": "markdown",
   "metadata": {
    "id": "uXWYF5xOEgb3"
   },
   "source": [
    "# Імпорт бібліотек"
   ]
  },
  {
   "cell_type": "markdown",
   "metadata": {
    "id": "65fnXCGhEgb3"
   },
   "source": [
    "Є така конвенція, що імпортуємо ми pandas саме наступним чином з перейменуванням:"
   ]
  },
  {
   "cell_type": "code",
   "execution_count": 5,
   "metadata": {
    "ExecuteTime": {
     "end_time": "2024-03-07T16:53:19.285623Z",
     "start_time": "2024-03-07T16:53:18.170354Z"
    },
    "id": "WdUirF8UEgb3",
    "scrolled": true
   },
   "outputs": [],
   "source": [
    "import numpy as np\n",
    "import pandas as pd"
   ]
  },
  {
   "cell_type": "markdown",
   "metadata": {
    "ExecuteTime": {
     "end_time": "2022-10-26T11:34:45.188255Z",
     "start_time": "2022-10-26T11:34:45.183520Z"
    },
    "id": "vpqYTGOGEgb3"
   },
   "source": [
    "Так теж буде працювати, але так не прийнято:"
   ]
  },
  {
   "cell_type": "code",
   "execution_count": null,
   "metadata": {
    "id": "M5uxniKnEgb3"
   },
   "outputs": [],
   "source": [
    "import pandas\n",
    "from pandas import *"
   ]
  },
  {
   "cell_type": "markdown",
   "metadata": {
    "id": "hrtzmjcZEgb4"
   },
   "source": [
    "# Основні структури даних у бібліотеці"
   ]
  },
  {
   "cell_type": "markdown",
   "metadata": {
    "id": "5pKAfW--Egb4"
   },
   "source": [
    "**`Series`** - одновимірний індексований масив даних деякого                фіксованого типу."
   ]
  },
  {
   "cell_type": "markdown",
   "metadata": {
    "id": "uVPveyRjEgb4"
   },
   "source": [
    "**`DataFrame`** - двовимірна структура даних, що являє собою таблицю, кожен стовпець якої містить дані одного типу. DataFrame можна розуміти як словник об'єктів типу Series. Структура DataFrame добре підходить для зберігання реальних табличних даних: рядки відповідають описам окремих об'єктів, а стовпці відповідають ознакам.\n"
   ]
  },
  {
   "cell_type": "markdown",
   "metadata": {
    "id": "01t3RxZcEgb4"
   },
   "source": [
    "![](https://drive.google.com/uc?export=view&id=1MAi0fPWBlwmmirRvDRFahhvC7xKwSitZ)"
   ]
  },
  {
   "cell_type": "markdown",
   "metadata": {
    "id": "bdVg40OsEgb4"
   },
   "source": [
    "![](https://drive.google.com/uc?export=view&id=1zQRemyTmUNwIuzGbIoLJq8vfJUwy7lHW)"
   ]
  },
  {
   "cell_type": "markdown",
   "metadata": {
    "id": "CKt1G4ROEgb4"
   },
   "source": [
    "# Дані для роботи"
   ]
  },
  {
   "cell_type": "markdown",
   "metadata": {
    "ExecuteTime": {
     "end_time": "2021-09-04T19:27:55.439343Z",
     "start_time": "2021-09-04T19:27:55.430251Z"
    },
    "id": "Cc_lta9VEgb4"
   },
   "source": [
    "З pandas ми працюємо з табличними даними. В цьому ноутбуці ми будемо працювати з даними зі [змагання на Kaggle](https://www.kaggle.com/datasets/anmolkumar/health-insurance-cross-sell-prediction?select=train.csv).   \n",
    "\n",
    "Опис даних:\n",
    "\n",
    "\n",
    "Оригінальна назва | Змінна           | Визначення\n",
    "------------------|------------------|---------------------------------------------\n",
    "id                | id               | Унікальний ідентифікатор клієнта\n",
    "Gender            | Стать            | Стать клієнта\n",
    "Age               | Вік              | Вік клієнта\n",
    "Driving_License   | Водійське посвідчення | 0: Клієнт не має водійського посвідчення, 1: Клієнт вже має водійське посвідчення\n",
    "Region_Code       | Код регіону      | Унікальний код регіону клієнта\n",
    "Previously_Insured | Раніше мали страховку | 1: Клієнт вже мав страховку автомобіля, 0: Клієнт не мав страховку автомобіля\n",
    "Vehicle_Age       | Вік автомобіля   | Вік автомобіля\n",
    "Vehicle_Damage    | Пошкодження автомобіля | 1: Клієнт отримав/ла шкоду на своєму автомобілі в минулому, 0: Клієнт не отримав/ла шкоду на своєму автомобілі в минулому\n",
    "Annual_Premium    | Річний преміум   | Сума, яку клієнт повинен сплатити як преміум за рік\n",
    "Policy_Sales_Channel | Канал продажу полісу | Анонімізований код для каналу звернення до клієнта, тобто різні агенти, поштою, по телефону, особисто і т. д.\n",
    "Vintage           | Стаж             | Кількість днів, протягом яких клієнт пов'язаний з компанією\n",
    "Response          | Відповідь        | 1: Клієнт зацікавлений, 0: Клієнт не зацікавлений\n",
    "\n",
    "Суть аналізу цих даних - вичвити чи буде цікава людині, в якої є медичне страхування, страховка на транспортний засіб.\n",
    "Побудова системи прийняття рішень для прогнозування того, чи зацікавить клієнта страхування транспортних засобів, надзвичайно корисна для компанії, оскільки вона може відповідно спланувати свою комунікаційну стратегію, щоб охопити цих клієнтів і оптимізувати свою бізнес-модель і дохід.\n",
    "Щоб передбачити, чи зацікавить клієнта страхування транспортного засобу, у нас є інформація про демографічні дані (стать, вік, код регіону), інформація про транспортні засоби (вік транспортного засобу, пошкодження), поліс (його вартість, канал постачання) тощо.\n",
    "\n",
    "Завантажуємо датасет `health_insurance_cross_sell_prediction` собі у папку `data/` на рівні з папкою з ноутбуками. Тобто рекоменудую мати таку організацію ваших файлів\n",
    "```\n",
    "- data/  \n",
    "  -- dataset_1.csv  \n",
    "  -- dataset_2.csv  \n",
    "- lectures/\n",
    "  -- notebook_1.ipynb\n",
    "  -- notebook_2.ipynb\n",
    "- hometasks/\n",
    "  -- hw_notebook_1.ipynb\n",
    "  -- hw_notebook_2.ipynb\n",
    "```\n"
   ]
  },
  {
   "cell_type": "markdown",
   "metadata": {
    "id": "6r5RUdFmEgb4"
   },
   "source": [
    "# Читання даних з файлу"
   ]
  },
  {
   "cell_type": "markdown",
   "metadata": {
    "id": "f9XlP5TKEgb4"
   },
   "source": [
    "Коли ми працюємо з даними в Python, зазвичай нам потрібно зчитати їх з зовнішніх джерел. Одним з найпоширеніших форматів файлів для збереження даних є CSV (Comma-Separated Values), адже він є досить простим та зрозумілим для багатьох програм та інструментів.\n",
    "\n",
    "У бібліотеці pandas для зчитування даних з CSV файлів ми використовуємо функцію `read_csv()`. Ця функція автоматично розпізнає роздільник полів (зазвичай це кома) та створює DataFrame з отриманими даними. Вона надає широкі можливості налаштування, такі як вибір рядка-заголовка, вказання конкретних стовпців, обробка пропущених значень, визначення типів даних та багато іншого.\n",
    "\n",
    "Щоб прочитати дані з інших форматів файлів, таких як Excel, JSON, HTML, SQL, в бібліотеці pandas також існують відповідні функції, які починаються з `read_`, наприклад: `read_excel()`, `read_json()`, `read_html()`, `read_sql()` тощо.\n",
    "\n",
    "Більше інформації про різні методи зчитування даних в бібліотеці pandas можна знайти у [офіційній документації](https://pandas.pydata.org/pandas-docs/stable/reference/io.html).\n",
    "\n",
    "Для зчитування файлу нам треба вказати шлях до нього і додаткові параметри.\n",
    "\n",
    "## Як отримати шлях до файлу?\n",
    "\n",
    "Одним із способів отримання шляху до файлу є використання методу os.listdir(), який доступний в модулі os. Цей метод дозволяє отримати список файлів та папок у поточній директорії (місці, де знаходиться виконуваний Python процес)."
   ]
  },
  {
   "cell_type": "code",
   "execution_count": 6,
   "metadata": {
    "ExecuteTime": {
     "end_time": "2024-03-07T17:10:41.518990Z",
     "start_time": "2024-03-07T17:10:41.513355Z"
    },
    "colab": {
     "base_uri": "https://localhost:8080/"
    },
    "id": "NtLWPYwUEgb5",
    "outputId": "e5880a4f-d465-42db-bcd7-5368f0e26bbf",
    "scrolled": true
   },
   "outputs": [
    {
     "data": {
      "text/plain": [
       "['Lecture_3_4_Функція_apply_в_pandas.ipynb',\n",
       " 'Lecture_3_1_3_3_Pandas_and_numpy.ipynb',\n",
       " 'Lecture_3_5_Функції_groupby,_pivot_та_pivot_table.ipynb',\n",
       " '.ipynb_checkpoints']"
      ]
     },
     "execution_count": 6,
     "metadata": {},
     "output_type": "execute_result"
    }
   ],
   "source": [
    "import os\n",
    "os.listdir()"
   ]
  },
  {
   "cell_type": "markdown",
   "metadata": {
    "id": "UAtNdTLrEgb5"
   },
   "source": [
    "Ми можемо вказувати в дужках шлях до різних папок і так знайти, в якій саме лежить наш файл."
   ]
  },
  {
   "cell_type": "code",
   "execution_count": 7,
   "metadata": {
    "id": "11GrByax_t1g"
   },
   "outputs": [
    {
     "data": {
      "text/plain": [
       "['health_insurance_cross_sell_prediction.csv', 'supermarket_sales.csv']"
      ]
     },
     "execution_count": 7,
     "metadata": {},
     "output_type": "execute_result"
    }
   ],
   "source": [
    "os.listdir('../data/')"
   ]
  },
  {
   "cell_type": "markdown",
   "metadata": {
    "id": "SnpXWs3HEgb5"
   },
   "source": [
    "Давайте зачитаємо наші дані у змінну, яка матиме тип `pd.DataFrame`."
   ]
  },
  {
   "cell_type": "code",
   "execution_count": 8,
   "metadata": {
    "ExecuteTime": {
     "end_time": "2024-03-07T17:11:25.121692Z",
     "start_time": "2024-03-07T17:11:24.550965Z"
    },
    "id": "RkBup0_REgb5",
    "scrolled": true
   },
   "outputs": [],
   "source": [
    "data_path = '../data/health_insurance_cross_sell_prediction.csv'\n",
    "df = pd.read_csv(data_path)"
   ]
  },
  {
   "cell_type": "code",
   "execution_count": 9,
   "metadata": {
    "ExecuteTime": {
     "end_time": "2024-03-07T17:11:39.703745Z",
     "start_time": "2024-03-07T17:11:39.699428Z"
    },
    "id": "f71RGDNwEgb5"
   },
   "outputs": [
    {
     "data": {
      "text/plain": [
       "pandas.core.frame.DataFrame"
      ]
     },
     "execution_count": 9,
     "metadata": {},
     "output_type": "execute_result"
    }
   ],
   "source": [
    "type(df)"
   ]
  },
  {
   "cell_type": "markdown",
   "metadata": {
    "id": "zMYQnNj2Egb6"
   },
   "source": [
    "Для початку дивимося на розмір датасету."
   ]
  },
  {
   "cell_type": "code",
   "execution_count": 10,
   "metadata": {
    "ExecuteTime": {
     "end_time": "2024-03-07T17:11:57.387683Z",
     "start_time": "2024-03-07T17:11:57.384099Z"
    },
    "id": "fZZUPoTEEgb6"
   },
   "outputs": [],
   "source": [
    "df_shape = df.shape"
   ]
  },
  {
   "cell_type": "code",
   "execution_count": 11,
   "metadata": {
    "ExecuteTime": {
     "end_time": "2024-03-07T17:12:39.977596Z",
     "start_time": "2024-03-07T17:12:39.973076Z"
    },
    "id": "NIr8oXTSEgb6"
   },
   "outputs": [
    {
     "data": {
      "text/plain": [
       "(381109, 12)"
      ]
     },
     "execution_count": 11,
     "metadata": {},
     "output_type": "execute_result"
    }
   ],
   "source": [
    "df_shape"
   ]
  },
  {
   "cell_type": "markdown",
   "metadata": {
    "id": "GhQELaCOEgb6"
   },
   "source": [
    "Набір даних досить великий, тому очима його весь переглядати точно буде проблематично ;)\n",
    "До слова, набір даних може бути настільки великим, що не вміщатись у оперативну памʼять компʼютера. Як це зрозуміти? У набора даних є розмір, який він займає в памʼяті:"
   ]
  },
  {
   "cell_type": "code",
   "execution_count": 12,
   "metadata": {
    "ExecuteTime": {
     "end_time": "2024-03-07T17:15:48.406216Z",
     "start_time": "2024-03-07T17:15:48.399634Z"
    },
    "id": "qRVSZygJEgb7"
   },
   "outputs": [
    {
     "data": {
      "text/plain": [
       "Index                       132\n",
       "id                      3048872\n",
       "Gender                  3048872\n",
       "Age                     3048872\n",
       "Driving_License         3048872\n",
       "Region_Code             3048872\n",
       "Previously_Insured      3048872\n",
       "Vehicle_Age             3048872\n",
       "Vehicle_Damage          3048872\n",
       "Annual_Premium          3048872\n",
       "Policy_Sales_Channel    3048872\n",
       "Vintage                 3048872\n",
       "Response                3048872\n",
       "dtype: int64"
      ]
     },
     "execution_count": 12,
     "metadata": {},
     "output_type": "execute_result"
    }
   ],
   "source": [
    "df.memory_usage()"
   ]
  },
  {
   "cell_type": "code",
   "execution_count": 13,
   "metadata": {
    "ExecuteTime": {
     "end_time": "2024-03-07T17:16:13.073744Z",
     "start_time": "2024-03-07T17:16:13.065553Z"
    },
    "id": "2frx-FLAEgb7"
   },
   "outputs": [
    {
     "data": {
      "text/plain": [
       "np.int64(36586596)"
      ]
     },
     "execution_count": 13,
     "metadata": {},
     "output_type": "execute_result"
    }
   ],
   "source": [
    "df.memory_usage().sum()"
   ]
  },
  {
   "cell_type": "markdown",
   "metadata": {
    "id": "CXDCZJYkEgb7"
   },
   "source": [
    "Таким чином ми отримали кількість байтів, які займають дані. Аби перевести це значення в мегабайти, виконаємо наступний код."
   ]
  },
  {
   "cell_type": "code",
   "execution_count": 14,
   "metadata": {
    "ExecuteTime": {
     "end_time": "2024-03-07T17:16:39.931729Z",
     "start_time": "2024-03-07T17:16:39.924234Z"
    },
    "id": "qnDZe7aXEgb7"
   },
   "outputs": [
    {
     "data": {
      "text/plain": [
       "np.float64(34.89169692993164)"
      ]
     },
     "execution_count": 14,
     "metadata": {},
     "output_type": "execute_result"
    }
   ],
   "source": [
    "total_bytes = df.memory_usage().sum()\n",
    "total_megabytes = total_bytes / (1024 * 1024)\n",
    "total_megabytes"
   ]
  },
  {
   "cell_type": "markdown",
   "metadata": {
    "id": "b5nVKkLvEgb8"
   },
   "source": [
    "Під час роботи може бути доцільно зчитати частину даних - це можна зробити наступним чином"
   ]
  },
  {
   "cell_type": "code",
   "execution_count": 15,
   "metadata": {
    "ExecuteTime": {
     "end_time": "2024-03-07T17:19:00.248471Z",
     "start_time": "2024-03-07T17:19:00.225229Z"
    },
    "id": "9xdqWf7UEgb8"
   },
   "outputs": [
    {
     "data": {
      "text/html": [
       "<div>\n",
       "<style scoped>\n",
       "    .dataframe tbody tr th:only-of-type {\n",
       "        vertical-align: middle;\n",
       "    }\n",
       "\n",
       "    .dataframe tbody tr th {\n",
       "        vertical-align: top;\n",
       "    }\n",
       "\n",
       "    .dataframe thead th {\n",
       "        text-align: right;\n",
       "    }\n",
       "</style>\n",
       "<table border=\"1\" class=\"dataframe\">\n",
       "  <thead>\n",
       "    <tr style=\"text-align: right;\">\n",
       "      <th></th>\n",
       "      <th>id</th>\n",
       "      <th>Gender</th>\n",
       "      <th>Age</th>\n",
       "      <th>Driving_License</th>\n",
       "      <th>Region_Code</th>\n",
       "      <th>Previously_Insured</th>\n",
       "      <th>Vehicle_Age</th>\n",
       "      <th>Vehicle_Damage</th>\n",
       "      <th>Annual_Premium</th>\n",
       "      <th>Policy_Sales_Channel</th>\n",
       "      <th>Vintage</th>\n",
       "      <th>Response</th>\n",
       "    </tr>\n",
       "  </thead>\n",
       "  <tbody>\n",
       "    <tr>\n",
       "      <th>0</th>\n",
       "      <td>1</td>\n",
       "      <td>Male</td>\n",
       "      <td>44</td>\n",
       "      <td>1</td>\n",
       "      <td>28.0</td>\n",
       "      <td>0</td>\n",
       "      <td>&gt; 2 Years</td>\n",
       "      <td>Yes</td>\n",
       "      <td>40454.0</td>\n",
       "      <td>26.0</td>\n",
       "      <td>217</td>\n",
       "      <td>1</td>\n",
       "    </tr>\n",
       "    <tr>\n",
       "      <th>1</th>\n",
       "      <td>2</td>\n",
       "      <td>Male</td>\n",
       "      <td>76</td>\n",
       "      <td>1</td>\n",
       "      <td>3.0</td>\n",
       "      <td>0</td>\n",
       "      <td>1-2 Year</td>\n",
       "      <td>No</td>\n",
       "      <td>33536.0</td>\n",
       "      <td>26.0</td>\n",
       "      <td>183</td>\n",
       "      <td>0</td>\n",
       "    </tr>\n",
       "    <tr>\n",
       "      <th>2</th>\n",
       "      <td>3</td>\n",
       "      <td>Male</td>\n",
       "      <td>47</td>\n",
       "      <td>1</td>\n",
       "      <td>28.0</td>\n",
       "      <td>0</td>\n",
       "      <td>&gt; 2 Years</td>\n",
       "      <td>Yes</td>\n",
       "      <td>38294.0</td>\n",
       "      <td>26.0</td>\n",
       "      <td>27</td>\n",
       "      <td>1</td>\n",
       "    </tr>\n",
       "    <tr>\n",
       "      <th>3</th>\n",
       "      <td>4</td>\n",
       "      <td>Male</td>\n",
       "      <td>21</td>\n",
       "      <td>1</td>\n",
       "      <td>11.0</td>\n",
       "      <td>1</td>\n",
       "      <td>&lt; 1 Year</td>\n",
       "      <td>No</td>\n",
       "      <td>28619.0</td>\n",
       "      <td>152.0</td>\n",
       "      <td>203</td>\n",
       "      <td>0</td>\n",
       "    </tr>\n",
       "    <tr>\n",
       "      <th>4</th>\n",
       "      <td>5</td>\n",
       "      <td>Female</td>\n",
       "      <td>29</td>\n",
       "      <td>1</td>\n",
       "      <td>41.0</td>\n",
       "      <td>1</td>\n",
       "      <td>&lt; 1 Year</td>\n",
       "      <td>No</td>\n",
       "      <td>27496.0</td>\n",
       "      <td>152.0</td>\n",
       "      <td>39</td>\n",
       "      <td>0</td>\n",
       "    </tr>\n",
       "    <tr>\n",
       "      <th>...</th>\n",
       "      <td>...</td>\n",
       "      <td>...</td>\n",
       "      <td>...</td>\n",
       "      <td>...</td>\n",
       "      <td>...</td>\n",
       "      <td>...</td>\n",
       "      <td>...</td>\n",
       "      <td>...</td>\n",
       "      <td>...</td>\n",
       "      <td>...</td>\n",
       "      <td>...</td>\n",
       "      <td>...</td>\n",
       "    </tr>\n",
       "    <tr>\n",
       "      <th>95</th>\n",
       "      <td>96</td>\n",
       "      <td>Female</td>\n",
       "      <td>23</td>\n",
       "      <td>1</td>\n",
       "      <td>30.0</td>\n",
       "      <td>0</td>\n",
       "      <td>&lt; 1 Year</td>\n",
       "      <td>No</td>\n",
       "      <td>26689.0</td>\n",
       "      <td>152.0</td>\n",
       "      <td>254</td>\n",
       "      <td>0</td>\n",
       "    </tr>\n",
       "    <tr>\n",
       "      <th>96</th>\n",
       "      <td>97</td>\n",
       "      <td>Male</td>\n",
       "      <td>50</td>\n",
       "      <td>1</td>\n",
       "      <td>28.0</td>\n",
       "      <td>0</td>\n",
       "      <td>1-2 Year</td>\n",
       "      <td>Yes</td>\n",
       "      <td>46995.0</td>\n",
       "      <td>52.0</td>\n",
       "      <td>291</td>\n",
       "      <td>0</td>\n",
       "    </tr>\n",
       "    <tr>\n",
       "      <th>97</th>\n",
       "      <td>98</td>\n",
       "      <td>Female</td>\n",
       "      <td>62</td>\n",
       "      <td>1</td>\n",
       "      <td>28.0</td>\n",
       "      <td>0</td>\n",
       "      <td>&gt; 2 Years</td>\n",
       "      <td>Yes</td>\n",
       "      <td>41892.0</td>\n",
       "      <td>155.0</td>\n",
       "      <td>114</td>\n",
       "      <td>0</td>\n",
       "    </tr>\n",
       "    <tr>\n",
       "      <th>98</th>\n",
       "      <td>99</td>\n",
       "      <td>Female</td>\n",
       "      <td>21</td>\n",
       "      <td>1</td>\n",
       "      <td>2.0</td>\n",
       "      <td>0</td>\n",
       "      <td>&lt; 1 Year</td>\n",
       "      <td>Yes</td>\n",
       "      <td>34274.0</td>\n",
       "      <td>152.0</td>\n",
       "      <td>79</td>\n",
       "      <td>0</td>\n",
       "    </tr>\n",
       "    <tr>\n",
       "      <th>99</th>\n",
       "      <td>100</td>\n",
       "      <td>Female</td>\n",
       "      <td>24</td>\n",
       "      <td>1</td>\n",
       "      <td>7.0</td>\n",
       "      <td>1</td>\n",
       "      <td>&lt; 1 Year</td>\n",
       "      <td>Yes</td>\n",
       "      <td>2630.0</td>\n",
       "      <td>160.0</td>\n",
       "      <td>68</td>\n",
       "      <td>0</td>\n",
       "    </tr>\n",
       "  </tbody>\n",
       "</table>\n",
       "<p>100 rows × 12 columns</p>\n",
       "</div>"
      ],
      "text/plain": [
       "     id  Gender  Age  Driving_License  Region_Code  Previously_Insured  \\\n",
       "0     1    Male   44                1         28.0                   0   \n",
       "1     2    Male   76                1          3.0                   0   \n",
       "2     3    Male   47                1         28.0                   0   \n",
       "3     4    Male   21                1         11.0                   1   \n",
       "4     5  Female   29                1         41.0                   1   \n",
       "..  ...     ...  ...              ...          ...                 ...   \n",
       "95   96  Female   23                1         30.0                   0   \n",
       "96   97    Male   50                1         28.0                   0   \n",
       "97   98  Female   62                1         28.0                   0   \n",
       "98   99  Female   21                1          2.0                   0   \n",
       "99  100  Female   24                1          7.0                   1   \n",
       "\n",
       "   Vehicle_Age Vehicle_Damage  Annual_Premium  Policy_Sales_Channel  Vintage  \\\n",
       "0    > 2 Years            Yes         40454.0                  26.0      217   \n",
       "1     1-2 Year             No         33536.0                  26.0      183   \n",
       "2    > 2 Years            Yes         38294.0                  26.0       27   \n",
       "3     < 1 Year             No         28619.0                 152.0      203   \n",
       "4     < 1 Year             No         27496.0                 152.0       39   \n",
       "..         ...            ...             ...                   ...      ...   \n",
       "95    < 1 Year             No         26689.0                 152.0      254   \n",
       "96    1-2 Year            Yes         46995.0                  52.0      291   \n",
       "97   > 2 Years            Yes         41892.0                 155.0      114   \n",
       "98    < 1 Year            Yes         34274.0                 152.0       79   \n",
       "99    < 1 Year            Yes          2630.0                 160.0       68   \n",
       "\n",
       "    Response  \n",
       "0          1  \n",
       "1          0  \n",
       "2          1  \n",
       "3          0  \n",
       "4          0  \n",
       "..       ...  \n",
       "95         0  \n",
       "96         0  \n",
       "97         0  \n",
       "98         0  \n",
       "99         0  \n",
       "\n",
       "[100 rows x 12 columns]"
      ]
     },
     "execution_count": 15,
     "metadata": {},
     "output_type": "execute_result"
    }
   ],
   "source": [
    "pd.read_csv(data_path, nrows=100)"
   ]
  },
  {
   "cell_type": "markdown",
   "metadata": {
    "id": "GpjFcHb_Egb8"
   },
   "source": [
    "# Перегляд набору даних\n",
    "Зверніть увагу, за замовченням у нас датафрейм відображається як перші і останні 5 рядочків. А що якщо нам треба переглянути конкретну кількість конкретних рядочків в ньому?  \n",
    "\n",
    "Загалом, під час роботи з великими даними зручно дивитися датафрейм частинами. Та й якщо дивитися повністю може підвиснути браузер, бо чим більше показуємо даних, тим більший розімір ноутбуку.\n",
    "\n",
    "Як дивитись датафрейм частинами:"
   ]
  },
  {
   "cell_type": "code",
   "execution_count": 16,
   "metadata": {
    "ExecuteTime": {
     "end_time": "2024-03-08T14:33:16.665078Z",
     "start_time": "2024-03-08T14:33:16.650620Z"
    },
    "id": "dElwiLcWEgb8"
   },
   "outputs": [
    {
     "data": {
      "text/html": [
       "<div>\n",
       "<style scoped>\n",
       "    .dataframe tbody tr th:only-of-type {\n",
       "        vertical-align: middle;\n",
       "    }\n",
       "\n",
       "    .dataframe tbody tr th {\n",
       "        vertical-align: top;\n",
       "    }\n",
       "\n",
       "    .dataframe thead th {\n",
       "        text-align: right;\n",
       "    }\n",
       "</style>\n",
       "<table border=\"1\" class=\"dataframe\">\n",
       "  <thead>\n",
       "    <tr style=\"text-align: right;\">\n",
       "      <th></th>\n",
       "      <th>id</th>\n",
       "      <th>Gender</th>\n",
       "      <th>Age</th>\n",
       "      <th>Driving_License</th>\n",
       "      <th>Region_Code</th>\n",
       "      <th>Previously_Insured</th>\n",
       "      <th>Vehicle_Age</th>\n",
       "      <th>Vehicle_Damage</th>\n",
       "      <th>Annual_Premium</th>\n",
       "      <th>Policy_Sales_Channel</th>\n",
       "      <th>Vintage</th>\n",
       "      <th>Response</th>\n",
       "    </tr>\n",
       "  </thead>\n",
       "  <tbody>\n",
       "    <tr>\n",
       "      <th>0</th>\n",
       "      <td>1</td>\n",
       "      <td>Male</td>\n",
       "      <td>44</td>\n",
       "      <td>1</td>\n",
       "      <td>28.0</td>\n",
       "      <td>0</td>\n",
       "      <td>&gt; 2 Years</td>\n",
       "      <td>Yes</td>\n",
       "      <td>40454.0</td>\n",
       "      <td>26.0</td>\n",
       "      <td>217</td>\n",
       "      <td>1</td>\n",
       "    </tr>\n",
       "  </tbody>\n",
       "</table>\n",
       "</div>"
      ],
      "text/plain": [
       "   id Gender  Age  Driving_License  Region_Code  Previously_Insured  \\\n",
       "0   1   Male   44                1         28.0                   0   \n",
       "\n",
       "  Vehicle_Age Vehicle_Damage  Annual_Premium  Policy_Sales_Channel  Vintage  \\\n",
       "0   > 2 Years            Yes         40454.0                  26.0      217   \n",
       "\n",
       "   Response  \n",
       "0         1  "
      ]
     },
     "execution_count": 16,
     "metadata": {},
     "output_type": "execute_result"
    }
   ],
   "source": [
    "df.head(1)"
   ]
  },
  {
   "cell_type": "code",
   "execution_count": 17,
   "metadata": {
    "ExecuteTime": {
     "end_time": "2024-03-08T14:33:21.312714Z",
     "start_time": "2024-03-08T14:33:21.300129Z"
    },
    "id": "FufMOqdOEgb8"
   },
   "outputs": [
    {
     "data": {
      "text/html": [
       "<div>\n",
       "<style scoped>\n",
       "    .dataframe tbody tr th:only-of-type {\n",
       "        vertical-align: middle;\n",
       "    }\n",
       "\n",
       "    .dataframe tbody tr th {\n",
       "        vertical-align: top;\n",
       "    }\n",
       "\n",
       "    .dataframe thead th {\n",
       "        text-align: right;\n",
       "    }\n",
       "</style>\n",
       "<table border=\"1\" class=\"dataframe\">\n",
       "  <thead>\n",
       "    <tr style=\"text-align: right;\">\n",
       "      <th></th>\n",
       "      <th>id</th>\n",
       "      <th>Gender</th>\n",
       "      <th>Age</th>\n",
       "      <th>Driving_License</th>\n",
       "      <th>Region_Code</th>\n",
       "      <th>Previously_Insured</th>\n",
       "      <th>Vehicle_Age</th>\n",
       "      <th>Vehicle_Damage</th>\n",
       "      <th>Annual_Premium</th>\n",
       "      <th>Policy_Sales_Channel</th>\n",
       "      <th>Vintage</th>\n",
       "      <th>Response</th>\n",
       "    </tr>\n",
       "  </thead>\n",
       "  <tbody>\n",
       "    <tr>\n",
       "      <th>381107</th>\n",
       "      <td>381108</td>\n",
       "      <td>Female</td>\n",
       "      <td>68</td>\n",
       "      <td>1</td>\n",
       "      <td>14.0</td>\n",
       "      <td>0</td>\n",
       "      <td>&gt; 2 Years</td>\n",
       "      <td>Yes</td>\n",
       "      <td>44617.0</td>\n",
       "      <td>124.0</td>\n",
       "      <td>74</td>\n",
       "      <td>0</td>\n",
       "    </tr>\n",
       "    <tr>\n",
       "      <th>381108</th>\n",
       "      <td>381109</td>\n",
       "      <td>Male</td>\n",
       "      <td>46</td>\n",
       "      <td>1</td>\n",
       "      <td>29.0</td>\n",
       "      <td>0</td>\n",
       "      <td>1-2 Year</td>\n",
       "      <td>No</td>\n",
       "      <td>41777.0</td>\n",
       "      <td>26.0</td>\n",
       "      <td>237</td>\n",
       "      <td>0</td>\n",
       "    </tr>\n",
       "  </tbody>\n",
       "</table>\n",
       "</div>"
      ],
      "text/plain": [
       "            id  Gender  Age  Driving_License  Region_Code  Previously_Insured  \\\n",
       "381107  381108  Female   68                1         14.0                   0   \n",
       "381108  381109    Male   46                1         29.0                   0   \n",
       "\n",
       "       Vehicle_Age Vehicle_Damage  Annual_Premium  Policy_Sales_Channel  \\\n",
       "381107   > 2 Years            Yes         44617.0                 124.0   \n",
       "381108    1-2 Year             No         41777.0                  26.0   \n",
       "\n",
       "        Vintage  Response  \n",
       "381107       74         0  \n",
       "381108      237         0  "
      ]
     },
     "execution_count": 17,
     "metadata": {},
     "output_type": "execute_result"
    }
   ],
   "source": [
    "df.tail(2)"
   ]
  },
  {
   "cell_type": "code",
   "execution_count": 18,
   "metadata": {
    "ExecuteTime": {
     "end_time": "2023-11-02T16:35:43.874643Z",
     "start_time": "2023-11-02T16:35:43.857233Z"
    },
    "id": "IwqtwQlEEgb8"
   },
   "outputs": [
    {
     "data": {
      "text/html": [
       "<div>\n",
       "<style scoped>\n",
       "    .dataframe tbody tr th:only-of-type {\n",
       "        vertical-align: middle;\n",
       "    }\n",
       "\n",
       "    .dataframe tbody tr th {\n",
       "        vertical-align: top;\n",
       "    }\n",
       "\n",
       "    .dataframe thead th {\n",
       "        text-align: right;\n",
       "    }\n",
       "</style>\n",
       "<table border=\"1\" class=\"dataframe\">\n",
       "  <thead>\n",
       "    <tr style=\"text-align: right;\">\n",
       "      <th></th>\n",
       "      <th>id</th>\n",
       "      <th>Gender</th>\n",
       "      <th>Age</th>\n",
       "      <th>Driving_License</th>\n",
       "      <th>Region_Code</th>\n",
       "      <th>Previously_Insured</th>\n",
       "      <th>Vehicle_Age</th>\n",
       "      <th>Vehicle_Damage</th>\n",
       "      <th>Annual_Premium</th>\n",
       "      <th>Policy_Sales_Channel</th>\n",
       "      <th>Vintage</th>\n",
       "      <th>Response</th>\n",
       "    </tr>\n",
       "  </thead>\n",
       "  <tbody>\n",
       "    <tr>\n",
       "      <th>0</th>\n",
       "      <td>1</td>\n",
       "      <td>Male</td>\n",
       "      <td>44</td>\n",
       "      <td>1</td>\n",
       "      <td>28.0</td>\n",
       "      <td>0</td>\n",
       "      <td>&gt; 2 Years</td>\n",
       "      <td>Yes</td>\n",
       "      <td>40454.0</td>\n",
       "      <td>26.0</td>\n",
       "      <td>217</td>\n",
       "      <td>1</td>\n",
       "    </tr>\n",
       "    <tr>\n",
       "      <th>1</th>\n",
       "      <td>2</td>\n",
       "      <td>Male</td>\n",
       "      <td>76</td>\n",
       "      <td>1</td>\n",
       "      <td>3.0</td>\n",
       "      <td>0</td>\n",
       "      <td>1-2 Year</td>\n",
       "      <td>No</td>\n",
       "      <td>33536.0</td>\n",
       "      <td>26.0</td>\n",
       "      <td>183</td>\n",
       "      <td>0</td>\n",
       "    </tr>\n",
       "    <tr>\n",
       "      <th>2</th>\n",
       "      <td>3</td>\n",
       "      <td>Male</td>\n",
       "      <td>47</td>\n",
       "      <td>1</td>\n",
       "      <td>28.0</td>\n",
       "      <td>0</td>\n",
       "      <td>&gt; 2 Years</td>\n",
       "      <td>Yes</td>\n",
       "      <td>38294.0</td>\n",
       "      <td>26.0</td>\n",
       "      <td>27</td>\n",
       "      <td>1</td>\n",
       "    </tr>\n",
       "    <tr>\n",
       "      <th>3</th>\n",
       "      <td>4</td>\n",
       "      <td>Male</td>\n",
       "      <td>21</td>\n",
       "      <td>1</td>\n",
       "      <td>11.0</td>\n",
       "      <td>1</td>\n",
       "      <td>&lt; 1 Year</td>\n",
       "      <td>No</td>\n",
       "      <td>28619.0</td>\n",
       "      <td>152.0</td>\n",
       "      <td>203</td>\n",
       "      <td>0</td>\n",
       "    </tr>\n",
       "    <tr>\n",
       "      <th>4</th>\n",
       "      <td>5</td>\n",
       "      <td>Female</td>\n",
       "      <td>29</td>\n",
       "      <td>1</td>\n",
       "      <td>41.0</td>\n",
       "      <td>1</td>\n",
       "      <td>&lt; 1 Year</td>\n",
       "      <td>No</td>\n",
       "      <td>27496.0</td>\n",
       "      <td>152.0</td>\n",
       "      <td>39</td>\n",
       "      <td>0</td>\n",
       "    </tr>\n",
       "    <tr>\n",
       "      <th>...</th>\n",
       "      <td>...</td>\n",
       "      <td>...</td>\n",
       "      <td>...</td>\n",
       "      <td>...</td>\n",
       "      <td>...</td>\n",
       "      <td>...</td>\n",
       "      <td>...</td>\n",
       "      <td>...</td>\n",
       "      <td>...</td>\n",
       "      <td>...</td>\n",
       "      <td>...</td>\n",
       "      <td>...</td>\n",
       "    </tr>\n",
       "    <tr>\n",
       "      <th>381104</th>\n",
       "      <td>381105</td>\n",
       "      <td>Male</td>\n",
       "      <td>74</td>\n",
       "      <td>1</td>\n",
       "      <td>26.0</td>\n",
       "      <td>1</td>\n",
       "      <td>1-2 Year</td>\n",
       "      <td>No</td>\n",
       "      <td>30170.0</td>\n",
       "      <td>26.0</td>\n",
       "      <td>88</td>\n",
       "      <td>0</td>\n",
       "    </tr>\n",
       "    <tr>\n",
       "      <th>381105</th>\n",
       "      <td>381106</td>\n",
       "      <td>Male</td>\n",
       "      <td>30</td>\n",
       "      <td>1</td>\n",
       "      <td>37.0</td>\n",
       "      <td>1</td>\n",
       "      <td>&lt; 1 Year</td>\n",
       "      <td>No</td>\n",
       "      <td>40016.0</td>\n",
       "      <td>152.0</td>\n",
       "      <td>131</td>\n",
       "      <td>0</td>\n",
       "    </tr>\n",
       "    <tr>\n",
       "      <th>381106</th>\n",
       "      <td>381107</td>\n",
       "      <td>Male</td>\n",
       "      <td>21</td>\n",
       "      <td>1</td>\n",
       "      <td>30.0</td>\n",
       "      <td>1</td>\n",
       "      <td>&lt; 1 Year</td>\n",
       "      <td>No</td>\n",
       "      <td>35118.0</td>\n",
       "      <td>160.0</td>\n",
       "      <td>161</td>\n",
       "      <td>0</td>\n",
       "    </tr>\n",
       "    <tr>\n",
       "      <th>381107</th>\n",
       "      <td>381108</td>\n",
       "      <td>Female</td>\n",
       "      <td>68</td>\n",
       "      <td>1</td>\n",
       "      <td>14.0</td>\n",
       "      <td>0</td>\n",
       "      <td>&gt; 2 Years</td>\n",
       "      <td>Yes</td>\n",
       "      <td>44617.0</td>\n",
       "      <td>124.0</td>\n",
       "      <td>74</td>\n",
       "      <td>0</td>\n",
       "    </tr>\n",
       "    <tr>\n",
       "      <th>381108</th>\n",
       "      <td>381109</td>\n",
       "      <td>Male</td>\n",
       "      <td>46</td>\n",
       "      <td>1</td>\n",
       "      <td>29.0</td>\n",
       "      <td>0</td>\n",
       "      <td>1-2 Year</td>\n",
       "      <td>No</td>\n",
       "      <td>41777.0</td>\n",
       "      <td>26.0</td>\n",
       "      <td>237</td>\n",
       "      <td>0</td>\n",
       "    </tr>\n",
       "  </tbody>\n",
       "</table>\n",
       "<p>381109 rows × 12 columns</p>\n",
       "</div>"
      ],
      "text/plain": [
       "            id  Gender  Age  Driving_License  Region_Code  Previously_Insured  \\\n",
       "0            1    Male   44                1         28.0                   0   \n",
       "1            2    Male   76                1          3.0                   0   \n",
       "2            3    Male   47                1         28.0                   0   \n",
       "3            4    Male   21                1         11.0                   1   \n",
       "4            5  Female   29                1         41.0                   1   \n",
       "...        ...     ...  ...              ...          ...                 ...   \n",
       "381104  381105    Male   74                1         26.0                   1   \n",
       "381105  381106    Male   30                1         37.0                   1   \n",
       "381106  381107    Male   21                1         30.0                   1   \n",
       "381107  381108  Female   68                1         14.0                   0   \n",
       "381108  381109    Male   46                1         29.0                   0   \n",
       "\n",
       "       Vehicle_Age Vehicle_Damage  Annual_Premium  Policy_Sales_Channel  \\\n",
       "0        > 2 Years            Yes         40454.0                  26.0   \n",
       "1         1-2 Year             No         33536.0                  26.0   \n",
       "2        > 2 Years            Yes         38294.0                  26.0   \n",
       "3         < 1 Year             No         28619.0                 152.0   \n",
       "4         < 1 Year             No         27496.0                 152.0   \n",
       "...            ...            ...             ...                   ...   \n",
       "381104    1-2 Year             No         30170.0                  26.0   \n",
       "381105    < 1 Year             No         40016.0                 152.0   \n",
       "381106    < 1 Year             No         35118.0                 160.0   \n",
       "381107   > 2 Years            Yes         44617.0                 124.0   \n",
       "381108    1-2 Year             No         41777.0                  26.0   \n",
       "\n",
       "        Vintage  Response  \n",
       "0           217         1  \n",
       "1           183         0  \n",
       "2            27         1  \n",
       "3           203         0  \n",
       "4            39         0  \n",
       "...         ...       ...  \n",
       "381104       88         0  \n",
       "381105      131         0  \n",
       "381106      161         0  \n",
       "381107       74         0  \n",
       "381108      237         0  \n",
       "\n",
       "[381109 rows x 12 columns]"
      ]
     },
     "execution_count": 18,
     "metadata": {},
     "output_type": "execute_result"
    }
   ],
   "source": [
    "df"
   ]
  },
  {
   "cell_type": "code",
   "execution_count": 19,
   "metadata": {
    "ExecuteTime": {
     "end_time": "2024-03-08T14:33:44.945863Z",
     "start_time": "2024-03-08T14:33:44.923480Z"
    },
    "id": "YY7MmBZYEgb9"
   },
   "outputs": [
    {
     "data": {
      "text/html": [
       "<div>\n",
       "<style scoped>\n",
       "    .dataframe tbody tr th:only-of-type {\n",
       "        vertical-align: middle;\n",
       "    }\n",
       "\n",
       "    .dataframe tbody tr th {\n",
       "        vertical-align: top;\n",
       "    }\n",
       "\n",
       "    .dataframe thead th {\n",
       "        text-align: right;\n",
       "    }\n",
       "</style>\n",
       "<table border=\"1\" class=\"dataframe\">\n",
       "  <thead>\n",
       "    <tr style=\"text-align: right;\">\n",
       "      <th></th>\n",
       "      <th>id</th>\n",
       "      <th>Gender</th>\n",
       "      <th>Age</th>\n",
       "      <th>Driving_License</th>\n",
       "      <th>Region_Code</th>\n",
       "      <th>Previously_Insured</th>\n",
       "      <th>Vehicle_Age</th>\n",
       "      <th>Vehicle_Damage</th>\n",
       "      <th>Annual_Premium</th>\n",
       "      <th>Policy_Sales_Channel</th>\n",
       "      <th>Vintage</th>\n",
       "      <th>Response</th>\n",
       "    </tr>\n",
       "  </thead>\n",
       "  <tbody>\n",
       "    <tr>\n",
       "      <th>100</th>\n",
       "      <td>101</td>\n",
       "      <td>Male</td>\n",
       "      <td>52</td>\n",
       "      <td>1</td>\n",
       "      <td>28.0</td>\n",
       "      <td>1</td>\n",
       "      <td>1-2 Year</td>\n",
       "      <td>No</td>\n",
       "      <td>36033.0</td>\n",
       "      <td>26.0</td>\n",
       "      <td>92</td>\n",
       "      <td>0</td>\n",
       "    </tr>\n",
       "    <tr>\n",
       "      <th>102</th>\n",
       "      <td>103</td>\n",
       "      <td>Female</td>\n",
       "      <td>20</td>\n",
       "      <td>1</td>\n",
       "      <td>30.0</td>\n",
       "      <td>0</td>\n",
       "      <td>&lt; 1 Year</td>\n",
       "      <td>Yes</td>\n",
       "      <td>33227.0</td>\n",
       "      <td>160.0</td>\n",
       "      <td>78</td>\n",
       "      <td>0</td>\n",
       "    </tr>\n",
       "    <tr>\n",
       "      <th>104</th>\n",
       "      <td>105</td>\n",
       "      <td>Male</td>\n",
       "      <td>29</td>\n",
       "      <td>1</td>\n",
       "      <td>41.0</td>\n",
       "      <td>1</td>\n",
       "      <td>&lt; 1 Year</td>\n",
       "      <td>Yes</td>\n",
       "      <td>43046.0</td>\n",
       "      <td>163.0</td>\n",
       "      <td>222</td>\n",
       "      <td>0</td>\n",
       "    </tr>\n",
       "    <tr>\n",
       "      <th>106</th>\n",
       "      <td>107</td>\n",
       "      <td>Female</td>\n",
       "      <td>23</td>\n",
       "      <td>1</td>\n",
       "      <td>41.0</td>\n",
       "      <td>1</td>\n",
       "      <td>&lt; 1 Year</td>\n",
       "      <td>No</td>\n",
       "      <td>36674.0</td>\n",
       "      <td>152.0</td>\n",
       "      <td>158</td>\n",
       "      <td>0</td>\n",
       "    </tr>\n",
       "    <tr>\n",
       "      <th>108</th>\n",
       "      <td>109</td>\n",
       "      <td>Male</td>\n",
       "      <td>72</td>\n",
       "      <td>1</td>\n",
       "      <td>46.0</td>\n",
       "      <td>1</td>\n",
       "      <td>1-2 Year</td>\n",
       "      <td>Yes</td>\n",
       "      <td>28698.0</td>\n",
       "      <td>30.0</td>\n",
       "      <td>216</td>\n",
       "      <td>0</td>\n",
       "    </tr>\n",
       "  </tbody>\n",
       "</table>\n",
       "</div>"
      ],
      "text/plain": [
       "      id  Gender  Age  Driving_License  Region_Code  Previously_Insured  \\\n",
       "100  101    Male   52                1         28.0                   1   \n",
       "102  103  Female   20                1         30.0                   0   \n",
       "104  105    Male   29                1         41.0                   1   \n",
       "106  107  Female   23                1         41.0                   1   \n",
       "108  109    Male   72                1         46.0                   1   \n",
       "\n",
       "    Vehicle_Age Vehicle_Damage  Annual_Premium  Policy_Sales_Channel  Vintage  \\\n",
       "100    1-2 Year             No         36033.0                  26.0       92   \n",
       "102    < 1 Year            Yes         33227.0                 160.0       78   \n",
       "104    < 1 Year            Yes         43046.0                 163.0      222   \n",
       "106    < 1 Year             No         36674.0                 152.0      158   \n",
       "108    1-2 Year            Yes         28698.0                  30.0      216   \n",
       "\n",
       "     Response  \n",
       "100         0  \n",
       "102         0  \n",
       "104         0  \n",
       "106         0  \n",
       "108         0  "
      ]
     },
     "execution_count": 19,
     "metadata": {},
     "output_type": "execute_result"
    }
   ],
   "source": [
    "df[100:110:2]"
   ]
  },
  {
   "cell_type": "markdown",
   "metadata": {
    "ExecuteTime": {
     "end_time": "2024-03-05T16:29:22.932351Z",
     "start_time": "2024-03-05T16:29:22.929944Z"
    },
    "id": "-88qvCvpEgb9"
   },
   "source": [
    "## Перегляд окремих рядків даних"
   ]
  },
  {
   "cell_type": "markdown",
   "metadata": {
    "id": "dC8jDeFPEgb9"
   },
   "source": [
    "Якщо ми хочемо вивест конкретний елемент (рядок) - це можна зробити наступним чином:"
   ]
  },
  {
   "cell_type": "code",
   "execution_count": 20,
   "metadata": {
    "ExecuteTime": {
     "end_time": "2024-03-08T14:36:00.450622Z",
     "start_time": "2024-03-08T14:36:00.438239Z"
    },
    "id": "AqaaYxPyEgb9"
   },
   "outputs": [
    {
     "data": {
      "text/html": [
       "<div>\n",
       "<style scoped>\n",
       "    .dataframe tbody tr th:only-of-type {\n",
       "        vertical-align: middle;\n",
       "    }\n",
       "\n",
       "    .dataframe tbody tr th {\n",
       "        vertical-align: top;\n",
       "    }\n",
       "\n",
       "    .dataframe thead th {\n",
       "        text-align: right;\n",
       "    }\n",
       "</style>\n",
       "<table border=\"1\" class=\"dataframe\">\n",
       "  <thead>\n",
       "    <tr style=\"text-align: right;\">\n",
       "      <th></th>\n",
       "      <th>id</th>\n",
       "      <th>Gender</th>\n",
       "      <th>Age</th>\n",
       "      <th>Driving_License</th>\n",
       "      <th>Region_Code</th>\n",
       "      <th>Previously_Insured</th>\n",
       "      <th>Vehicle_Age</th>\n",
       "      <th>Vehicle_Damage</th>\n",
       "      <th>Annual_Premium</th>\n",
       "      <th>Policy_Sales_Channel</th>\n",
       "      <th>Vintage</th>\n",
       "      <th>Response</th>\n",
       "    </tr>\n",
       "  </thead>\n",
       "  <tbody>\n",
       "    <tr>\n",
       "      <th>100</th>\n",
       "      <td>101</td>\n",
       "      <td>Male</td>\n",
       "      <td>52</td>\n",
       "      <td>1</td>\n",
       "      <td>28.0</td>\n",
       "      <td>1</td>\n",
       "      <td>1-2 Year</td>\n",
       "      <td>No</td>\n",
       "      <td>36033.0</td>\n",
       "      <td>26.0</td>\n",
       "      <td>92</td>\n",
       "      <td>0</td>\n",
       "    </tr>\n",
       "  </tbody>\n",
       "</table>\n",
       "</div>"
      ],
      "text/plain": [
       "      id Gender  Age  Driving_License  Region_Code  Previously_Insured  \\\n",
       "100  101   Male   52                1         28.0                   1   \n",
       "\n",
       "    Vehicle_Age Vehicle_Damage  Annual_Premium  Policy_Sales_Channel  Vintage  \\\n",
       "100    1-2 Year             No         36033.0                  26.0       92   \n",
       "\n",
       "     Response  \n",
       "100         0  "
      ]
     },
     "execution_count": 20,
     "metadata": {},
     "output_type": "execute_result"
    }
   ],
   "source": [
    "df[100:101]"
   ]
  },
  {
   "cell_type": "code",
   "execution_count": 21,
   "metadata": {
    "ExecuteTime": {
     "end_time": "2024-03-08T14:36:45.971040Z",
     "start_time": "2024-03-08T14:36:45.956452Z"
    },
    "id": "c42Bxy43Egb9"
   },
   "outputs": [
    {
     "data": {
      "text/html": [
       "<div>\n",
       "<style scoped>\n",
       "    .dataframe tbody tr th:only-of-type {\n",
       "        vertical-align: middle;\n",
       "    }\n",
       "\n",
       "    .dataframe tbody tr th {\n",
       "        vertical-align: top;\n",
       "    }\n",
       "\n",
       "    .dataframe thead th {\n",
       "        text-align: right;\n",
       "    }\n",
       "</style>\n",
       "<table border=\"1\" class=\"dataframe\">\n",
       "  <thead>\n",
       "    <tr style=\"text-align: right;\">\n",
       "      <th></th>\n",
       "      <th>id</th>\n",
       "      <th>Gender</th>\n",
       "      <th>Age</th>\n",
       "      <th>Driving_License</th>\n",
       "      <th>Region_Code</th>\n",
       "      <th>Previously_Insured</th>\n",
       "      <th>Vehicle_Age</th>\n",
       "      <th>Vehicle_Damage</th>\n",
       "      <th>Annual_Premium</th>\n",
       "      <th>Policy_Sales_Channel</th>\n",
       "      <th>Vintage</th>\n",
       "      <th>Response</th>\n",
       "    </tr>\n",
       "  </thead>\n",
       "  <tbody>\n",
       "    <tr>\n",
       "      <th>100</th>\n",
       "      <td>101</td>\n",
       "      <td>Male</td>\n",
       "      <td>52</td>\n",
       "      <td>1</td>\n",
       "      <td>28.0</td>\n",
       "      <td>1</td>\n",
       "      <td>1-2 Year</td>\n",
       "      <td>No</td>\n",
       "      <td>36033.0</td>\n",
       "      <td>26.0</td>\n",
       "      <td>92</td>\n",
       "      <td>0</td>\n",
       "    </tr>\n",
       "  </tbody>\n",
       "</table>\n",
       "</div>"
      ],
      "text/plain": [
       "      id Gender Age Driving_License Region_Code Previously_Insured  \\\n",
       "100  101   Male  52               1        28.0                  1   \n",
       "\n",
       "    Vehicle_Age Vehicle_Damage Annual_Premium Policy_Sales_Channel Vintage  \\\n",
       "100    1-2 Year             No        36033.0                 26.0      92   \n",
       "\n",
       "    Response  \n",
       "100        0  "
      ]
     },
     "execution_count": 21,
     "metadata": {},
     "output_type": "execute_result"
    }
   ],
   "source": [
    "pd.DataFrame(df.loc[100]).T"
   ]
  },
  {
   "cell_type": "markdown",
   "metadata": {
    "ExecuteTime": {
     "end_time": "2024-03-05T16:30:49.545903Z",
     "start_time": "2024-03-05T16:30:49.541690Z"
    },
    "id": "NgR_2csiEgb9"
   },
   "source": [
    "Є ще одна функція iloc. Якщо loc виводить елемент з обраним індексом, то iloc виводить елемент з обраною позицією."
   ]
  },
  {
   "cell_type": "code",
   "execution_count": 22,
   "metadata": {
    "ExecuteTime": {
     "end_time": "2024-03-08T14:38:34.957069Z",
     "start_time": "2024-03-08T14:38:34.950195Z"
    },
    "id": "LRy9L-CAEgb9"
   },
   "outputs": [
    {
     "data": {
      "text/plain": [
       "id                           103\n",
       "Gender                    Female\n",
       "Age                           20\n",
       "Driving_License                1\n",
       "Region_Code                 30.0\n",
       "Previously_Insured             0\n",
       "Vehicle_Age             < 1 Year\n",
       "Vehicle_Damage               Yes\n",
       "Annual_Premium           33227.0\n",
       "Policy_Sales_Channel       160.0\n",
       "Vintage                       78\n",
       "Response                       0\n",
       "Name: 102, dtype: object"
      ]
     },
     "execution_count": 22,
     "metadata": {},
     "output_type": "execute_result"
    }
   ],
   "source": [
    "df[100:110:2].iloc[1]"
   ]
  },
  {
   "cell_type": "markdown",
   "metadata": {
    "id": "m-rsDFcMEgb-"
   },
   "source": [
    "А так буде помилка"
   ]
  },
  {
   "cell_type": "code",
   "execution_count": 23,
   "metadata": {
    "ExecuteTime": {
     "end_time": "2024-03-08T14:37:48.877502Z",
     "start_time": "2024-03-08T14:37:48.325805Z"
    },
    "id": "cHlxHOU4Egb-"
   },
   "outputs": [
    {
     "ename": "IndexError",
     "evalue": "single positional indexer is out-of-bounds",
     "output_type": "error",
     "traceback": [
      "\u001b[0;31m---------------------------------------------------------------------------\u001b[0m",
      "\u001b[0;31mIndexError\u001b[0m                                Traceback (most recent call last)",
      "Cell \u001b[0;32mIn[23], line 1\u001b[0m\n\u001b[0;32m----> 1\u001b[0m \u001b[43mdf\u001b[49m\u001b[43m[\u001b[49m\u001b[38;5;241;43m100\u001b[39;49m\u001b[43m:\u001b[49m\u001b[38;5;241;43m110\u001b[39;49m\u001b[43m:\u001b[49m\u001b[38;5;241;43m2\u001b[39;49m\u001b[43m]\u001b[49m\u001b[38;5;241;43m.\u001b[39;49m\u001b[43miloc\u001b[49m\u001b[43m[\u001b[49m\u001b[38;5;241;43m100\u001b[39;49m\u001b[43m]\u001b[49m\n",
      "File \u001b[0;32m/Library/Frameworks/Python.framework/Versions/3.13/lib/python3.13/site-packages/pandas/core/indexing.py:1191\u001b[0m, in \u001b[0;36m_LocationIndexer.__getitem__\u001b[0;34m(self, key)\u001b[0m\n\u001b[1;32m   1189\u001b[0m maybe_callable \u001b[38;5;241m=\u001b[39m com\u001b[38;5;241m.\u001b[39mapply_if_callable(key, \u001b[38;5;28mself\u001b[39m\u001b[38;5;241m.\u001b[39mobj)\n\u001b[1;32m   1190\u001b[0m maybe_callable \u001b[38;5;241m=\u001b[39m \u001b[38;5;28mself\u001b[39m\u001b[38;5;241m.\u001b[39m_check_deprecated_callable_usage(key, maybe_callable)\n\u001b[0;32m-> 1191\u001b[0m \u001b[38;5;28;01mreturn\u001b[39;00m \u001b[38;5;28;43mself\u001b[39;49m\u001b[38;5;241;43m.\u001b[39;49m\u001b[43m_getitem_axis\u001b[49m\u001b[43m(\u001b[49m\u001b[43mmaybe_callable\u001b[49m\u001b[43m,\u001b[49m\u001b[43m \u001b[49m\u001b[43maxis\u001b[49m\u001b[38;5;241;43m=\u001b[39;49m\u001b[43maxis\u001b[49m\u001b[43m)\u001b[49m\n",
      "File \u001b[0;32m/Library/Frameworks/Python.framework/Versions/3.13/lib/python3.13/site-packages/pandas/core/indexing.py:1752\u001b[0m, in \u001b[0;36m_iLocIndexer._getitem_axis\u001b[0;34m(self, key, axis)\u001b[0m\n\u001b[1;32m   1749\u001b[0m     \u001b[38;5;28;01mraise\u001b[39;00m \u001b[38;5;167;01mTypeError\u001b[39;00m(\u001b[38;5;124m\"\u001b[39m\u001b[38;5;124mCannot index by location index with a non-integer key\u001b[39m\u001b[38;5;124m\"\u001b[39m)\n\u001b[1;32m   1751\u001b[0m \u001b[38;5;66;03m# validate the location\u001b[39;00m\n\u001b[0;32m-> 1752\u001b[0m \u001b[38;5;28;43mself\u001b[39;49m\u001b[38;5;241;43m.\u001b[39;49m\u001b[43m_validate_integer\u001b[49m\u001b[43m(\u001b[49m\u001b[43mkey\u001b[49m\u001b[43m,\u001b[49m\u001b[43m \u001b[49m\u001b[43maxis\u001b[49m\u001b[43m)\u001b[49m\n\u001b[1;32m   1754\u001b[0m \u001b[38;5;28;01mreturn\u001b[39;00m \u001b[38;5;28mself\u001b[39m\u001b[38;5;241m.\u001b[39mobj\u001b[38;5;241m.\u001b[39m_ixs(key, axis\u001b[38;5;241m=\u001b[39maxis)\n",
      "File \u001b[0;32m/Library/Frameworks/Python.framework/Versions/3.13/lib/python3.13/site-packages/pandas/core/indexing.py:1685\u001b[0m, in \u001b[0;36m_iLocIndexer._validate_integer\u001b[0;34m(self, key, axis)\u001b[0m\n\u001b[1;32m   1683\u001b[0m len_axis \u001b[38;5;241m=\u001b[39m \u001b[38;5;28mlen\u001b[39m(\u001b[38;5;28mself\u001b[39m\u001b[38;5;241m.\u001b[39mobj\u001b[38;5;241m.\u001b[39m_get_axis(axis))\n\u001b[1;32m   1684\u001b[0m \u001b[38;5;28;01mif\u001b[39;00m key \u001b[38;5;241m>\u001b[39m\u001b[38;5;241m=\u001b[39m len_axis \u001b[38;5;129;01mor\u001b[39;00m key \u001b[38;5;241m<\u001b[39m \u001b[38;5;241m-\u001b[39mlen_axis:\n\u001b[0;32m-> 1685\u001b[0m     \u001b[38;5;28;01mraise\u001b[39;00m \u001b[38;5;167;01mIndexError\u001b[39;00m(\u001b[38;5;124m\"\u001b[39m\u001b[38;5;124msingle positional indexer is out-of-bounds\u001b[39m\u001b[38;5;124m\"\u001b[39m)\n",
      "\u001b[0;31mIndexError\u001b[0m: single positional indexer is out-of-bounds"
     ]
    }
   ],
   "source": [
    "df[100:110:2].iloc[100]"
   ]
  },
  {
   "cell_type": "markdown",
   "metadata": {
    "ExecuteTime": {
     "end_time": "2024-03-05T16:29:02.834486Z",
     "start_time": "2024-03-05T16:29:02.832076Z"
    },
    "id": "DK3xSxtWEgb-"
   },
   "source": [
    "## Колонки і їх типи"
   ]
  },
  {
   "cell_type": "markdown",
   "metadata": {
    "id": "hvLwtI6DEgb-"
   },
   "source": [
    "Наступний етап знайомства з дании - дізнатись, які у нас типи даних у колонках."
   ]
  },
  {
   "cell_type": "code",
   "execution_count": null,
   "metadata": {
    "ExecuteTime": {
     "end_time": "2024-03-08T14:39:46.087656Z",
     "start_time": "2024-03-08T14:39:46.081596Z"
    },
    "id": "KBt-HoL_Egb-"
   },
   "outputs": [],
   "source": [
    "df.dtypes"
   ]
  },
  {
   "cell_type": "markdown",
   "metadata": {
    "id": "29UtojcrEgb-"
   },
   "source": [
    "**Увага!** Тип колонки `object` dtype, який може містити будь-який об'єкт Python, включаючи рядки. Наприклад, може зберігати тип даних - список чи кортеж значень.\n",
    "\n",
    "Усі типи даних колонок можна переглянути тут: https://pandas.pydata.org/docs/user_guide/basics.html#dtypes"
   ]
  },
  {
   "cell_type": "markdown",
   "metadata": {
    "id": "qz5GjC5EEgb-"
   },
   "source": [
    "А так можна подивитися тільки на назви колонок, якщо треба. Зазвичай це часто використовується під час роботи з набором даних."
   ]
  },
  {
   "cell_type": "code",
   "execution_count": null,
   "metadata": {
    "ExecuteTime": {
     "end_time": "2024-03-08T14:39:39.644534Z",
     "start_time": "2024-03-08T14:39:39.640512Z"
    },
    "id": "cf2vEY9HEgb-"
   },
   "outputs": [],
   "source": [
    "df.columns"
   ]
  },
  {
   "cell_type": "markdown",
   "metadata": {
    "id": "LMSOgBgLEgb_"
   },
   "source": [
    "## Опис даних в колонках"
   ]
  },
  {
   "cell_type": "markdown",
   "metadata": {
    "id": "Z5wCoaxBEgb_"
   },
   "source": [
    "Ще один корисний метод для знайомства з даними.\n",
    "За допомогою методу `describe` можемо переглянути основні статистичні характеристики даних за кожною ознакою:   \n",
    "- число заповнених (не NaN) значень,\n",
    "- середнє,\n",
    "- стандартне відхилення,\n",
    "- діапазон,\n",
    "- медіану,\n",
    "- 0.25 і 0.75 квартилі (можна змінити набір персентилів)"
   ]
  },
  {
   "cell_type": "code",
   "execution_count": null,
   "metadata": {
    "ExecuteTime": {
     "end_time": "2024-03-08T14:43:38.774185Z",
     "start_time": "2024-03-08T14:43:38.529108Z"
    },
    "id": "6YOcrG_3Egb_"
   },
   "outputs": [],
   "source": [
    "df.describe()"
   ]
  },
  {
   "cell_type": "markdown",
   "metadata": {
    "id": "HPuSf9LuEgb_"
   },
   "source": [
    "Аби було зручніше переглядати, можемо змінити форматування відображення float даних:"
   ]
  },
  {
   "cell_type": "code",
   "execution_count": null,
   "metadata": {
    "ExecuteTime": {
     "end_time": "2024-03-08T14:46:19.868988Z",
     "start_time": "2024-03-08T14:46:19.717510Z"
    },
    "id": "41_l6dMWEgb_"
   },
   "outputs": [],
   "source": [
    "with pd.option_context(\"display.precision\", 2):\n",
    "    display(df.describe())"
   ]
  },
  {
   "cell_type": "markdown",
   "metadata": {
    "ExecuteTime": {
     "end_time": "2024-03-05T16:20:42.077092Z",
     "start_time": "2024-03-05T16:20:42.073534Z"
    },
    "code_folding": [],
    "id": "4O-NIchsEgb_"
   },
   "source": [
    "## Що таке персентилі і для чого вони потрібні?"
   ]
  },
  {
   "cell_type": "markdown",
   "metadata": {
    "id": "K1t37fypEgb_"
   },
   "source": [
    "Персентиль — це міра статистики, яка використовується для визначення значення, нижче якого падає певний відсоток спостережень у групі.\n",
    "\n",
    "Наприклад, якщо запис (обране значення з даних) потрапляє в 20-й процентиль, це означає, що 20 відсотків усіх наявних даних дорівнюють або нижчі за це значення.\n",
    "Якщо значення знаходиться в 90-му процентилі, це означає, що 90 відсотків усіх інших значень були рівними або нижчими за це значення. Тож, якщо ви отримаєте оцінку на тесті, яка є вище, ніж у 90% інших студентів, ваш результат вважається 90-м персентилем.\n",
    "\n",
    "У статистиці процентили знаходять, беручи великий набір числових даних, упорядковуючи їх у порядку зростання, а потім розділяючи на 100 груп з рівною кількістю точок даних. Кожна з 99 точок поділу називається процентилем набору даних.\n",
    "Візуалізація 10-го персентиля:"
   ]
  },
  {
   "cell_type": "markdown",
   "metadata": {
    "id": "-iSQI9lXEgb_"
   },
   "source": [
    "![](https://drive.google.com/uc?export=view&id=1VgDEjDLcAaPbIZVia6f8Fk_4x3Vt6MTr)"
   ]
  },
  {
   "cell_type": "markdown",
   "metadata": {
    "id": "VoYLjrZ3EgcA"
   },
   "source": [
    "![](https://drive.google.com/uc?export=view&id=1xrWwZmeIFehFn8yScioXr4G2vrVX59cg)"
   ]
  },
  {
   "cell_type": "markdown",
   "metadata": {
    "id": "gbB9jcC1EgcA"
   },
   "source": [
    "Персентилі при аналізі даних допомагають зрозуміти розподіл даних, відкринути викиди. Ми можемо налаштувати, які персентилі хочемо побачити"
   ]
  },
  {
   "cell_type": "code",
   "execution_count": null,
   "metadata": {
    "ExecuteTime": {
     "end_time": "2024-03-08T14:49:51.875289Z",
     "start_time": "2024-03-08T14:49:51.680250Z"
    },
    "id": "tuXUm_RLEgcA"
   },
   "outputs": [],
   "source": [
    "with pd.option_context(\"display.precision\", 2):\n",
    "    display(df.describe(percentiles=[0.01, 0.1, 0.2, 0.5, 0.7, 0.9, 0.99]))"
   ]
  },
  {
   "cell_type": "markdown",
   "metadata": {
    "id": "BQKjELXGEgcA"
   },
   "source": [
    "## Вибір колонок"
   ]
  },
  {
   "cell_type": "markdown",
   "metadata": {
    "id": "8GGENRJlEgcA"
   },
   "source": [
    "Щоб вибрати одну колонку датафрейма, ви можете використовувати синтаксис подібний до словника:"
   ]
  },
  {
   "cell_type": "code",
   "execution_count": null,
   "metadata": {
    "ExecuteTime": {
     "end_time": "2024-03-08T14:51:48.699243Z",
     "start_time": "2024-03-08T14:51:48.692732Z"
    },
    "id": "V-eYy2wBEgcA",
    "scrolled": true
   },
   "outputs": [],
   "source": [
    "df.columns"
   ]
  },
  {
   "cell_type": "code",
   "execution_count": null,
   "metadata": {
    "ExecuteTime": {
     "end_time": "2024-03-08T14:52:05.200120Z",
     "start_time": "2024-03-08T14:52:05.193241Z"
    },
    "id": "VdoD_7HjEgcA"
   },
   "outputs": [],
   "source": [
    "df['Gender']"
   ]
  },
  {
   "cell_type": "markdown",
   "metadata": {
    "id": "P3UESx7NEgcA"
   },
   "source": [
    "Ви також можете вибрати колонку через крапку (як атрибут інстанса класа датафрейма), але тільки якщо назва колонки складається з латинських літер, чисел і нижніх підкреслень.\n",
    "Перевага цього способу вибору колонки - тут працюють підказки."
   ]
  },
  {
   "cell_type": "code",
   "execution_count": null,
   "metadata": {
    "ExecuteTime": {
     "end_time": "2024-03-08T14:52:30.428115Z",
     "start_time": "2024-03-08T14:52:30.422259Z"
    },
    "id": "S2edHW9_EgcB"
   },
   "outputs": [],
   "source": [
    "df.Gender"
   ]
  },
  {
   "cell_type": "code",
   "execution_count": null,
   "metadata": {
    "ExecuteTime": {
     "end_time": "2024-03-05T16:35:33.152006Z",
     "start_time": "2024-03-05T16:35:33.146869Z"
    },
    "id": "ezMKJdi3EgcB"
   },
   "outputs": [],
   "source": [
    "df.Driving_License"
   ]
  },
  {
   "cell_type": "code",
   "execution_count": null,
   "metadata": {
    "ExecuteTime": {
     "end_time": "2024-03-08T14:52:59.886026Z",
     "start_time": "2024-03-08T14:52:59.882463Z"
    },
    "id": "7uvgc7P2EgcB"
   },
   "outputs": [],
   "source": [
    "df[\"Нова колонка\"] = 1"
   ]
  },
  {
   "cell_type": "code",
   "execution_count": null,
   "metadata": {
    "ExecuteTime": {
     "end_time": "2024-03-08T14:53:20.558374Z",
     "start_time": "2024-03-08T14:53:20.550360Z"
    },
    "id": "D4p3KlQoEgcB"
   },
   "outputs": [],
   "source": [
    "df['Нова колонка']"
   ]
  },
  {
   "cell_type": "code",
   "execution_count": null,
   "metadata": {
    "ExecuteTime": {
     "end_time": "2024-03-08T14:53:30.994283Z",
     "start_time": "2024-03-08T14:53:30.976486Z"
    },
    "id": "rh3VX5_nEgcB"
   },
   "outputs": [],
   "source": [
    "df.Нова колонка"
   ]
  },
  {
   "cell_type": "code",
   "execution_count": null,
   "metadata": {
    "ExecuteTime": {
     "end_time": "2024-03-08T14:54:06.900492Z",
     "start_time": "2024-03-08T14:54:06.809874Z"
    },
    "id": "D21ohfcLEgcB"
   },
   "outputs": [],
   "source": [
    "df.drop(columns=[\"Нова колонка\"], inplace=True)"
   ]
  },
  {
   "cell_type": "markdown",
   "metadata": {
    "ExecuteTime": {
     "end_time": "2024-03-05T16:37:49.841867Z",
     "start_time": "2024-03-05T16:37:49.838105Z"
    },
    "id": "dUqfvSYvEgcC"
   },
   "source": [
    "Щоб вибрати декілька колонок, передайте список з іменами колонок:"
   ]
  },
  {
   "cell_type": "code",
   "execution_count": null,
   "metadata": {
    "ExecuteTime": {
     "end_time": "2024-03-08T14:54:24.129623Z",
     "start_time": "2024-03-08T14:54:24.108203Z"
    },
    "id": "qVyKcmPbEgcC"
   },
   "outputs": [],
   "source": [
    "df[['Region_Code', 'Gender']]"
   ]
  },
  {
   "cell_type": "markdown",
   "metadata": {
    "id": "esFgFI0fEgcC"
   },
   "source": [
    "Увага! Щоразу після фільтрації у вас вертається pd.DataFrame або pd.Series (одна колонка). І ви можете далі робити з ними всі ті самі операції, що і над будь-яким датафреймом (наприклад, фільтрація, сортування, агрегація і тд). Можете також записати результат в нову змінну."
   ]
  },
  {
   "cell_type": "code",
   "execution_count": null,
   "metadata": {
    "ExecuteTime": {
     "end_time": "2024-03-08T14:57:17.093954Z",
     "start_time": "2024-03-08T14:57:17.081517Z"
    },
    "id": "HdHXIOpsEgcC"
   },
   "outputs": [],
   "source": [
    "df_selected_cols = df[['Region_Code', 'Gender', 'Age']]"
   ]
  },
  {
   "cell_type": "code",
   "execution_count": null,
   "metadata": {
    "ExecuteTime": {
     "end_time": "2024-03-08T14:57:19.501361Z",
     "start_time": "2024-03-08T14:57:19.491181Z"
    },
    "id": "Zs-IqmkiEgcC"
   },
   "outputs": [],
   "source": [
    "df_selected_cols"
   ]
  },
  {
   "cell_type": "code",
   "execution_count": null,
   "metadata": {
    "ExecuteTime": {
     "end_time": "2024-03-08T14:57:53.894601Z",
     "start_time": "2024-03-08T14:57:53.888460Z"
    },
    "id": "lOZbo4hqEgcC"
   },
   "outputs": [],
   "source": [
    "df_selected_cols[1000:1100]['Age'][0:10][0:5:2].astype(str)"
   ]
  },
  {
   "cell_type": "markdown",
   "metadata": {
    "id": "l-9q1p5uEgcC"
   },
   "source": [
    "## Перегляд значень в категоріальних колонках"
   ]
  },
  {
   "cell_type": "markdown",
   "metadata": {
    "id": "gNwcHzBvEgcC"
   },
   "source": [
    "Метод describe() автоматично спрацьовує для колонок з числовими значеннями, аби для дат. Для колонок з категоріальними значеннями (рядковими), можемо скористатись наступним."
   ]
  },
  {
   "cell_type": "markdown",
   "metadata": {
    "id": "pOmIsj-GEgcD"
   },
   "source": [
    "Для початку виберемо такі колонки."
   ]
  },
  {
   "cell_type": "code",
   "execution_count": null,
   "metadata": {
    "ExecuteTime": {
     "end_time": "2024-03-08T14:58:30.915618Z",
     "start_time": "2024-03-08T14:58:30.891627Z"
    },
    "id": "OBDM0FieEgcD"
   },
   "outputs": [],
   "source": [
    "df.select_dtypes('object')"
   ]
  },
  {
   "cell_type": "markdown",
   "metadata": {
    "id": "vxVvD3NFEgcD"
   },
   "source": [
    "Альтернативно обрати лише числові колонки ми можемо наступним чином:"
   ]
  },
  {
   "cell_type": "code",
   "execution_count": null,
   "metadata": {
    "ExecuteTime": {
     "end_time": "2024-03-08T14:58:42.610582Z",
     "start_time": "2024-03-08T14:58:42.579564Z"
    },
    "id": "T7jM9NNPEgcD"
   },
   "outputs": [],
   "source": [
    "df.select_dtypes('number')"
   ]
  },
  {
   "cell_type": "markdown",
   "metadata": {
    "id": "wvBFcNOYEgcD"
   },
   "source": [
    "Тож, нижче наші \"категоріальні\" колонки."
   ]
  },
  {
   "cell_type": "code",
   "execution_count": null,
   "metadata": {
    "ExecuteTime": {
     "end_time": "2024-03-08T14:59:36.969671Z",
     "start_time": "2024-03-08T14:59:36.952592Z"
    },
    "id": "06ulEAuLEgcD"
   },
   "outputs": [],
   "source": [
    "df.select_dtypes('object').columns"
   ]
  },
  {
   "cell_type": "markdown",
   "metadata": {
    "id": "HDTG0QESEgcD"
   },
   "source": [
    "Переглянемо униікальні значення в колонці."
   ]
  },
  {
   "cell_type": "code",
   "execution_count": null,
   "metadata": {
    "ExecuteTime": {
     "end_time": "2024-03-08T15:00:08.466507Z",
     "start_time": "2024-03-08T15:00:08.433435Z"
    },
    "id": "iKudG6ujEgcD"
   },
   "outputs": [],
   "source": [
    "df.Gender.unique()"
   ]
  },
  {
   "cell_type": "markdown",
   "metadata": {
    "ExecuteTime": {
     "end_time": "2024-03-05T17:41:11.250408Z",
     "start_time": "2024-03-05T17:41:11.245792Z"
    },
    "id": "rdZfx33bEgcD"
   },
   "source": [
    "Так можемо дізнатись, скільки в колонці унікальних значень."
   ]
  },
  {
   "cell_type": "code",
   "execution_count": null,
   "metadata": {
    "ExecuteTime": {
     "end_time": "2024-03-08T15:00:24.073066Z",
     "start_time": "2024-03-08T15:00:24.050785Z"
    },
    "id": "sh3ly6auEgcD"
   },
   "outputs": [],
   "source": [
    "df.Vehicle_Age.nunique()"
   ]
  },
  {
   "cell_type": "markdown",
   "metadata": {
    "id": "tFAcOZoZEgcE"
   },
   "source": [
    "А так можемо переглянути, скільки в колонці значень за кожною категорією."
   ]
  },
  {
   "cell_type": "code",
   "execution_count": null,
   "metadata": {
    "ExecuteTime": {
     "end_time": "2024-03-08T15:01:51.230012Z",
     "start_time": "2024-03-08T15:01:51.196774Z"
    },
    "id": "Iwy5om2GEgcE"
   },
   "outputs": [],
   "source": [
    "df.Vehicle_Age.value_counts()"
   ]
  },
  {
   "cell_type": "markdown",
   "metadata": {
    "id": "_z96IIipEgcE"
   },
   "source": [
    "Над Series ви легко можете виконувати операції. Наприклад, давайте знйдемо, який відсоток становить кожне значення."
   ]
  },
  {
   "cell_type": "code",
   "execution_count": null,
   "metadata": {
    "ExecuteTime": {
     "end_time": "2024-03-08T15:01:57.521043Z",
     "start_time": "2024-03-08T15:01:57.487235Z"
    },
    "id": "03qL05XcEgcE"
   },
   "outputs": [],
   "source": [
    "gender_counts = df.Gender.value_counts()"
   ]
  },
  {
   "cell_type": "code",
   "execution_count": null,
   "metadata": {
    "ExecuteTime": {
     "end_time": "2024-03-08T15:02:42.500580Z",
     "start_time": "2024-03-08T15:02:42.495356Z"
    },
    "id": "GQYxwtozEgcE"
   },
   "outputs": [],
   "source": [
    "gender_counts"
   ]
  },
  {
   "cell_type": "code",
   "execution_count": null,
   "metadata": {
    "ExecuteTime": {
     "end_time": "2024-03-08T15:02:48.849207Z",
     "start_time": "2024-03-08T15:02:48.841783Z"
    },
    "id": "ADKRzLoDEgcE"
   },
   "outputs": [],
   "source": [
    "gender_counts/gender_counts.sum()"
   ]
  },
  {
   "cell_type": "markdown",
   "metadata": {
    "id": "WkM5KfsqEgcE"
   },
   "source": [
    "Те саме ми могли б отримати викликом `value_counts` з аргументом `normalize=True`."
   ]
  },
  {
   "cell_type": "code",
   "execution_count": null,
   "metadata": {
    "ExecuteTime": {
     "end_time": "2024-03-08T15:03:36.058008Z",
     "start_time": "2024-03-08T15:03:36.020556Z"
    },
    "id": "Uuk2IM8REgcE"
   },
   "outputs": [],
   "source": [
    "df.Gender.value_counts(normalize=True)"
   ]
  },
  {
   "cell_type": "markdown",
   "metadata": {
    "id": "u0MfAZwuEgcE"
   },
   "source": [
    "До речі, арифметичні операції (додавання числа, віднімання числа, множення і делення на число) виконується в pd.Series для всіх рядків одразу, на відміну від списків, де нам треба скористатись циклом."
   ]
  },
  {
   "cell_type": "code",
   "execution_count": null,
   "metadata": {
    "ExecuteTime": {
     "end_time": "2024-03-08T15:03:50.129804Z",
     "start_time": "2024-03-08T15:03:50.126883Z"
    },
    "id": "7CBtY9psEgcE"
   },
   "outputs": [],
   "source": [
    "example = pd.Series(range(100))"
   ]
  },
  {
   "cell_type": "code",
   "execution_count": null,
   "metadata": {
    "ExecuteTime": {
     "end_time": "2024-03-08T15:03:55.493435Z",
     "start_time": "2024-03-08T15:03:55.487954Z"
    },
    "id": "x1M8rvrJEgcF"
   },
   "outputs": [],
   "source": [
    "example"
   ]
  },
  {
   "cell_type": "code",
   "execution_count": null,
   "metadata": {
    "ExecuteTime": {
     "end_time": "2024-03-08T15:04:02.797378Z",
     "start_time": "2024-03-08T15:04:02.791335Z"
    },
    "id": "7z-qhrf8EgcF"
   },
   "outputs": [],
   "source": [
    "example + 3"
   ]
  },
  {
   "cell_type": "code",
   "execution_count": null,
   "metadata": {
    "ExecuteTime": {
     "end_time": "2024-03-08T15:04:45.032123Z",
     "start_time": "2024-03-08T15:04:45.028844Z"
    },
    "id": "EpEZO3YTEgcF"
   },
   "outputs": [],
   "source": [
    "list_example = list(range(3))"
   ]
  },
  {
   "cell_type": "code",
   "execution_count": null,
   "metadata": {
    "ExecuteTime": {
     "end_time": "2024-03-08T15:04:21.128508Z",
     "start_time": "2024-03-08T15:04:21.125899Z"
    },
    "id": "51ue2uuSEgcF"
   },
   "outputs": [],
   "source": [
    "# list_example"
   ]
  },
  {
   "cell_type": "code",
   "execution_count": null,
   "metadata": {
    "ExecuteTime": {
     "end_time": "2024-03-08T15:05:01.087625Z",
     "start_time": "2024-03-08T15:05:01.080876Z"
    },
    "id": "SyT22CRGEgcF"
   },
   "outputs": [],
   "source": [
    "example * 5"
   ]
  },
  {
   "cell_type": "markdown",
   "metadata": {
    "id": "u2-c1PpSEgcF"
   },
   "source": [
    "В цьому - зручність роботи з даними на Pandas. **Тут для операцій над колонками вам цикли не треба.** Примайнмі, для простих операцій."
   ]
  },
  {
   "cell_type": "markdown",
   "metadata": {
    "id": "vvzIghVqEgcF"
   },
   "source": [
    "# Фільтрація даних"
   ]
  },
  {
   "cell_type": "markdown",
   "metadata": {
    "id": "8_MhBh1wEgcF"
   },
   "source": [
    "Фільтрація даних в Pandas — це потужний спосіб вибірки підмножини даних на основі однієї або декількох умов.\n",
    "Це може включати вибір рядків, які відповідають певним критеріям, або виключення даних, які не відповідають заданим умовам.\n",
    "Фільтрацію можна здійснювати за допомогою логічних операторів та булевих індексів, методів `.query()`, `.loc[]`, `.iloc[]`.\n",
    "\n",
    "## Використання логічних умов\n",
    "\n",
    "Для фільтрації за однією або декількома умовами можна використовувати логічні оператори (`&` для \"і\", `|` для \"або\", `~` для \"не\"). При цьому важливо обгортати кожну умову в круглі дужки. Наприклад, ми хочемо проаналізувати як рішення взяти страхування відрізняється між чоловіками різного віку. Переглянемо для початку, як розподілений вік чоловіків в наборі даних і порівняємо чоловіків віку між 25 і 75 перцентилями і решту."
   ]
  },
  {
   "cell_type": "code",
   "execution_count": null,
   "metadata": {
    "ExecuteTime": {
     "end_time": "2024-03-08T15:07:20.623918Z",
     "start_time": "2024-03-08T15:07:20.546882Z"
    },
    "id": "uf7Fi6QeEgcF",
    "scrolled": true
   },
   "outputs": [],
   "source": [
    "df[df.Gender =='Male'].Age.describe()"
   ]
  },
  {
   "cell_type": "code",
   "execution_count": null,
   "metadata": {
    "ExecuteTime": {
     "end_time": "2024-03-08T15:07:33.168018Z",
     "start_time": "2024-03-08T15:07:33.101480Z"
    },
    "id": "_dJ6vGA9EgcF"
   },
   "outputs": [],
   "source": [
    "df[df.Gender =='Female'].Age.describe()"
   ]
  },
  {
   "cell_type": "code",
   "execution_count": null,
   "metadata": {
    "ExecuteTime": {
     "end_time": "2024-03-06T15:17:43.487653Z",
     "start_time": "2024-03-06T15:17:43.480989Z"
    },
    "id": "BLAlfwQ4EgcF"
   },
   "outputs": [],
   "source": [
    "df.columns"
   ]
  },
  {
   "cell_type": "code",
   "execution_count": null,
   "metadata": {
    "ExecuteTime": {
     "end_time": "2024-03-08T15:08:05.853894Z",
     "start_time": "2024-03-08T15:08:05.802913Z"
    },
    "id": "NPYiXGPJEgcF"
   },
   "outputs": [],
   "source": [
    "filter_1 = (df.Gender =='Male') & (df.Age >= 26) & (df.Age <= 52)\n",
    "df[filter_1].Response.value_counts(normalize=True)"
   ]
  },
  {
   "cell_type": "code",
   "execution_count": null,
   "metadata": {
    "ExecuteTime": {
     "end_time": "2024-03-08T15:10:04.882313Z",
     "start_time": "2024-03-08T15:10:04.823965Z"
    },
    "id": "D22qAXqIEgcG"
   },
   "outputs": [],
   "source": [
    "filter_2 = (df.Gender =='Male') & ((df.Age < 26) | (df.Age > 52))\n",
    "df[filter_2].Response.value_counts(normalize=True)"
   ]
  },
  {
   "cell_type": "markdown",
   "metadata": {
    "id": "9D6WL7yuEgcG"
   },
   "source": [
    "Можемо побачити, що група чоловіків молодша 26 і старша 52 майже вдвічі рідше дають позитивне рішенння щодо страхування авто."
   ]
  },
  {
   "cell_type": "markdown",
   "metadata": {
    "id": "0yGADVvlEgcG"
   },
   "source": [
    "## Метод `.query()`\n",
    "\n",
    "Метод `.query()` дозволяє виконувати фільтрацію, використовуючи рядкові вирази. Це може бути зручніше для складних умов фільтрації - тоді умова є компактнішою."
   ]
  },
  {
   "cell_type": "code",
   "execution_count": null,
   "metadata": {
    "ExecuteTime": {
     "end_time": "2024-03-08T15:11:37.478105Z",
     "start_time": "2024-03-08T15:11:37.421802Z"
    },
    "id": "T52mlD8cEgcG"
   },
   "outputs": [],
   "source": [
    "df.query('Gender == \"Male\" & Age >= 26 & Age <= 52').Response.value_counts(normalize=True)"
   ]
  },
  {
   "cell_type": "code",
   "execution_count": null,
   "metadata": {
    "ExecuteTime": {
     "end_time": "2024-03-08T15:11:58.589742Z",
     "start_time": "2024-03-08T15:11:58.536745Z"
    },
    "id": "rErSahkMEgcG"
   },
   "outputs": [],
   "source": [
    "df.query('Gender ==\"Male\" & ((Age < 26) | (Age > 52))').Response.value_counts(normalize=True)"
   ]
  },
  {
   "cell_type": "markdown",
   "metadata": {
    "ExecuteTime": {
     "end_time": "2024-03-05T16:22:08.533084Z",
     "start_time": "2024-03-05T16:22:08.530508Z"
    },
    "id": "C2bLJ39jEgcG"
   },
   "source": [
    "# Сортування даних"
   ]
  },
  {
   "cell_type": "markdown",
   "metadata": {
    "id": "o5fIFYymEgcG"
   },
   "source": [
    "DataFrame можна відсортувати за значенням однієї або декількох ознак (колонок)."
   ]
  },
  {
   "cell_type": "code",
   "execution_count": null,
   "metadata": {
    "ExecuteTime": {
     "end_time": "2024-03-08T17:52:28.045767Z",
     "start_time": "2024-03-08T17:52:27.778991Z"
    },
    "id": "dYnfXyuaEgcG"
   },
   "outputs": [],
   "source": [
    "df.sort_values(by=\"Age\", ascending=False).head()"
   ]
  },
  {
   "cell_type": "markdown",
   "metadata": {
    "id": "zOsMGWbiEgcG"
   },
   "source": [
    "Зверніть увагу на індекси. Вони розташувались в порядку сортування."
   ]
  },
  {
   "cell_type": "markdown",
   "metadata": {
    "id": "25eKm64EEgcH"
   },
   "source": [
    "Для сорутвання за кількома колонками - передаємо їх списком."
   ]
  },
  {
   "cell_type": "code",
   "execution_count": null,
   "metadata": {
    "ExecuteTime": {
     "end_time": "2024-03-08T17:53:20.423483Z",
     "start_time": "2024-03-08T17:53:20.188366Z"
    },
    "id": "wgklJqEbEgcH"
   },
   "outputs": [],
   "source": [
    "df.sort_values(by=[\"Age\", \"Annual_Premium\"], ascending=[True, False]).head()"
   ]
  },
  {
   "cell_type": "markdown",
   "metadata": {
    "id": "QxodTQRUEgcH"
   },
   "source": [
    "Можемо також впорядкувати назви колонок або індекси."
   ]
  },
  {
   "cell_type": "code",
   "execution_count": null,
   "metadata": {
    "ExecuteTime": {
     "end_time": "2024-03-08T17:54:25.858207Z",
     "start_time": "2024-03-08T17:54:25.804691Z"
    },
    "id": "GXUjXBlXEgcH"
   },
   "outputs": [],
   "source": [
    "df.sort_index(axis=1).head()"
   ]
  },
  {
   "cell_type": "markdown",
   "metadata": {
    "ExecuteTime": {
     "end_time": "2024-03-05T16:51:26.381561Z",
     "start_time": "2024-03-05T16:51:26.378504Z"
    },
    "id": "t87I9c23EgcI"
   },
   "source": [
    "# Створення колонок і операції над колонками"
   ]
  },
  {
   "cell_type": "markdown",
   "metadata": {
    "id": "uFCMb2mcEgcI"
   },
   "source": [
    "Створити колонку - дуже просто. Просто пропишіть її назву в квадратних дужках і надайте значення."
   ]
  },
  {
   "cell_type": "code",
   "execution_count": null,
   "metadata": {
    "ExecuteTime": {
     "end_time": "2024-03-08T17:55:13.895001Z",
     "start_time": "2024-03-08T17:55:13.890577Z"
    },
    "id": "IMWJtkrbEgcI"
   },
   "outputs": [],
   "source": [
    "df['New col'] = 3/10"
   ]
  },
  {
   "cell_type": "code",
   "execution_count": null,
   "metadata": {
    "ExecuteTime": {
     "end_time": "2024-03-08T17:55:14.307034Z",
     "start_time": "2024-03-08T17:55:14.299027Z"
    },
    "id": "oGwPqyOgEgcI"
   },
   "outputs": [],
   "source": [
    "df['New col']"
   ]
  },
  {
   "cell_type": "markdown",
   "metadata": {
    "id": "1HZuI8HJEgcI"
   },
   "source": [
    "Ви можете також задати значення для кожного рядка і таким чином визначити колонку."
   ]
  },
  {
   "cell_type": "code",
   "execution_count": null,
   "metadata": {
    "ExecuteTime": {
     "end_time": "2024-03-08T17:55:25.066532Z",
     "start_time": "2024-03-08T17:55:24.771135Z"
    },
    "id": "DO38Nud4EgcJ"
   },
   "outputs": [],
   "source": [
    "import random\n",
    "values = [random.choice([1,2,3]) for _ in range(len(df))]"
   ]
  },
  {
   "cell_type": "code",
   "execution_count": null,
   "metadata": {
    "ExecuteTime": {
     "end_time": "2024-03-08T17:56:15.565345Z",
     "start_time": "2024-03-08T17:56:15.439278Z"
    },
    "id": "KeSoKC1eEgcJ"
   },
   "outputs": [],
   "source": [
    "df['random_category'] = values"
   ]
  },
  {
   "cell_type": "markdown",
   "metadata": {
    "id": "zLssrpDbEgcJ"
   },
   "source": [
    "Ви можете створити колонку на базі значень іншої колонки."
   ]
  },
  {
   "cell_type": "code",
   "execution_count": null,
   "metadata": {
    "ExecuteTime": {
     "end_time": "2024-03-08T17:56:39.553789Z",
     "start_time": "2024-03-08T17:56:39.543995Z"
    },
    "id": "rea0eD34EgcK"
   },
   "outputs": [],
   "source": [
    "df['new_cat'] = df.random_category + 1"
   ]
  },
  {
   "cell_type": "code",
   "execution_count": null,
   "metadata": {
    "ExecuteTime": {
     "end_time": "2024-03-08T17:56:57.483962Z",
     "start_time": "2024-03-08T17:56:57.471420Z"
    },
    "id": "RAx_-1eUEgcK"
   },
   "outputs": [],
   "source": [
    "df[['new_cat', 'random_category']]"
   ]
  },
  {
   "cell_type": "markdown",
   "metadata": {
    "id": "cpqa3SViEgcK"
   },
   "source": [
    "Логіка може бути будь-якою, але якщо вона складніша за прості операції - використовуємо apply. Метод apply в бібліотеці Pandas використовується для застосування функції вздовж осі DataFrame або на Series. Цей метод дуже потужний і гнучкий, оскільки він дозволяє виконувати складні операції над рядками або колонками.\n",
    "\n",
    "Розглянемо простий приклад:"
   ]
  },
  {
   "cell_type": "code",
   "execution_count": null,
   "metadata": {
    "ExecuteTime": {
     "end_time": "2024-03-08T17:45:53.412530Z",
     "start_time": "2024-03-08T17:45:53.321471Z"
    },
    "id": "VBKpqAtCEgcK"
   },
   "outputs": [],
   "source": [
    "df['new_cat'] = df.random_category.apply(lambda x: 'Small' if x<=1 else 'Big' )"
   ]
  },
  {
   "cell_type": "code",
   "execution_count": null,
   "metadata": {
    "ExecuteTime": {
     "end_time": "2024-03-08T17:45:54.404821Z",
     "start_time": "2024-03-08T17:45:54.384849Z"
    },
    "id": "uZYHuWTuEgcK"
   },
   "outputs": [],
   "source": [
    "df[['random_category', 'new_cat']].head()"
   ]
  },
  {
   "cell_type": "markdown",
   "metadata": {
    "ExecuteTime": {
     "end_time": "2024-03-05T18:04:14.023649Z",
     "start_time": "2024-03-05T18:04:14.020836Z"
    },
    "id": "gvCCsojUEgcK"
   },
   "source": [
    "## Lambda"
   ]
  },
  {
   "cell_type": "markdown",
   "metadata": {
    "id": "vlAsyXvEEgcK"
   },
   "source": [
    "Тут ми передали в apply lambda.\n",
    "Lambda в Python - це анонімна функція, або функція без імені. Вона є маленькою і зазвичай використовується для виконання простих операцій або функцій одноразового використання, де не потрібно використовувати повноцінну функцію з визначенням `def`.\n",
    "\n",
    "Lambda функції в Python визначаються за допомогою ключового слова `lambda` і мають наступний синтаксис:\n",
    "\n",
    "```python\n",
    "lambda arguments: expression\n",
    "```\n",
    "\n",
    "Основні особливості lambda функцій:\n",
    "\n",
    "- Lambda функція може приймати будь-яку кількість аргументів, але може містити тільки один вираз.\n",
    "- Вираз обчислюється і повертається при виклику lambda функції.\n",
    "- Lambda функції можуть бути використані всюди, де вимагається об'єкт функції.\n",
    "- Вони часто використовуються як аргументи для функцій вищого порядку, які приймають функцію як аргумент (наприклад, `map()`, `filter()`, `apply()` в Pandas і т.д.).\n",
    "\n",
    "Приклад lambda функції, яка додає 10 до поданого їй числа:"
   ]
  },
  {
   "cell_type": "code",
   "execution_count": null,
   "metadata": {
    "ExecuteTime": {
     "end_time": "2024-03-08T17:46:38.535216Z",
     "start_time": "2024-03-08T17:46:38.527749Z"
    },
    "id": "_zwN5ByPEgcK"
   },
   "outputs": [],
   "source": [
    "add_ten = lambda x, y: x + y + 10\n",
    "print(add_ten(5,2))"
   ]
  },
  {
   "cell_type": "code",
   "execution_count": null,
   "metadata": {
    "ExecuteTime": {
     "end_time": "2024-03-08T17:47:15.654064Z",
     "start_time": "2024-03-08T17:47:15.650697Z"
    },
    "id": "3Bvhge-6EgcL"
   },
   "outputs": [],
   "source": [
    "my_lambda = lambda x: 'Small' if x<=1 else 'Big'"
   ]
  },
  {
   "cell_type": "code",
   "execution_count": null,
   "metadata": {
    "ExecuteTime": {
     "end_time": "2024-03-08T17:47:28.089954Z",
     "start_time": "2024-03-08T17:47:28.085494Z"
    },
    "id": "JSYNa5txEgcL"
   },
   "outputs": [],
   "source": [
    "my_lambda(5)"
   ]
  },
  {
   "cell_type": "markdown",
   "metadata": {
    "id": "VL74ETfOEgcL"
   },
   "source": [
    "Lambda функції можна використовувати без присвоєння їх змінній, наприклад, використовувати їх безпосередньо як аргументи інших функцій:"
   ]
  },
  {
   "cell_type": "code",
   "execution_count": null,
   "metadata": {
    "ExecuteTime": {
     "end_time": "2024-03-08T17:48:28.109561Z",
     "start_time": "2024-03-08T17:48:28.103458Z"
    },
    "id": "8l_pNg1XEgcL"
   },
   "outputs": [],
   "source": [
    "numbers = [1, 2, 3, 4, 5]\n",
    "squared = map(lambda x: x ** 2, numbers)\n",
    "print(list(squared))"
   ]
  },
  {
   "cell_type": "markdown",
   "metadata": {
    "id": "kt_ziocnEgcL"
   },
   "source": [
    "Lambda функції корисні, коли потрібна проста функція для короткого використання і не хочеться визначати повноцінну функцію за допомогою `def`."
   ]
  },
  {
   "cell_type": "markdown",
   "metadata": {
    "id": "kCffVKYfEgcL"
   },
   "source": [
    "## Передача функції в `apply`"
   ]
  },
  {
   "cell_type": "markdown",
   "metadata": {
    "id": "tLSMnhDQEgcL"
   },
   "source": [
    "Якщо ви не можете вмістити логіку в один рядок, пишемо функцію."
   ]
  },
  {
   "cell_type": "code",
   "execution_count": null,
   "metadata": {
    "ExecuteTime": {
     "end_time": "2024-03-08T17:49:34.746527Z",
     "start_time": "2024-03-08T17:49:34.741781Z"
    },
    "id": "ktirHXewEgcL"
   },
   "outputs": [],
   "source": [
    "def category_mapping(val):\n",
    "    if val == 1:\n",
    "        return 'Small'\n",
    "    elif val == 2:\n",
    "        return 'Medium'\n",
    "    else:\n",
    "        return 'Large'"
   ]
  },
  {
   "cell_type": "code",
   "execution_count": null,
   "metadata": {
    "ExecuteTime": {
     "end_time": "2024-03-08T17:49:48.237010Z",
     "start_time": "2024-03-08T17:49:48.098310Z"
    },
    "id": "XDBDJeTFEgcL"
   },
   "outputs": [],
   "source": [
    "df['new_cat'] = df.random_category.apply(lambda x: category_mapping(x))\n",
    "df[['random_category', 'new_cat']].head()"
   ]
  },
  {
   "cell_type": "markdown",
   "metadata": {
    "id": "nlVPMW9UEgcL"
   },
   "source": [
    "Можна ще спростити синтаксис. Насправді, lambda нам тут вже не треба."
   ]
  },
  {
   "cell_type": "code",
   "execution_count": null,
   "metadata": {
    "ExecuteTime": {
     "end_time": "2024-03-08T17:50:26.209260Z",
     "start_time": "2024-03-08T17:50:26.104712Z"
    },
    "id": "8AomqObiEgcL"
   },
   "outputs": [],
   "source": [
    "df['new_cat'] = df.random_category.apply(category_mapping)\n",
    "df[['random_category', 'new_cat']].head()"
   ]
  },
  {
   "cell_type": "markdown",
   "metadata": {
    "id": "zR7wfFrvEgcM"
   },
   "source": [
    "## Порівняння колонок"
   ]
  },
  {
   "cell_type": "markdown",
   "metadata": {
    "id": "G-ieghNnEgcM"
   },
   "source": [
    "Коли ви порівнюєте колонку в DataFrame з певним значенням, Pandas повертає Series типу `bool`, де кожне значення показує, чи відповідає елемент в колонці заданому критерію порівняння."
   ]
  },
  {
   "cell_type": "code",
   "execution_count": null,
   "metadata": {
    "ExecuteTime": {
     "end_time": "2024-03-08T17:51:34.409808Z",
     "start_time": "2024-03-08T17:51:34.372021Z"
    },
    "id": "y2YlOGt4EgcM"
   },
   "outputs": [],
   "source": [
    "df['new_cat'] != 'Small'"
   ]
  },
  {
   "cell_type": "markdown",
   "metadata": {
    "ExecuteTime": {
     "end_time": "2024-03-05T20:26:22.686740Z",
     "start_time": "2024-03-05T20:26:22.681748Z"
    },
    "id": "JZ2yrK8sEgcM"
   },
   "source": [
    "Цей підхід також застосовується при порівнянні колонок між собою, але операція порівняння буде виконана успішно лише якщо колонки мають однакову довжину."
   ]
  },
  {
   "cell_type": "code",
   "execution_count": null,
   "metadata": {
    "ExecuteTime": {
     "end_time": "2024-03-08T17:51:50.263059Z",
     "start_time": "2024-03-08T17:51:50.256504Z"
    },
    "id": "Lp5cLvJ_EgcM"
   },
   "outputs": [],
   "source": [
    "df['new_cat_duplicate'] = df['new_cat']"
   ]
  },
  {
   "cell_type": "code",
   "execution_count": null,
   "metadata": {
    "ExecuteTime": {
     "end_time": "2024-03-08T17:51:53.867111Z",
     "start_time": "2024-03-08T17:51:53.810770Z"
    },
    "id": "gEyC-4dUEgcM"
   },
   "outputs": [],
   "source": [
    "df['new_cat_duplicate'] == df['new_cat']"
   ]
  },
  {
   "cell_type": "markdown",
   "metadata": {
    "id": "zmX2bvzlEgcN"
   },
   "source": [
    "Аби отримати результат перевірки на рівність колонок, використовуємо спеціальний метод numpy alltrue."
   ]
  },
  {
   "cell_type": "code",
   "execution_count": null,
   "metadata": {
    "ExecuteTime": {
     "end_time": "2024-03-08T17:52:49.520203Z",
     "start_time": "2024-03-08T17:52:49.476211Z"
    },
    "id": "RzMpPWozEgcN"
   },
   "outputs": [],
   "source": [
    "np.alltrue(df['new_cat_duplicate'] == df['new_cat'])"
   ]
  },
  {
   "cell_type": "markdown",
   "metadata": {
    "id": "PYW9RxS2EgcN"
   },
   "source": [
    "АЛЕ! Числові (з дійсними числами) колонки так порівнювати не варто, тому що:"
   ]
  },
  {
   "cell_type": "code",
   "execution_count": null,
   "metadata": {
    "ExecuteTime": {
     "end_time": "2024-03-08T17:53:00.115524Z",
     "start_time": "2024-03-08T17:53:00.102384Z"
    },
    "id": "OF96ID5WEgcN"
   },
   "outputs": [],
   "source": [
    "(0.1 + 0.2) == 0.3"
   ]
  },
  {
   "cell_type": "markdown",
   "metadata": {
    "id": "2cd_VcN4EgcN"
   },
   "source": [
    "Це пов'язано з тим, як числа з плаваючою комою представлені в комп'ютерній пам'яті. Комп'ютери використовують двійкову систему числення для зберігання даних, і через це виникають складнощі з точним представленням деяких десяткових дробів. Точно в компʼютері представляються лише дійсні числа, які є результатом ділення чцілого числа на інше ціле, яке є степенем двійки."
   ]
  },
  {
   "cell_type": "markdown",
   "metadata": {
    "id": "HOTelEUkEgcN"
   },
   "source": [
    "Дійсні числа в двійковій системі представляються за допомогою формату, званого числом з плаваючою комою (floating-point). Стандарт IEEE 754 є найбільш використовуваним способом представлення дійсних чисел у комп'ютерних системах.\n",
    "\n",
    "\n",
    "\n",
    "Для тих, хто хоче дізнатись, чому так ...\n",
    "\n",
    "Ось як відбувається двійкове представлення дійсних чисел в памʼяті компʼютера:\n",
    "\n",
    "1. **Нормалізоване двійкове наукове записання:**\n",
    "   Спершу число представляється у вигляді наукового записання. Наприклад, десяткове число 123.45 може бути записане як \\(1.2345 \\times 10^2\\) у десятковому вигляді, і подібним чином, в двійковій системі це може бути щось на кшталт \\(1.1111011 \\times 2^6\\).\n",
    "\n",
    "2. **Розділення на складові:**\n",
    "   Число з плаваючою комою розділяється на три частини: знак, експонента, та мантиса (або значущі цифри).\n",
    "   \n",
    "   - **Знак (Sign):** Одиночний біт визначає знак числа: 0 для позитивних та 1 для негативних чисел.\n",
    "   - **Експонента (Exponent):** Використовується для визначення ступеня для основи 2. Часто експонента зберігається як \"зміщена\" (biased) величина, щоб можна було представляти як додатні, так і від'ємні степені.\n",
    "   - **Мантиса (Mantissa) або Дробова частина (Fraction):** Це власне цифри (біти) числа. У нормалізованому форматі перший біт (який завжди 1 у нормалізованому числі) часто опускається, тому що він завжди відомий, що дозволяє зекономити місце.\n",
    "\n",
    "3. **Приклад двійкового представлення:**\n",
    "   Якщо уявити число 0.85 у двійковій системі, воно буде мати нескінченне представлення. У двійковій формі це може виглядати як \\(0.11011100001...\\) та так далі. Оскільки комп'ютери обмежені кількістю бітів, що можуть зберігати числа, це число буде обрізане/округлене до певної кількості бітів.\n",
    "\n",
    "4. **Округлення:**\n",
    "   Оскільки збереження точного значення дійсних чисел часто неможливе, використовуються різні методи округлення, щоб максимально наблизитися до дійсного значення в межах доступних бітів.\n",
    "\n",
    "5. **Приклади використання:**\n",
    "   - **32-бітне числа з плаваючою комою (одинарна точність):** Має 1 біт для знаку, 8 бітів для експоненти, та 23\n",
    "\n",
    " біти для мантиси.\n",
    "   - **64-бітне числа з плаваючою комою (подвійна точність):** Має 1 біт для знаку, 11 бітів для експоненти, та 52 біти для мантиси.\n",
    "\n",
    "Через ці обмеження і специфіку представлення, числа з плаваючою комою в комп'ютері можуть мати проблеми з точністю, які важливо розуміти при виконанні обчислень, особливо тих, що накопичують помилки округлення.\n",
    "\n",
    "Можемо на практиці спостерігати такий ефект:"
   ]
  },
  {
   "cell_type": "code",
   "execution_count": null,
   "metadata": {
    "ExecuteTime": {
     "end_time": "2024-03-08T17:54:58.805627Z",
     "start_time": "2024-03-08T17:54:58.792830Z"
    },
    "id": "Ndc2xLmTEgcN"
   },
   "outputs": [],
   "source": [
    "df['float_const_col_1'] = 0.1\n",
    "df['float_const_col_2'] = 0.2\n",
    "df['float_const_col_3'] = 0.3\n"
   ]
  },
  {
   "cell_type": "code",
   "execution_count": null,
   "metadata": {
    "ExecuteTime": {
     "end_time": "2024-03-08T17:55:05.133923Z",
     "start_time": "2024-03-08T17:55:05.123772Z"
    },
    "id": "tfUipR4zEgcN"
   },
   "outputs": [],
   "source": [
    "np.alltrue(df['float_const_col_1'] + df['float_const_col_2'] == df['float_const_col_3'] )"
   ]
  },
  {
   "cell_type": "markdown",
   "metadata": {
    "id": "FlclkoZ3EgcO"
   },
   "source": [
    "Аби його уникнути, при порівнянні дійсних чисел використовуємо np.isclose!"
   ]
  },
  {
   "cell_type": "code",
   "execution_count": null,
   "metadata": {
    "ExecuteTime": {
     "end_time": "2024-03-08T17:55:57.383963Z",
     "start_time": "2024-03-08T17:55:57.369241Z"
    },
    "id": "8Sh27y-REgcO"
   },
   "outputs": [],
   "source": [
    "np.alltrue(np.isclose(df['float_const_col_1'] + df['float_const_col_2'] , df['float_const_col_3'] ))"
   ]
  },
  {
   "cell_type": "code",
   "execution_count": null,
   "metadata": {
    "ExecuteTime": {
     "end_time": "2024-03-08T17:55:37.022767Z",
     "start_time": "2024-03-08T17:55:37.012664Z"
    },
    "id": "DIzOXOrrEgcO"
   },
   "outputs": [],
   "source": [
    "np.isclose(0.1 + 0.2, 0.3)"
   ]
  },
  {
   "cell_type": "markdown",
   "metadata": {
    "ExecuteTime": {
     "end_time": "2024-03-05T20:14:27.691283Z",
     "start_time": "2024-03-05T20:14:27.688489Z"
    },
    "id": "3JfBms7BEgcO"
   },
   "source": [
    "## Перетворення типу колонки"
   ]
  },
  {
   "cell_type": "markdown",
   "metadata": {
    "id": "hE45JQj5EgcO"
   },
   "source": [
    "В бібліотеці Pandas для зміни типу даних (dtype) елементів об'єкта DataFrame або Series використовується метод `astype`.\n",
    "Це може бути корисно, коли ви хочете перетворити типи даних з одного типу в інший, наприклад, з `float` в `int`, з `object` (рядки в Pandas) в `category` для оптимізації пам'яті, або коли вам потрібно змусити числові дані, що були прочитані як рядки через наявність в даних помилок, повернутися до відповідного числового формату.\n",
    "\n",
    "**Синтаксис**\n",
    "\n",
    "```python\n",
    "DataFrame.astype(dtype, copy=True, errors='raise')\n",
    "```\n",
    "\n",
    "- `dtype`: це може бути Python тип, numpy тип, або словник, де ключами є імена колонок, а значеннями - нові типи даних для цих колонок.\n",
    "- `copy`: якщо `True`, повертає копію DataFrame, інакше (за можливості) змінює оригінальний DataFrame.\n",
    "- `errors`: керує тим, що робити, якщо перетворення викликає помилку. Значеннями можуть бути 'raise' (підняти помилку), 'ignore' (ігнорувати помилки і повернути оригінальний об'єкт)."
   ]
  },
  {
   "cell_type": "code",
   "execution_count": null,
   "metadata": {
    "ExecuteTime": {
     "end_time": "2024-03-08T17:58:09.930447Z",
     "start_time": "2024-03-08T17:58:09.925261Z"
    },
    "id": "P182jQkXEgcO"
   },
   "outputs": [],
   "source": [
    "df.random_category.head()"
   ]
  },
  {
   "cell_type": "code",
   "execution_count": null,
   "metadata": {
    "ExecuteTime": {
     "end_time": "2024-03-08T17:58:20.895934Z",
     "start_time": "2024-03-08T17:58:20.676957Z"
    },
    "id": "o_kL3l2bEgcO"
   },
   "outputs": [],
   "source": [
    "df['random_category_str'] = df.random_category.astype(str)"
   ]
  },
  {
   "cell_type": "code",
   "execution_count": null,
   "metadata": {
    "ExecuteTime": {
     "end_time": "2024-03-08T17:58:22.413718Z",
     "start_time": "2024-03-08T17:58:22.392765Z"
    },
    "id": "ZLMCzzKDEgcP"
   },
   "outputs": [],
   "source": [
    "df[['random_category', 'random_category_str']].dtypes"
   ]
  },
  {
   "cell_type": "code",
   "execution_count": null,
   "metadata": {
    "ExecuteTime": {
     "end_time": "2024-03-08T17:58:47.533230Z",
     "start_time": "2024-03-08T17:58:47.527087Z"
    },
    "id": "hMEj5D5zEgcP"
   },
   "outputs": [],
   "source": [
    "type(df.random_category_str.loc[0])"
   ]
  },
  {
   "cell_type": "markdown",
   "metadata": {
    "ExecuteTime": {
     "end_time": "2024-03-05T20:21:02.645784Z",
     "start_time": "2024-03-05T20:21:02.638545Z"
    },
    "id": "JQS6ksvgEgcP"
   },
   "source": [
    "Тип даних `category` в Pandas — це спеціалізований тип даних для зберігання категоріальних даних. Категоріальні дані визначаються наявністю обмеженої кількості унікальних значень замість неперервного спектру значень. Цей тип даних є особливо корисним для аналізу даних, оскільки він може значно зменшити використання пам'яті, особливо коли категорій небагато порівняно з загальною кількістю спостережень, і може покращити продуктивність деяких операцій.\n",
    "\n",
    "**Особливості типу `category`**\n",
    "\n",
    "- **Ефективність використання пам'яті:** Зберігаючи дані як `category`, Pandas використовує менше пам'яті, особливо коли категорій мало порівняно з кількістю рядків. Всі унікальні значення зберігаються лише один раз, а в самому DataFrame або Series зберігається лише коди для кожного спостереження.\n",
    "- **Покращена продуктивність:** Деякі операції, такі як сортування, групування або виконання агрегацій, можуть працювати швидше на категоріальних даних через оптимізоване внутрішнє представлення.\n",
    "- **Логічне впорядкування:** Категоріальні дані можуть мати впорядкований (наприклад, \"низький\", \"середній\", \"високий\") або невпорядкований характер. Впорядковані категорії дозволяють виконувати порівняння.\n",
    "- **Підтримка категоріальних операцій:** Тип `category` дозволяє виконувати специфічні для категорій операції, такі як переіменування категорій, об'єднання категорій, встановлення порядку тощо."
   ]
  },
  {
   "cell_type": "code",
   "execution_count": null,
   "metadata": {
    "ExecuteTime": {
     "end_time": "2024-03-08T17:59:20.409490Z",
     "start_time": "2024-03-08T17:59:20.363675Z"
    },
    "id": "tbRYxYHfEgcP"
   },
   "outputs": [],
   "source": [
    "df['new_cat_cat'] = df.new_cat.astype('category')"
   ]
  },
  {
   "cell_type": "code",
   "execution_count": null,
   "metadata": {
    "ExecuteTime": {
     "end_time": "2024-03-08T17:59:57.463764Z",
     "start_time": "2024-03-08T17:59:57.399218Z"
    },
    "id": "d6W2l9q3EgcP"
   },
   "outputs": [],
   "source": [
    "df['new_cat_cat']"
   ]
  },
  {
   "cell_type": "markdown",
   "metadata": {
    "id": "x8UNCOn-EgcP"
   },
   "source": [
    "У цьому прикладі стовпець `color` містить повторювані значення, і перетворення його на тип `category` зменшить використання пам'яті, зберігши кожне унікальне значення лише один раз та використовуючи цілочисельні коди для представлення кожного спостереження в стовпці. Порівняти використання памʼяті ми вже вміємо."
   ]
  },
  {
   "cell_type": "code",
   "execution_count": null,
   "metadata": {
    "ExecuteTime": {
     "end_time": "2024-03-08T18:00:53.296936Z",
     "start_time": "2024-03-08T18:00:53.272759Z"
    },
    "id": "XSDccuqjEgcP"
   },
   "outputs": [],
   "source": [
    "df[['new_cat_cat', 'new_cat']].memory_usage()"
   ]
  },
  {
   "cell_type": "markdown",
   "metadata": {
    "id": "5GlSa2o6EgcP"
   },
   "source": [
    "## Агрегаційні операції над колонками"
   ]
  },
  {
   "cell_type": "markdown",
   "metadata": {
    "id": "FxSrRy5wEgcQ"
   },
   "source": [
    "Агрегаційні операції в Pandas використовуються для обчислення статистичних показників з даних, які містяться у DataFrame або Series. Ці операції дозволяють підсумувати велику кількість даних в одне значення, яке надає інформацію про групу даних загалом. Деякі з найбільш використовуваних агрегаційних функцій включають `mean()` для обчислення середнього, `sum()` для суми, `min()` і `max()` для мінімального і максимального значення, відповідно, а також `count()`, `std()` (стандартне відхилення), і `var()` (дисперсія).\n",
    "\n",
    "Коли використовуються агрегаційні функції, вони можуть застосовуватися як до цілого DataFrame, так і до окремих колонок.\n",
    "\n",
    "Наприклад, давайте обчислимо, який середній вік і стандартне відхилення віку в наборі даних?"
   ]
  },
  {
   "cell_type": "code",
   "execution_count": null,
   "metadata": {
    "ExecuteTime": {
     "end_time": "2024-03-08T18:02:28.752748Z",
     "start_time": "2024-03-08T18:02:28.729255Z"
    },
    "id": "AMSZpS3IEgcQ"
   },
   "outputs": [],
   "source": [
    "df.Age.mean(), df.Age.std()"
   ]
  },
  {
   "cell_type": "markdown",
   "metadata": {
    "id": "4BC8cEH7EgcQ"
   },
   "source": [
    "Аналогічно, ми можемо використати агрегаційну функцію одразу до кількох колонок (до всіх, або вибірки)."
   ]
  },
  {
   "cell_type": "code",
   "execution_count": null,
   "metadata": {
    "ExecuteTime": {
     "end_time": "2024-03-08T18:02:41.124347Z",
     "start_time": "2024-03-08T18:02:41.104258Z"
    },
    "id": "6sXaM4V7EgcQ"
   },
   "outputs": [],
   "source": [
    "df[['Age', 'Response']].mean()"
   ]
  },
  {
   "cell_type": "code",
   "execution_count": null,
   "metadata": {
    "ExecuteTime": {
     "end_time": "2024-03-08T18:02:52.269928Z",
     "start_time": "2024-03-08T18:02:52.235579Z"
    },
    "id": "G4xTGOimEgcQ"
   },
   "outputs": [],
   "source": [
    "df[['Age', 'Response']].mode()"
   ]
  },
  {
   "cell_type": "markdown",
   "metadata": {
    "id": "Ld_-S8KSEgcQ"
   },
   "source": [
    "Перелік всіх методів колонок можна знайти тут\n",
    "https://pandas.pydata.org/pandas-docs/stable/reference/groupby.html#seriesgroupby-computations-descriptive-stats\n",
    "\n",
    "Приклад \"менш стандартного\" метода колонки:"
   ]
  },
  {
   "cell_type": "code",
   "execution_count": null,
   "metadata": {
    "ExecuteTime": {
     "end_time": "2024-03-08T18:03:32.088413Z",
     "start_time": "2024-03-08T18:03:32.059486Z"
    },
    "id": "uoIT9F9VEgcR"
   },
   "outputs": [],
   "source": [
    "df.Age.nlargest(4)"
   ]
  },
  {
   "cell_type": "markdown",
   "metadata": {
    "id": "hnbm1nQbEgcR"
   },
   "source": [
    "## Використання методу `agg()`\n",
    "\n",
    "Метод `agg()` дозволяє застосувати кілька агрегаційних функцій одночасно до DataFrame або до окремих колонок. Це може бути особливо корисно для отримання різних статистичних показників одночасно."
   ]
  },
  {
   "cell_type": "code",
   "execution_count": null,
   "metadata": {
    "ExecuteTime": {
     "end_time": "2024-03-08T18:03:55.498645Z",
     "start_time": "2024-03-08T18:03:55.472363Z"
    },
    "id": "Q_zu9R0LEgcR"
   },
   "outputs": [],
   "source": [
    "df[['Age', 'Response']].agg(['mean', 'min', 'max']).round(3)"
   ]
  },
  {
   "cell_type": "markdown",
   "metadata": {
    "id": "rPfnpABrEgcR"
   },
   "source": [
    "# Видалення колонок"
   ]
  },
  {
   "cell_type": "markdown",
   "metadata": {
    "id": "MkGFhLy-EgcR"
   },
   "source": [
    "Видалити колонку так само просто - використовуємо метод drop."
   ]
  },
  {
   "cell_type": "code",
   "execution_count": null,
   "metadata": {
    "ExecuteTime": {
     "end_time": "2024-03-08T18:04:22.832011Z",
     "start_time": "2024-03-08T18:04:22.716411Z"
    },
    "id": "jtiJp2D6EgcR"
   },
   "outputs": [],
   "source": [
    "df.drop(columns=['random_category'])"
   ]
  },
  {
   "cell_type": "markdown",
   "metadata": {
    "ExecuteTime": {
     "end_time": "2024-03-05T17:53:54.966284Z",
     "start_time": "2024-03-05T17:53:54.961541Z"
    },
    "id": "Ed7_0L9CEgcR"
   },
   "source": [
    "Зверніть увагу! Метод повернув нам датафрейм. Це означає, що оригінальний датафрейм не був змінений і колонка ще на місці.\n",
    "Якщо ви хочете одразу внести зміни - використайте аргумент `inplace=True`. Інша опція - записати зміни в нову змінну."
   ]
  },
  {
   "cell_type": "code",
   "execution_count": null,
   "metadata": {
    "ExecuteTime": {
     "end_time": "2024-03-08T18:04:56.197322Z",
     "start_time": "2024-03-08T18:04:56.120534Z"
    },
    "id": "e7pNuVIdEgcR"
   },
   "outputs": [],
   "source": [
    "new_df = df.drop(columns=['random_category'])"
   ]
  },
  {
   "cell_type": "code",
   "execution_count": null,
   "metadata": {
    "ExecuteTime": {
     "end_time": "2024-03-08T18:05:06.495242Z",
     "start_time": "2024-03-08T18:05:06.488998Z"
    },
    "id": "rf_orpqFEgcR"
   },
   "outputs": [],
   "source": [
    "new_df.columns, df.columns"
   ]
  },
  {
   "cell_type": "code",
   "execution_count": null,
   "metadata": {
    "ExecuteTime": {
     "end_time": "2024-03-08T18:05:28.551761Z",
     "start_time": "2024-03-08T18:05:28.461843Z"
    },
    "id": "J7wRsK1HEgcR"
   },
   "outputs": [],
   "source": [
    " df.drop(columns=['random_category'], inplace=True)"
   ]
  },
  {
   "cell_type": "code",
   "execution_count": null,
   "metadata": {
    "ExecuteTime": {
     "end_time": "2024-03-08T18:05:29.672347Z",
     "start_time": "2024-03-08T18:05:29.665504Z"
    },
    "id": "k_1BAxRyEgcS",
    "scrolled": true
   },
   "outputs": [],
   "source": [
    "df.columns"
   ]
  },
  {
   "cell_type": "markdown",
   "metadata": {
    "ExecuteTime": {
     "end_time": "2024-03-05T20:03:39.094006Z",
     "start_time": "2024-03-05T20:03:39.087628Z"
    },
    "id": "Ee4I8u5hEgcS"
   },
   "source": [
    "До речі, в pandas є аргумент в деяких функціях `axis=1`, який завжди каже про те, що операції будуть виконуватись на рівні колонок. За замовченням у нас завжди операції виконуються на рівні рядочків (`axis=0`).\n",
    "Наприклад, так видалення не справцює, бо перший аргумент  df.drop() - це лейбл індекса, а пошук лейбла іде за індексами рядків за замовченням і там такого немає."
   ]
  },
  {
   "cell_type": "code",
   "execution_count": null,
   "metadata": {
    "ExecuteTime": {
     "end_time": "2024-03-08T23:02:04.734053Z",
     "start_time": "2024-03-08T23:02:02.096691Z"
    },
    "id": "tyCPM6TYEgcS"
   },
   "outputs": [],
   "source": [
    "df.drop('Annual_Premium').head()"
   ]
  },
  {
   "cell_type": "code",
   "execution_count": null,
   "metadata": {
    "ExecuteTime": {
     "end_time": "2024-03-08T23:02:46.461131Z",
     "start_time": "2024-03-08T23:02:46.365145Z"
    },
    "id": "if7ww0HQEgcS"
   },
   "outputs": [],
   "source": [
    "# а так спрацює, бо є відповідний індекс в рядках\n",
    "df.drop([0,1,4]).head()"
   ]
  },
  {
   "cell_type": "code",
   "execution_count": null,
   "metadata": {
    "ExecuteTime": {
     "end_time": "2024-03-08T23:03:16.120967Z",
     "start_time": "2024-03-08T23:03:16.036274Z"
    },
    "id": "cRWH2p_rEgcS"
   },
   "outputs": [],
   "source": [
    "# тож, аби видалити колонку, або зазначаємо аргумент columns=, або вказуємо axis=1\n",
    "df.drop('Annual_Premium', axis=1).head()"
   ]
  },
  {
   "cell_type": "markdown",
   "metadata": {
    "id": "PKbQC9MAEgcS"
   },
   "source": [
    "Аналогічно з усіма операціями, які можуть бути виконані як над рядками, так і над колонками.\n",
    "Наприклад, якщо ми хочемо зробити обчислення використовуючи кілька колонок, а не одну - завжди треба зазначати axis=1."
   ]
  },
  {
   "cell_type": "code",
   "execution_count": null,
   "metadata": {
    "ExecuteTime": {
     "end_time": "2024-03-08T23:04:52.063136Z",
     "start_time": "2024-03-08T23:04:52.057716Z"
    },
    "id": "HOJIsWAtEgcS"
   },
   "outputs": [],
   "source": [
    "df.columns"
   ]
  },
  {
   "cell_type": "code",
   "execution_count": null,
   "metadata": {
    "ExecuteTime": {
     "end_time": "2024-03-08T23:06:21.731262Z",
     "start_time": "2024-03-08T23:06:21.728403Z"
    },
    "id": "CgQwCmttEgcV"
   },
   "outputs": [],
   "source": [
    "def multicol_calculation(row):\n",
    "    return row['Age'] - row['Vintage']/365"
   ]
  },
  {
   "cell_type": "code",
   "execution_count": null,
   "metadata": {
    "ExecuteTime": {
     "end_time": "2024-03-08T23:06:28.393010Z",
     "start_time": "2024-03-08T23:06:24.353124Z"
    },
    "id": "VUDxAQFBEgcW"
   },
   "outputs": [],
   "source": [
    "df['complex_calcl_col'] = df.apply(multicol_calculation, axis=1)"
   ]
  },
  {
   "cell_type": "code",
   "execution_count": null,
   "metadata": {
    "ExecuteTime": {
     "end_time": "2024-03-08T23:06:43.108472Z",
     "start_time": "2024-03-08T23:06:43.101132Z"
    },
    "id": "32-dLSCiEgcW"
   },
   "outputs": [],
   "source": [
    "df['complex_calcl_col']"
   ]
  },
  {
   "cell_type": "markdown",
   "metadata": {
    "id": "IPw2yT_DEgcW"
   },
   "source": [
    "# Запис датафрейма у файл"
   ]
  },
  {
   "cell_type": "markdown",
   "metadata": {
    "id": "PRWl461NEgcW"
   },
   "source": [
    "Записувати датафрейм ми можемо в різні формати. Найчастіше ви будете записувати його в csv."
   ]
  },
  {
   "cell_type": "code",
   "execution_count": null,
   "metadata": {
    "ExecuteTime": {
     "end_time": "2024-03-08T23:10:20.280333Z",
     "start_time": "2024-03-08T23:10:20.065341Z"
    },
    "id": "wv_vSmYhEgcW"
   },
   "outputs": [],
   "source": [
    "df.sort_values('Age')[:10].to_csv('res_lecture_3.csv')"
   ]
  },
  {
   "cell_type": "code",
   "execution_count": null,
   "metadata": {
    "ExecuteTime": {
     "end_time": "2024-03-08T23:10:31.349067Z",
     "start_time": "2024-03-08T23:10:31.314864Z"
    },
    "id": "jm6ZKPEDEgcW"
   },
   "outputs": [],
   "source": [
    "pd.read_csv('res_lecture_3.csv', index_col=0)"
   ]
  },
  {
   "cell_type": "markdown",
   "metadata": {
    "id": "C8cZyz5JEgcX"
   },
   "source": [
    "Аби не записувалась колонка з індексом, пишемо наступним чином"
   ]
  },
  {
   "cell_type": "code",
   "execution_count": null,
   "metadata": {
    "ExecuteTime": {
     "end_time": "2024-03-08T23:09:21.460383Z",
     "start_time": "2024-03-08T23:09:17.482915Z"
    },
    "id": "Zu_CNEgwEgcX"
   },
   "outputs": [],
   "source": [
    "df.to_csv('res_lecture_3.csv', index=False)"
   ]
  },
  {
   "cell_type": "code",
   "execution_count": null,
   "metadata": {
    "ExecuteTime": {
     "end_time": "2024-03-08T23:09:32.311110Z",
     "start_time": "2024-03-08T23:09:32.280834Z"
    },
    "id": "lCFGXjpPEgcX"
   },
   "outputs": [],
   "source": [
    "pd.read_csv('res_lecture_3.csv', nrows=5)"
   ]
  }
 ],
 "metadata": {
  "anaconda-cloud": {},
  "colab": {
   "provenance": []
  },
  "kernelspec": {
   "display_name": "Python 3 (ipykernel)",
   "language": "python",
   "name": "python3"
  },
  "language_info": {
   "codemirror_mode": {
    "name": "ipython",
    "version": 3
   },
   "file_extension": ".py",
   "mimetype": "text/x-python",
   "name": "python",
   "nbconvert_exporter": "python",
   "pygments_lexer": "ipython3",
   "version": "3.13.1"
  },
  "name": "seminar02_part2_pandas.ipynb",
  "toc": {
   "base_numbering": 1,
   "nav_menu": {},
   "number_sections": true,
   "sideBar": true,
   "skip_h1_title": false,
   "title_cell": "Table of Contents",
   "title_sidebar": "Contents",
   "toc_cell": false,
   "toc_position": {
    "height": "calc(100% - 180px)",
    "left": "10px",
    "top": "150px",
    "width": "309.219px"
   },
   "toc_section_display": true,
   "toc_window_display": false
  }
 },
 "nbformat": 4,
 "nbformat_minor": 4
}
